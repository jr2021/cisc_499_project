{
 "cells": [
  {
   "cell_type": "markdown",
   "metadata": {},
   "source": [
    "### Install dependencies"
   ]
  },
  {
   "cell_type": "code",
   "execution_count": 1,
   "metadata": {},
   "outputs": [],
   "source": [
    "from jupyter_dash import JupyterDash\n",
    "import pandas as pd\n",
    "import numpy as np\n",
    "import app as app_file\n",
    "import setup as setup_file\n",
    "import pickle"
   ]
  },
  {
   "cell_type": "markdown",
   "metadata": {},
   "source": [
    "### Serve Jupyter Dash"
   ]
  },
  {
   "cell_type": "code",
   "execution_count": null,
   "metadata": {
    "pycharm": {
     "is_executing": true
    }
   },
   "outputs": [],
   "source": [
    "JupyterDash.infer_jupyter_proxy_config()"
   ]
  },
  {
   "cell_type": "markdown",
   "metadata": {},
   "source": [
    "### Define your static parameters"
   ]
  },
  {
   "cell_type": "code",
   "execution_count": 4,
   "metadata": {
    "pycharm": {
     "is_executing": true
    }
   },
   "outputs": [
    {
     "data": {
      "text/html": [
       "\n",
       "        <iframe\n",
       "            width=\"100%\"\n",
       "            height=\"650\"\n",
       "            src=\"http://127.0.0.1:8890/\"\n",
       "            frameborder=\"0\"\n",
       "            allowfullscreen\n",
       "        ></iframe>\n",
       "        "
      ],
      "text/plain": [
       "<IPython.lib.display.IFrame at 0x7fb09a1dfc70>"
      ]
     },
     "metadata": {},
     "output_type": "display_data"
    }
   ],
   "source": [
    "setup_applet = setup_file.create_app()\n",
    "setup_applet.run_server(mode='inline', port=8890)"
   ]
  },
  {
   "cell_type": "markdown",
   "metadata": {},
   "source": [
    "### View your sample population"
   ]
  },
  {
   "cell_type": "code",
   "execution_count": 5,
   "metadata": {},
   "outputs": [],
   "source": [
    "with open('configs.pkl', 'rb') as f:\n",
    "    configs = pickle.load(f)"
   ]
  },
  {
   "cell_type": "code",
   "execution_count": 6,
   "metadata": {},
   "outputs": [],
   "source": [
    "sample_pop = configs.rep.initialize()"
   ]
  },
  {
   "cell_type": "code",
   "execution_count": 7,
   "metadata": {},
   "outputs": [
    {
     "name": "stdout",
     "output_type": "stream",
     "text": [
      "[{'gene': array([5, 7, 4, 2, 0, 9, 1, 3, 8, 6]), 'fitness': array([0])}\n",
      " {'gene': array([9, 8, 1, 7, 5, 3, 0, 6, 2, 4]), 'fitness': array([0])}\n",
      " {'gene': array([4, 0, 2, 3, 9, 6, 8, 7, 5, 1]), 'fitness': array([0])}\n",
      " {'gene': array([4, 2, 1, 8, 9, 6, 5, 3, 7, 0]), 'fitness': array([0])}\n",
      " {'gene': array([9, 2, 6, 3, 4, 1, 7, 0, 5, 8]), 'fitness': array([0])}]\n"
     ]
    }
   ],
   "source": [
    "print(sample_pop)"
   ]
  },
  {
   "cell_type": "markdown",
   "metadata": {},
   "source": [
    "### Define your evaluation function\n",
    "\n",
    "Below is an example fitness evaluation function for the single-objective Traveling Salesman Problem (TSP)\n",
    "\n",
    "```\n",
    "def TSP(pop):\n",
    "    data = np.loadtxt('data.txt')\n",
    "\n",
    "    for ind in pop:\n",
    "        ind['fitness'][0] += data[0][ind['gene'][0]]\n",
    "        ind['fitness'][0] += np.array([data[ind['gene'][i - 1]][ind['gene'][i]] for i in range(1, config.len_gene)]).sum()\n",
    "        data[ind['gene'][-1]][0]\n",
    "\n",
    "    return pop\n",
    "```"
   ]
  },
  {
   "cell_type": "code",
   "execution_count": 10,
   "metadata": {
    "collapsed": false,
    "jupyter": {
     "outputs_hidden": false
    },
    "pycharm": {
     "name": "#%%\n"
    }
   },
   "outputs": [
    {
     "name": "stdout",
     "output_type": "stream",
     "text": [
      "[{'gene': array([5, 7, 4, 2, 0, 9, 1, 3, 8, 6]), 'fitness': array([5333])}\n",
      " {'gene': array([9, 8, 1, 7, 5, 3, 0, 6, 2, 4]), 'fitness': array([6680])}\n",
      " {'gene': array([4, 0, 2, 3, 9, 6, 8, 7, 5, 1]), 'fitness': array([5143])}\n",
      " {'gene': array([4, 2, 1, 8, 9, 6, 5, 3, 7, 0]), 'fitness': array([5423])}\n",
      " {'gene': array([9, 2, 6, 3, 4, 1, 7, 0, 5, 8]), 'fitness': array([5327])}]\n"
     ]
    }
   ],
   "source": [
    "def custom(pop):\n",
    "    data = np.loadtxt('data.txt')\n",
    "\n",
    "    for ind in pop:\n",
    "        ind['fitness'][0] += data[0][ind['gene'][0]]\n",
    "        ind['fitness'][0] += np.array([data[ind['gene'][i - 1]][ind['gene'][i]] for i in range(1, configs.gene_size)]).sum()\n",
    "        data[ind['gene'][-1]][0]\n",
    "\n",
    "    return pop\n",
    "\n",
    "sample_pop = custom(sample_pop)\n",
    "print(sample_pop)"
   ]
  },
  {
   "cell_type": "markdown",
   "metadata": {},
   "source": [
    "### Define a custom phenotypic representation"
   ]
  },
  {
   "cell_type": "code",
   "execution_count": null,
   "metadata": {},
   "outputs": [],
   "source": []
  },
  {
   "cell_type": "markdown",
   "metadata": {},
   "source": [
    "### Save your static configurations\n",
    "\n",
    "If you are satisfied with your evaluation function, save it to your configurations"
   ]
  },
  {
   "cell_type": "code",
   "execution_count": 12,
   "metadata": {},
   "outputs": [],
   "source": [
    "configs.fit_eval = custom"
   ]
  },
  {
   "cell_type": "markdown",
   "metadata": {},
   "source": [
    "### Run the application"
   ]
  },
  {
   "cell_type": "code",
   "execution_count": 6,
   "metadata": {},
   "outputs": [
    {
     "name": "stdout",
     "output_type": "stream",
     "text": [
      "Dash app running on http://127.0.0.1:1081/\n"
     ]
    }
   ],
   "source": [
    "app.run_server(port=1081)"
   ]
  },
  {
   "cell_type": "markdown",
   "metadata": {},
   "source": [
    "By default, `run_server` displays a URL that you can click on to open the app in a browser tab. The `mode` argument to `run_server` can be used to change this behavior.  Setting `mode=\"inline\"` will display the app directly in the notebook output cell."
   ]
  },
  {
   "cell_type": "markdown",
   "metadata": {},
   "source": [
    "When running in JupyterLab, with the `jupyterlab-dash` extension, setting `mode=\"jupyterlab\"` will open the app in a tab in JupyterLab.\n",
    "\n",
    "```python\n",
    "app.run_server(mode=\"jupyterlab\")\n",
    "```"
   ]
  },
  {
   "cell_type": "code",
   "execution_count": null,
   "metadata": {},
   "outputs": [],
   "source": []
  }
 ],
 "metadata": {
  "jupytext": {
   "formats": "ipynb,py:percent"
  },
  "kernelspec": {
   "display_name": "Python 3",
   "language": "python",
   "name": "python3"
  },
  "language_info": {
   "codemirror_mode": {
    "name": "ipython",
    "version": 3
   },
   "file_extension": ".py",
   "mimetype": "text/x-python",
   "name": "python",
   "nbconvert_exporter": "python",
   "pygments_lexer": "ipython3",
   "version": "3.8.2"
  }
 },
 "nbformat": 4,
 "nbformat_minor": 4
}
