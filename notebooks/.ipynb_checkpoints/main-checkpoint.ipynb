{
 "cells": [
  {
   "cell_type": "markdown",
   "metadata": {},
   "source": [
    "### Install dependencies"
   ]
  },
  {
   "cell_type": "code",
   "execution_count": 1,
   "metadata": {},
   "outputs": [],
   "source": [
    "from jupyter_dash import JupyterDash\n",
    "import pandas as pd\n",
    "import numpy as np\n",
    "from plotly import graph_objects as go\n",
    "import app as app_file\n",
    "import setup as setup_file\n",
    "import dash_core_components as dcc\n",
    "import pickle\n",
    "from Configuration import *"
   ]
  },
  {
   "cell_type": "markdown",
   "metadata": {},
   "source": [
    "### Serve Jupyter Dash"
   ]
  },
  {
   "cell_type": "code",
   "execution_count": null,
   "metadata": {
    "pycharm": {
     "is_executing": true
    }
   },
   "outputs": [],
   "source": [
    "JupyterDash.infer_jupyter_proxy_config()"
   ]
  },
  {
   "cell_type": "markdown",
   "metadata": {},
   "source": [
    "### Define your static parameters"
   ]
  },
  {
   "cell_type": "code",
   "execution_count": 4,
   "metadata": {
    "pycharm": {
     "is_executing": true
    }
   },
   "outputs": [
    {
     "data": {
      "text/html": [
       "\n",
       "        <iframe\n",
       "            width=\"100%\"\n",
       "            height=\"650\"\n",
       "            src=\"http://127.0.0.1:8050/\"\n",
       "            frameborder=\"0\"\n",
       "            allowfullscreen\n",
       "        ></iframe>\n",
       "        "
      ],
      "text/plain": [
       "<IPython.lib.display.IFrame at 0x7fe82898f880>"
      ]
     },
     "metadata": {},
     "output_type": "display_data"
    }
   ],
   "source": [
    "configs = Config()\n",
    "setup_applet = setup_file.create_app(configs)\n",
    "setup_applet.run_server(mode='inline')"
   ]
  },
  {
   "cell_type": "markdown",
   "metadata": {},
   "source": [
    "### View your sample population"
   ]
  },
  {
   "cell_type": "code",
   "execution_count": 5,
   "metadata": {
    "pycharm": {
     "name": "#%%\n"
    }
   },
   "outputs": [
    {
     "name": "stdout",
     "output_type": "stream",
     "text": [
      "[{'gene': array([11, 25, 61, 18, 49, 54, 88, 80, 74, 92, 94, 43, 22, 50, 76, 91,  4,\n",
      "        33, 81, 64, 42, 28, 63,  8, 41, 21, 46, 27, 44,  7, 71, 59, 30, 77,\n",
      "        39, 29, 35, 62, 95, 26, 34, 68, 40, 86, 58, 96, 38, 17,  3, 37, 55,\n",
      "        16, 52, 90, 72, 73, 57, 48, 82, 19, 45, 87, 89, 12, 47, 97, 60, 10,\n",
      "        32, 56, 98, 13, 23, 85, 24, 65, 70, 36, 99, 51,  6, 15, 53,  5,  0,\n",
      "         1, 93, 75, 84, 31, 14, 83,  2, 66, 78, 67,  9, 20, 79, 69]), 'fitness': array([0])}\n",
      " {'gene': array([32, 55, 18, 95,  3, 11, 14, 59, 71, 70, 76, 64, 25, 68, 53, 88, 52,\n",
      "         1, 24, 17, 12,  0, 89,  2, 65, 57, 38, 58, 93, 75, 74, 61, 90, 78,\n",
      "        47, 98, 96, 26, 28, 35, 21,  8, 31, 27,  9, 22, 33, 48, 82, 50, 42,\n",
      "        41, 86, 37,  4, 29, 44, 91, 81, 34, 45, 77, 19,  5, 85, 15, 62, 10,\n",
      "        80, 67, 94, 87, 30, 20, 39, 46, 56, 40,  7, 13, 66, 72,  6, 54, 79,\n",
      "        43, 63, 36, 83, 60, 69, 73, 49, 99, 23, 16, 84, 51, 92, 97]), 'fitness': array([0])}\n",
      " {'gene': array([90, 52, 79,  5, 44, 21, 63, 73, 55, 17, 66, 14,  4, 40, 35, 72, 10,\n",
      "        37, 19, 58, 85, 11, 24, 65, 92, 94, 93, 89, 83, 13, 97, 60, 20, 74,\n",
      "         2, 47, 76,  3, 43,  7, 91, 61, 15, 86, 77, 56, 75, 36, 54, 22, 59,\n",
      "        32, 67, 29, 81,  9, 45, 28,  0, 64, 42, 82, 48, 26, 57, 18, 53, 23,\n",
      "        80, 78, 98,  1, 51, 70, 33, 30,  6, 96, 38, 31, 41, 95, 16, 88, 71,\n",
      "        50, 34, 46, 49, 99, 39, 87, 62, 68, 69, 12, 25, 27, 84,  8]), 'fitness': array([0])}\n",
      " {'gene': array([51, 42, 24, 94, 54,  4, 63, 53, 22, 70, 44, 39, 71, 56, 92,  3, 80,\n",
      "        65, 61, 13, 85, 82, 72, 14, 79, 86, 50, 12, 98, 95, 93, 76, 52, 69,\n",
      "        83, 16, 19,  8, 18, 30, 35, 66, 25, 48, 17, 23, 74, 62, 20, 67, 89,\n",
      "        87, 31, 33,  0,  7, 43, 90,  1, 58, 47, 38, 68, 32, 57, 27, 77, 91,\n",
      "        37, 26, 41, 21, 99, 15,  2, 81, 46, 55, 73, 97, 36, 64, 59, 96, 60,\n",
      "        84, 29, 11, 88, 28, 49, 75,  9, 45, 78, 40, 10,  5,  6, 34]), 'fitness': array([0])}\n",
      " {'gene': array([35, 21, 25, 73, 15, 41, 94, 78, 26, 18,  6, 74, 46, 61, 84, 82, 99,\n",
      "        85, 16, 92, 76, 86, 93, 60, 95, 27, 56, 42,  8, 91, 80, 71,  7, 14,\n",
      "         1, 44, 64, 79, 50, 52, 37, 39, 53, 72, 17, 12, 59, 68, 28, 89,  3,\n",
      "        45, 34, 36, 69, 22, 65, 67, 77, 90, 10, 32, 33, 96, 62, 58, 81, 30,\n",
      "        57, 43,  2, 70, 55, 63, 23, 83, 24,  0, 40, 66, 29,  4,  9, 48, 49,\n",
      "        31, 19, 38, 88, 75, 54,  5, 51, 20, 87, 98, 97, 47, 13, 11]), 'fitness': array([0])}]\n"
     ]
    }
   ],
   "source": [
    "sample_pop = configs.enc.initialize()\n",
    "print(sample_pop)"
   ]
  },
  {
   "cell_type": "markdown",
   "metadata": {},
   "source": [
    "### Define your evaluation function\n",
    "\n",
    "Your evaluation function should update all fitness values of an individual ```ind```. For example, the evaluation function for the single-objective Traveling Salesman Problem is defined below.\n",
    "\n",
    "```\n",
    "def TSP(ind):\n",
    "    dist = np.loadtxt('dist.txt')\n",
    "\n",
    "    ind['fitness'][0] = dist[0][ind['gene'][0]] \n",
    "    + np.array([dist[ind['gene'][i - 1]][ind['gene'][i]] for i in range(1, configs.gene_size)]).sum() \n",
    "    + dist[ind['gene'][-1]][0]\n",
    "\n",
    "    return ind\n",
    "```"
   ]
  },
  {
   "cell_type": "code",
   "execution_count": 6,
   "metadata": {
    "collapsed": false,
    "jupyter": {
     "outputs_hidden": false
    },
    "pycharm": {
     "name": "#%%\n"
    }
   },
   "outputs": [],
   "source": [
    "def eval(pop):\n",
    "    dist = np.loadtxt('dist.txt')\n",
    "\n",
    "    for ind in pop:\n",
    "        ind['fitness'][0] = dist[0][ind['gene'][0]] + np.array([dist[ind['gene'][i - 1]][ind['gene'][i]] for i in range(1, configs.gene_size)]).sum() + dist[ind['gene'][-1]][0]\n",
    "\n",
    "    return pop"
   ]
  },
  {
   "cell_type": "code",
   "execution_count": 7,
   "metadata": {},
   "outputs": [
    {
     "name": "stdout",
     "output_type": "stream",
     "text": [
      "{'gene': array([11, 25, 61, 18, 49, 54, 88, 80, 74, 92, 94, 43, 22, 50, 76, 91,  4,\n",
      "       33, 81, 64, 42, 28, 63,  8, 41, 21, 46, 27, 44,  7, 71, 59, 30, 77,\n",
      "       39, 29, 35, 62, 95, 26, 34, 68, 40, 86, 58, 96, 38, 17,  3, 37, 55,\n",
      "       16, 52, 90, 72, 73, 57, 48, 82, 19, 45, 87, 89, 12, 47, 97, 60, 10,\n",
      "       32, 56, 98, 13, 23, 85, 24, 65, 70, 36, 99, 51,  6, 15, 53,  5,  0,\n",
      "        1, 93, 75, 84, 31, 14, 83,  2, 66, 78, 67,  9, 20, 79, 69]), 'fitness': array([53468])}\n"
     ]
    }
   ],
   "source": [
    "sample_ind = eval(sample_pop)\n",
    "print(sample_ind[0])"
   ]
  },
  {
   "cell_type": "markdown",
   "metadata": {},
   "source": [
    "### Define a custom Plotly figure to display an individual's phenotypic (high-level) representation\n",
    "\n",
    "For example, the phenotypic representation for a solution Traveling Salesman Problem is defined below as a graph network\n",
    "\n",
    "```\n",
    "def network(ind):\n",
    "    locs = np.loadtxt('loc.txt')  \n",
    "    \n",
    "    fig = go.Figure(data=[go.Scatter(x=[locs[0][0]] + [locs[0][ind['gene'][i]] for i in range(configs.gene_size)] + [locs[0][0]],\n",
    "                                     y=[locs[1][0]] + [locs[1][ind['gene'][i]] for i in range(configs.gene_size)] + [locs[1][0]],\n",
    "                                     mode='lines+markers')])\n",
    "    return fig\n",
    "```"
   ]
  },
  {
   "cell_type": "code",
   "execution_count": 8,
   "metadata": {},
   "outputs": [],
   "source": [
    "def custom(ind):\n",
    "    locs = np.loadtxt('loc.txt')  \n",
    "    \n",
    "    fig = go.Figure(data=[go.Scatter(x=[locs[0][0]] + [locs[0][ind['gene'][i]] for i in range(configs.gene_size)] + [locs[0][0]],\n",
    "                                     y=[locs[1][0]] + [locs[1][ind['gene'][i]] for i in range(configs.gene_size)] + [locs[1][0]],\n",
    "                                     mode='lines+markers')])\n",
    "    fig.update_layout(xaxis_title='Latitude', yaxis_title='Longitude',)\n",
    "    return fig"
   ]
  },
  {
   "cell_type": "markdown",
   "metadata": {},
   "source": [
    "### Save your static configurations\n",
    "\n",
    "If you are satisfied with your evaluation function and custom visualization, save it to your configurations"
   ]
  },
  {
   "cell_type": "code",
   "execution_count": 9,
   "metadata": {
    "pycharm": {
     "name": "#%%\n"
    }
   },
   "outputs": [],
   "source": [
    "configs.eval, configs.vis = eval, custom"
   ]
  },
  {
   "cell_type": "markdown",
   "metadata": {},
   "source": [
    "### Run the application"
   ]
  },
  {
   "cell_type": "code",
   "execution_count": 10,
   "metadata": {
    "collapsed": false,
    "jupyter": {
     "outputs_hidden": false
    },
    "pycharm": {
     "name": "#%%\n"
    }
   },
   "outputs": [
    {
     "name": "stdout",
     "output_type": "stream",
     "text": [
      "Dash app running on http://127.0.0.1:8050/\n"
     ]
    }
   ],
   "source": [
    "main_app = app_file.create_app(configs)\n",
    "main_app.run_server()"
   ]
  },
  {
   "cell_type": "code",
   "execution_count": null,
   "metadata": {},
   "outputs": [],
   "source": []
  }
 ],
 "metadata": {
  "jupytext": {
   "formats": "ipynb,py:percent"
  },
  "kernelspec": {
   "display_name": "Python 3",
   "language": "python",
   "name": "python3"
  },
  "language_info": {
   "codemirror_mode": {
    "name": "ipython",
    "version": 3
   },
   "file_extension": ".py",
   "mimetype": "text/x-python",
   "name": "python",
   "nbconvert_exporter": "python",
   "pygments_lexer": "ipython3",
   "version": "3.8.2"
  }
 },
 "nbformat": 4,
 "nbformat_minor": 4
}
