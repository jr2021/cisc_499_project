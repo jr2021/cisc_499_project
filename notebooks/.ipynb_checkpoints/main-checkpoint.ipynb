{
 "cells": [
  {
   "cell_type": "markdown",
   "metadata": {},
   "source": [
    "### Install dependencies"
   ]
  },
  {
   "cell_type": "code",
   "execution_count": 1,
   "metadata": {},
   "outputs": [],
   "source": [
    "from jupyter_dash import JupyterDash\n",
    "import pandas as pd\n",
    "import numpy as np\n",
    "from plotly import graph_objects as go\n",
    "import app as app_file\n",
    "import setup as setup_file\n",
    "import dash_core_components as dcc\n",
    "import pickle\n",
    "from configuration import Config"
   ]
  },
  {
   "cell_type": "markdown",
   "metadata": {},
   "source": [
    "### Serve Jupyter Dash"
   ]
  },
  {
   "cell_type": "code",
   "execution_count": null,
   "metadata": {
    "pycharm": {
     "is_executing": true
    }
   },
   "outputs": [],
   "source": [
    "JupyterDash.infer_jupyter_proxy_config()"
   ]
  },
  {
   "cell_type": "markdown",
   "metadata": {},
   "source": [
    "### Define your static parameters"
   ]
  },
  {
   "cell_type": "code",
   "execution_count": 4,
   "metadata": {
    "pycharm": {
     "is_executing": true
    }
   },
   "outputs": [
    {
     "data": {
      "text/html": [
       "\n",
       "        <iframe\n",
       "            width=\"100%\"\n",
       "            height=\"650\"\n",
       "            src=\"http://127.0.0.1:8050/\"\n",
       "            frameborder=\"0\"\n",
       "            allowfullscreen\n",
       "        ></iframe>\n",
       "        "
      ],
      "text/plain": [
       "<IPython.lib.display.IFrame at 0x7f83be41dd60>"
      ]
     },
     "metadata": {},
     "output_type": "display_data"
    }
   ],
   "source": [
    "configs = Config()\n",
    "setup_applet = setup_file.create_app(configs)\n",
    "setup_applet.run_server(mode='inline')"
   ]
  },
  {
   "cell_type": "markdown",
   "metadata": {},
   "source": [
    "### View your sample population"
   ]
  },
  {
   "cell_type": "code",
   "execution_count": 5,
   "metadata": {
    "pycharm": {
     "name": "#%%\n"
    }
   },
   "outputs": [
    {
     "name": "stdout",
     "output_type": "stream",
     "text": [
      "[{'gene': array([29, 25, 70,  9, 73, 32, 55, 90,  3, 81, 89, 10, 46, 11, 42, 50, 23,\n",
      "         1, 17, 16, 65, 13, 40, 53, 94, 18, 47, 61, 77,  6, 71, 97, 44, 69,\n",
      "        72, 38, 85, 51, 93, 82, 63, 68, 86, 96, 15, 87, 48, 92, 83, 27, 54,\n",
      "        20, 76, 35, 58, 59, 57, 28, 91, 88, 37,  2, 79, 62,  0, 34,  8, 39,\n",
      "        30, 56, 52, 66, 41, 31, 80, 36, 60, 95, 14, 75, 33, 22, 84, 43,  4,\n",
      "        49, 64, 99, 19, 26, 21, 74, 12, 67, 98, 24, 78,  5,  7, 45]), 'fitness': array([0]), 'meta': None}\n",
      " {'gene': array([35, 58, 75, 55, 68, 69, 91, 59, 54, 24, 42, 67, 87, 80, 20,  2,  1,\n",
      "        18, 85, 88, 49, 92, 15, 41, 60, 17, 19, 79, 12, 10,  4, 46, 62, 72,\n",
      "        95, 50, 47,  6, 29, 77, 94, 78, 32, 31, 61, 11, 51, 28, 22, 63, 33,\n",
      "        56,  3, 90, 25, 37, 64,  8, 36, 98, 96, 21, 38, 66,  5, 97, 76, 48,\n",
      "        43, 84, 57, 44, 23, 26,  7, 89, 74, 34, 13, 99, 82, 16, 86, 52, 83,\n",
      "         9, 73, 40, 39, 53, 81, 30, 93, 70,  0, 45, 71, 27, 65, 14]), 'fitness': array([0]), 'meta': None}\n",
      " {'gene': array([92, 69, 77, 94, 41, 95, 16, 47, 99,  0, 42, 58, 60, 55, 83, 18, 75,\n",
      "        84, 14, 88, 61, 56, 24, 26,  5, 68,  1,  7, 25, 49, 79, 37, 20, 34,\n",
      "        96, 81, 32, 43, 31, 59, 36, 53, 45,  4, 15, 74, 29, 57, 38, 21, 70,\n",
      "        87, 78, 17,  6, 80, 27, 13, 19,  2, 76, 66, 63, 52, 90, 12, 50,  8,\n",
      "        86, 71, 46, 22, 65, 54, 39, 62, 73, 89, 28, 85, 98, 97, 44, 35, 93,\n",
      "        33, 67, 11, 30, 10, 40,  9, 23, 72, 48, 64,  3, 82, 51, 91]), 'fitness': array([0]), 'meta': None}\n",
      " {'gene': array([58, 41, 23,  5, 51, 73, 38, 69, 20,  4, 36, 77, 48, 59, 85, 57, 30,\n",
      "        29, 99, 60, 21, 82, 92, 19, 40, 31, 71,  7, 50, 81, 12, 68, 16, 49,\n",
      "        24, 46, 42, 96, 25,  0, 45, 34, 65,  2, 78, 72, 52,  9, 74, 55, 66,\n",
      "        84, 63, 89, 27, 62, 13, 44, 98, 93, 35, 15, 53, 97, 76, 75, 32, 18,\n",
      "        86, 87, 61, 11, 54, 22,  8, 80, 64, 95, 17, 88, 14,  6,  3, 67, 43,\n",
      "        28, 10, 56, 70, 33, 26, 91, 79, 47, 39, 90, 94,  1, 37, 83]), 'fitness': array([0]), 'meta': None}\n",
      " {'gene': array([75,  4, 98, 97, 35,  0, 64, 49,  8, 50, 41, 31, 79, 70, 24, 96, 20,\n",
      "        26, 93, 89,  3, 16, 12,  1, 90, 92, 71, 65, 29, 80, 28, 87, 67, 61,\n",
      "        38, 19, 43, 10, 85, 51, 76, 48, 11, 95, 14, 73, 54, 56, 23, 47,  7,\n",
      "        17, 27, 68, 44, 91, 40, 39, 15, 36, 58, 21, 46,  6, 34, 77, 37, 88,\n",
      "        25, 78, 57, 52, 22, 53, 59,  9, 55, 86,  2, 45, 42, 81, 72, 30, 18,\n",
      "        94, 32, 66, 99, 62, 60, 84, 74, 33, 13, 69,  5, 83, 82, 63]), 'fitness': array([0]), 'meta': None}]\n"
     ]
    }
   ],
   "source": [
    "sample_pop = configs.params['enc_type'].initialize()\n",
    "print(sample_pop)"
   ]
  },
  {
   "cell_type": "markdown",
   "metadata": {},
   "source": [
    "### Define your evaluation function\n",
    "\n",
    "Your evaluation function should update all fitness values of an individual ```ind```. For example, the evaluation function for the single-objective Traveling Salesman Problem is defined below.\n",
    "\n",
    "```\n",
    "def eval(pop):\n",
    "    dist = np.loadtxt('dist.txt')\n",
    "\n",
    "    for ind in pop:\n",
    "        ind['fitness'][0] = dist[0][ind['gene'][0]] + np.array([dist[ind['gene'][i - 1]][ind['gene'][i]] for i in range(1, configs.gene_size)]).sum() + dist[ind['gene'][-1]][0]\n",
    "\n",
    "    return pop\n",
    "```"
   ]
  },
  {
   "cell_type": "code",
   "execution_count": 6,
   "metadata": {
    "collapsed": false,
    "jupyter": {
     "outputs_hidden": false
    },
    "pycharm": {
     "name": "#%%\n"
    }
   },
   "outputs": [],
   "source": [
    "def TSP(pop):\n",
    "    dist = np.loadtxt('dist.txt')\n",
    "\n",
    "    for ind in pop:\n",
    "        ind['fitness'][0] = dist[0][ind['gene'][0]] + np.array([dist[ind['gene'][i - 1]][ind['gene'][i]] for i in range(1, configs.params['gene_size'])]).sum() + dist[ind['gene'][-1]][0]\n",
    "\n",
    "    return pop"
   ]
  },
  {
   "cell_type": "code",
   "execution_count": 7,
   "metadata": {},
   "outputs": [
    {
     "name": "stdout",
     "output_type": "stream",
     "text": [
      "{'gene': array([29, 25, 70,  9, 73, 32, 55, 90,  3, 81, 89, 10, 46, 11, 42, 50, 23,\n",
      "        1, 17, 16, 65, 13, 40, 53, 94, 18, 47, 61, 77,  6, 71, 97, 44, 69,\n",
      "       72, 38, 85, 51, 93, 82, 63, 68, 86, 96, 15, 87, 48, 92, 83, 27, 54,\n",
      "       20, 76, 35, 58, 59, 57, 28, 91, 88, 37,  2, 79, 62,  0, 34,  8, 39,\n",
      "       30, 56, 52, 66, 41, 31, 80, 36, 60, 95, 14, 75, 33, 22, 84, 43,  4,\n",
      "       49, 64, 99, 19, 26, 21, 74, 12, 67, 98, 24, 78,  5,  7, 45]), 'fitness': array([50180]), 'meta': None}\n"
     ]
    }
   ],
   "source": [
    "sample_ind = TSP(sample_pop)\n",
    "print(sample_ind[0])"
   ]
  },
  {
   "cell_type": "markdown",
   "metadata": {},
   "source": [
    "### Define a custom Plotly figure to display an individual's phenotypic (high-level) representation\n",
    "\n",
    "For example, the phenotypic representation for a solution Traveling Salesman Problem is defined below as a graph network\n",
    "\n",
    "```\n",
    "def custom(ind):\n",
    "    locs = np.loadtxt('loc.txt')  \n",
    "    \n",
    "    fig = go.Figure(data=[go.Scatter(x=[locs[0][0]] + [locs[0][ind['gene'][i]] for i in range(configs.gene_size)] + [locs[0][0]],\n",
    "                                     y=[locs[1][0]] + [locs[1][ind['gene'][i]] for i in range(configs.gene_size)] + [locs[1][0]],\n",
    "                                     mode='lines+markers')])\n",
    "    fig.update_layout(xaxis_title='Latitude', yaxis_title='Longitude')\n",
    "    return fig\n",
    "```"
   ]
  },
  {
   "cell_type": "code",
   "execution_count": 8,
   "metadata": {},
   "outputs": [],
   "source": [
    "def network(ind):\n",
    "    locs = np.loadtxt('loc.txt')  \n",
    "    \n",
    "    fig = go.Figure(data=[go.Scatter(x=[locs[0][0]] + [locs[0][ind['gene'][i]] for i in range(configs.params['gene_size'])] + [locs[0][0]],\n",
    "                                     y=[locs[1][0]] + [locs[1][ind['gene'][i]] for i in range(configs.params['gene_size'])] + [locs[1][0]],\n",
    "                                     mode='lines+markers')])\n",
    "    fig.update_layout(xaxis_title='Latitude', yaxis_title='Longitude')\n",
    "    return fig"
   ]
  },
  {
   "cell_type": "markdown",
   "metadata": {},
   "source": [
    "### Save your static configurations\n",
    "\n",
    "If you are satisfied with your evaluation function and custom visualization, save it to your configurations"
   ]
  },
  {
   "cell_type": "code",
   "execution_count": 9,
   "metadata": {
    "pycharm": {
     "name": "#%%\n"
    }
   },
   "outputs": [],
   "source": [
    "configs.params['cust_eval'], configs.params['cust_vis'] = TSP, network"
   ]
  },
  {
   "cell_type": "markdown",
   "metadata": {},
   "source": [
    "### Run the application"
   ]
  },
  {
   "cell_type": "code",
   "execution_count": 10,
   "metadata": {
    "collapsed": false,
    "jupyter": {
     "outputs_hidden": false
    },
    "pycharm": {
     "name": "#%%\n"
    }
   },
   "outputs": [
    {
     "name": "stdout",
     "output_type": "stream",
     "text": [
      "Dash app running on http://127.0.0.1:8050/\n"
     ]
    }
   ],
   "source": [
    "main_app = app_file.create_app(configs)\n",
    "main_app.run_server()"
   ]
  },
  {
   "cell_type": "code",
   "execution_count": 12,
   "metadata": {},
   "outputs": [],
   "source": [
    "from single import Single\n",
    "from permutation import Perm\n",
    "configs.params['sel_type'] = Single(configs.params).tournament\n",
    "configs.params['rep_type'] = Single(configs.params).tournament\n",
    "configs.params['tourn_size'] = 16\n",
    "configs.params['enc_type'].params['rec_type'] = configs.params['enc_type'].Cross(configs.params).PMX"
   ]
  },
  {
   "cell_type": "code",
   "execution_count": null,
   "metadata": {},
   "outputs": [],
   "source": []
  }
 ],
 "metadata": {
  "jupytext": {
   "formats": "ipynb,py:percent"
  },
  "kernelspec": {
   "display_name": "Python 3",
   "language": "python",
   "name": "python3"
  },
  "language_info": {
   "codemirror_mode": {
    "name": "ipython",
    "version": 3
   },
   "file_extension": ".py",
   "mimetype": "text/x-python",
   "name": "python",
   "nbconvert_exporter": "python",
   "pygments_lexer": "ipython3",
   "version": "3.8.2"
  }
 },
 "nbformat": 4,
 "nbformat_minor": 4
}
