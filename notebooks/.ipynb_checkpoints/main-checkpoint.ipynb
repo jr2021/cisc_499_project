{
 "cells": [
  {
   "cell_type": "markdown",
   "metadata": {},
   "source": [
    "### Install dependencies"
   ]
  },
  {
   "cell_type": "code",
   "execution_count": 1,
   "metadata": {},
   "outputs": [],
   "source": [
    "from jupyter_dash import JupyterDash\n",
    "import pandas as pd\n",
    "import numpy as np\n",
    "from plotly import graph_objects as go\n",
    "import app as app_file\n",
    "import setup as setup_file\n",
    "import dash_core_components as dcc\n",
    "import pickle\n",
    "from Configuration import *"
   ]
  },
  {
   "cell_type": "markdown",
   "metadata": {},
   "source": [
    "### Serve Jupyter Dash"
   ]
  },
  {
   "cell_type": "code",
   "execution_count": null,
   "metadata": {
    "pycharm": {
     "is_executing": true
    }
   },
   "outputs": [],
   "source": [
    "JupyterDash.infer_jupyter_proxy_config()"
   ]
  },
  {
   "cell_type": "markdown",
   "metadata": {},
   "source": [
    "### Define your static parameters"
   ]
  },
  {
   "cell_type": "code",
   "execution_count": 4,
   "metadata": {
    "pycharm": {
     "is_executing": true
    }
   },
   "outputs": [
    {
     "data": {
      "text/html": [
       "\n",
       "        <iframe\n",
       "            width=\"100%\"\n",
       "            height=\"650\"\n",
       "            src=\"http://127.0.0.1:8050/\"\n",
       "            frameborder=\"0\"\n",
       "            allowfullscreen\n",
       "        ></iframe>\n",
       "        "
      ],
      "text/plain": [
       "<IPython.lib.display.IFrame at 0x7fdd293080a0>"
      ]
     },
     "metadata": {},
     "output_type": "display_data"
    }
   ],
   "source": [
    "configs = Config()\n",
    "setup_applet = setup_file.create_app(configs)\n",
    "setup_applet.run_server(mode='inline')"
   ]
  },
  {
   "cell_type": "markdown",
   "metadata": {},
   "source": [
    "### View your sample population"
   ]
  },
  {
   "cell_type": "code",
   "execution_count": 5,
   "metadata": {
    "pycharm": {
     "name": "#%%\n"
    }
   },
   "outputs": [
    {
     "name": "stdout",
     "output_type": "stream",
     "text": [
      "[{'gene': array([48, 43, 67, 93,  4, 71, 11, 37, 18, 57, 17, 38, 15, 41, 74, 76, 16,\n",
      "         7, 80, 98, 59, 22, 91, 21, 33,  5, 36, 28, 78,  2, 94, 82, 31, 20,\n",
      "        63, 62, 65, 96,  8, 53, 13, 60, 45, 88, 35, 50, 85, 97, 46, 42,  1,\n",
      "         9, 44, 83, 47, 66, 73, 40, 90, 12, 32, 14, 34, 95, 55, 84, 64, 54,\n",
      "         3, 99, 70, 56, 23, 69, 58, 79, 52,  6, 75, 25, 39, 29, 89,  0, 49,\n",
      "        77, 72, 24, 81, 86, 27, 92, 51, 87, 10, 19, 68, 61, 30, 26]), 'fitness': array([0])}\n",
      " {'gene': array([55, 35, 82, 39, 99, 37, 95, 22, 75, 69, 72, 70, 38, 63, 61, 30, 97,\n",
      "        33, 93, 86, 18, 84, 11, 24, 71, 60,  6, 16, 32, 83, 13, 90, 46, 14,\n",
      "        68, 23, 91, 42, 78,  9, 28, 85, 66, 94, 34, 19, 59, 79, 21, 81, 56,\n",
      "        57,  1, 74, 12,  5, 25,  8, 96, 87,  7,  3, 31, 53, 76, 36, 43, 45,\n",
      "        89, 98, 62, 48, 50, 17, 88, 40, 52, 44, 47,  2, 29, 77, 51, 92,  4,\n",
      "        27, 26, 49, 80, 15, 41,  0, 64, 65, 73, 10, 67, 54, 58, 20]), 'fitness': array([0])}\n",
      " {'gene': array([81, 74, 51, 47, 62, 76, 19, 61, 77, 50, 18, 87, 29, 72, 17, 68, 56,\n",
      "        27, 31,  1, 71, 42,  3, 78, 73, 32, 55, 34, 38, 90, 37, 28, 43,  0,\n",
      "        58, 89, 25, 36,  2, 67, 21, 14, 95, 84, 35, 22, 80, 44, 96, 92, 16,\n",
      "        65, 83, 63, 93, 33,  4, 97, 86, 12, 70, 94, 48, 69, 88,  5, 82, 13,\n",
      "         7, 59, 52, 40, 75, 41, 45, 26, 30, 39, 98, 99, 54,  8, 85, 49, 79,\n",
      "        66, 64, 91, 15, 23, 11,  9, 10, 24, 60, 57,  6, 20, 46, 53]), 'fitness': array([0])}\n",
      " {'gene': array([31, 95, 80,  1, 73, 40,  5, 74, 75, 47, 37, 51, 65, 90, 72, 81, 24,\n",
      "         7, 41, 43,  0, 21, 22, 16,  8,  4, 63, 92, 36, 28,  6, 12, 46, 82,\n",
      "        56, 13, 98, 23, 66, 94, 35, 69, 38, 59, 58, 26, 53, 25, 32, 68, 20,\n",
      "        93, 88, 57, 71, 18,  9, 48, 61, 44, 33, 79, 86, 42, 62, 60, 34, 30,\n",
      "        50, 14,  2,  3, 17, 83, 19, 96, 91, 45, 67, 70, 89, 39, 76, 84, 27,\n",
      "        99, 54, 78, 64, 55, 87, 97, 77, 10, 11, 49, 52, 15, 29, 85]), 'fitness': array([0])}\n",
      " {'gene': array([ 5, 33, 54, 27, 63, 79, 98, 13,  0, 88, 30, 50, 25, 19, 31, 62, 77,\n",
      "        84, 64,  1, 49, 17, 59, 14, 16, 39, 44, 52, 35,  9, 55, 58, 74, 47,\n",
      "        78, 85, 96, 24, 65, 40, 60, 38, 51, 69, 89, 94, 53, 68, 97, 45, 86,\n",
      "        43, 76, 72,  2, 48, 37, 12, 23, 87, 32, 22, 41, 92, 26, 28, 20, 18,\n",
      "        75, 93,  4, 56,  6, 46, 82, 95, 99,  3,  7, 36, 11, 57, 42, 21, 15,\n",
      "        81, 71, 61, 34, 10, 91, 70, 67, 90, 83, 66, 29, 73,  8, 80]), 'fitness': array([0])}]\n"
     ]
    }
   ],
   "source": [
    "sample_pop = configs.enc.initialize()\n",
    "print(sample_pop)"
   ]
  },
  {
   "cell_type": "markdown",
   "metadata": {},
   "source": [
    "### Define your evaluation function\n",
    "\n",
    "Below is an example fitness evaluation function for the single-objective Traveling Salesman Problem (TSP)\n",
    "\n",
    "```\n",
    "def TSP(ind):\n",
    "    dist = np.loadtxt('dist.txt')\n",
    "\n",
    "    ind['fitness'][0] += dist[0][ind['gene'][0]]\n",
    "    ind['fitness'][0] += np.array([dist[ind['gene'][i - 1]][ind['gene'][i]] for i in range(1, configs.gene_size)]).sum()\n",
    "    ind['fitness'][0] += dist[ind['gene'][-1]][0]\n",
    "\n",
    "    return ind\n",
    "```"
   ]
  },
  {
   "cell_type": "code",
   "execution_count": 6,
   "metadata": {
    "collapsed": false,
    "jupyter": {
     "outputs_hidden": false
    },
    "pycharm": {
     "name": "#%%\n"
    }
   },
   "outputs": [
    {
     "name": "stdout",
     "output_type": "stream",
     "text": [
      "{'gene': array([48, 43, 67, 93,  4, 71, 11, 37, 18, 57, 17, 38, 15, 41, 74, 76, 16,\n",
      "        7, 80, 98, 59, 22, 91, 21, 33,  5, 36, 28, 78,  2, 94, 82, 31, 20,\n",
      "       63, 62, 65, 96,  8, 53, 13, 60, 45, 88, 35, 50, 85, 97, 46, 42,  1,\n",
      "        9, 44, 83, 47, 66, 73, 40, 90, 12, 32, 14, 34, 95, 55, 84, 64, 54,\n",
      "        3, 99, 70, 56, 23, 69, 58, 79, 52,  6, 75, 25, 39, 29, 89,  0, 49,\n",
      "       77, 72, 24, 81, 86, 27, 92, 51, 87, 10, 19, 68, 61, 30, 26]), 'fitness': array([52805])}\n"
     ]
    }
   ],
   "source": [
    "def TSP(pop):\n",
    "    dist = np.loadtxt('dist.txt')\n",
    "\n",
    "    for ind in pop:\n",
    "        ind['fitness'][0] += dist[0][ind['gene'][0]]\n",
    "        ind['fitness'][0] += np.array([dist[ind['gene'][i - 1]][ind['gene'][i]] for i in range(1, configs.gene_size)]).sum()\n",
    "        ind['fitness'][0] += dist[ind['gene'][-1]][0]\n",
    "\n",
    "    return pop\n",
    "\n",
    "sample_pop = TSP(sample_pop)\n",
    "print(sample_pop[0])"
   ]
  },
  {
   "cell_type": "markdown",
   "metadata": {},
   "source": [
    "### Define a custom phenotypic representation"
   ]
  },
  {
   "cell_type": "code",
   "execution_count": 7,
   "metadata": {},
   "outputs": [
    {
     "name": "stdout",
     "output_type": "stream",
     "text": [
      "Figure({\n",
      "    'data': [{'mode': 'lines+markers',\n",
      "              'type': 'scatter',\n",
      "              'x': [48.0, 15.0, 98.0, 12.0, 77.0, 15.0, 5.0, 62.0, 23.0, 52.0,\n",
      "                    12.0, 93.0, 74.0, 87.0, 79.0, 11.0, 89.0, 97.0, 97.0, 28.0,\n",
      "                    85.0, 91.0, 56.0, 17.0, 43.0, 42.0, 72.0, 93.0, 21.0, 62.0,\n",
      "                    55.0, 77.0, 25.0, 5.0, 99.0, 17.0, 62.0, 83.0, 10.0, 59.0, 5.0,\n",
      "                    3.0, 58.0, 23.0, 62.0, 42.0, 18.0, 98.0, 94.0, 96.0, 17.0,\n",
      "                    28.0, 3.0, 31.0, 22.0, 32.0, 58.0, 30.0, 29.0, 90.0, 71.0,\n",
      "                    54.0, 10.0, 22.0, 86.0, 70.0, 23.0, 57.0, 94.0, 58.0, 1.0,\n",
      "                    86.0, 3.0, 87.0, 85.0, 41.0, 49.0, 32.0, 84.0, 78.0, 10.0,\n",
      "                    43.0, 13.0, 27.0, 48.0, 36.0, 13.0, 78.0, 34.0, 84.0, 11.0,\n",
      "                    12.0, 55.0, 82.0, 72.0, 32.0, 26.0, 74.0, 56.0, 70.0, 6.0,\n",
      "                    48.0],\n",
      "              'y': [84.0, 96.0, 67.0, 94.0, 49.0, 88.0, 36.0, 99.0, 100.0, 6.0,\n",
      "                    40.0, 55.0, 93.0, 82.0, 74.0, 25.0, 38.0, 32.0, 44.0, 57.0,\n",
      "                    28.0, 59.0, 69.0, 90.0, 21.0, 21.0, 29.0, 32.0, 28.0, 17.0,\n",
      "                    30.0, 19.0, 52.0, 35.0, 90.0, 97.0, 50.0, 25.0, 35.0, 89.0,\n",
      "                    51.0, 83.0, 67.0, 52.0, 60.0, 28.0, 11.0, 63.0, 59.0, 2.0,\n",
      "                    13.0, 36.0, 87.0, 83.0, 90.0, 65.0, 10.0, 5.0, 2.0, 11.0, 68.0,\n",
      "                    73.0, 51.0, 28.0, 55.0, 17.0, 26.0, 71.0, 74.0, 80.0, 16.0,\n",
      "                    52.0, 99.0, 12.0, 58.0, 99.0, 98.0, 39.0, 8.0, 87.0, 75.0, 6.0,\n",
      "                    75.0, 46.0, 84.0, 67.0, 3.0, 77.0, 33.0, 21.0, 67.0, 38.0,\n",
      "                    37.0, 81.0, 9.0, 78.0, 10.0, 85.0, 47.0, 54.0, 96.0, 84.0]}],\n",
      "    'layout': {'template': '...'}\n",
      "})\n"
     ]
    }
   ],
   "source": [
    "def network(ind):\n",
    "    locs = np.loadtxt('loc.txt')  \n",
    "    \n",
    "    fig = go.Figure(data=[go.Scatter(x=[locs[0][0]] + [locs[0][ind['gene'][i]] for i in range(configs.gene_size)] + [locs[0][0]],\n",
    "                                     y=[locs[1][0]] + [locs[1][ind['gene'][i]] for i in range(configs.gene_size)] + [locs[1][0]],\n",
    "                                     mode='lines+markers')])\n",
    "    return fig\n",
    "\n",
    "print(network(sample_pop[0]))"
   ]
  },
  {
   "cell_type": "markdown",
   "metadata": {},
   "source": [
    "### Save your static configurations\n",
    "\n",
    "If you are satisfied with your evaluation function and custom visualization, save it to your configurations"
   ]
  },
  {
   "cell_type": "code",
   "execution_count": 8,
   "metadata": {
    "pycharm": {
     "name": "#%%\n"
    }
   },
   "outputs": [],
   "source": [
    "configs.eval, configs.vis = TSP, network"
   ]
  },
  {
   "cell_type": "markdown",
   "metadata": {},
   "source": [
    "### Run the application"
   ]
  },
  {
   "cell_type": "code",
   "execution_count": 9,
   "metadata": {
    "collapsed": false,
    "jupyter": {
     "outputs_hidden": false
    },
    "pycharm": {
     "name": "#%%\n"
    }
   },
   "outputs": [
    {
     "name": "stdout",
     "output_type": "stream",
     "text": [
      "Dash app running on http://127.0.0.1:8050/\n"
     ]
    }
   ],
   "source": [
    "main_app = app_file.create_app(configs)\n",
    "main_app.run_server()"
   ]
  },
  {
   "cell_type": "code",
   "execution_count": null,
   "metadata": {},
   "outputs": [],
   "source": []
  }
 ],
 "metadata": {
  "jupytext": {
   "formats": "ipynb,py:percent"
  },
  "kernelspec": {
   "display_name": "Python 3",
   "language": "python",
   "name": "python3"
  },
  "language_info": {
   "codemirror_mode": {
    "name": "ipython",
    "version": 3
   },
   "file_extension": ".py",
   "mimetype": "text/x-python",
   "name": "python",
   "nbconvert_exporter": "python",
   "pygments_lexer": "ipython3",
   "version": "3.8.2"
  }
 },
 "nbformat": 4,
 "nbformat_minor": 4
}
