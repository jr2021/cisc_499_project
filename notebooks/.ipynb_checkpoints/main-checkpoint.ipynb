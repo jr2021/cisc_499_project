{
 "cells": [
  {
   "cell_type": "markdown",
   "metadata": {},
   "source": [
    "### Install dependencies"
   ]
  },
  {
   "cell_type": "code",
   "execution_count": 1,
   "metadata": {},
   "outputs": [],
   "source": [
    "from jupyter_dash import JupyterDash\n",
    "import pandas as pd\n",
    "import numpy as np\n",
    "from plotly import graph_objects as go\n",
    "import app as app_file\n",
    "import setup as setup_file\n",
    "import dash_core_components as dcc\n",
    "import pickle\n",
    "from configuration import Config\n",
    "from statistics import Statistics"
   ]
  },
  {
   "cell_type": "markdown",
   "metadata": {},
   "source": [
    "### Serve Jupyter Dash"
   ]
  },
  {
   "cell_type": "code",
   "execution_count": null,
   "metadata": {
    "pycharm": {
     "is_executing": true
    }
   },
   "outputs": [],
   "source": [
    "JupyterDash.infer_jupyter_proxy_config()"
   ]
  },
  {
   "cell_type": "markdown",
   "metadata": {},
   "source": [
    "### Define your static parameters"
   ]
  },
  {
   "cell_type": "code",
   "execution_count": 4,
   "metadata": {
    "pycharm": {
     "is_executing": true
    }
   },
   "outputs": [
    {
     "data": {
      "text/html": [
       "\n",
       "        <iframe\n",
       "            width=\"100%\"\n",
       "            height=\"650\"\n",
       "            src=\"http://127.0.0.1:8892/\"\n",
       "            frameborder=\"0\"\n",
       "            allowfullscreen\n",
       "        ></iframe>\n",
       "        "
      ],
      "text/plain": [
       "<IPython.lib.display.IFrame at 0x7ff96c428d00>"
      ]
     },
     "metadata": {},
     "output_type": "display_data"
    }
   ],
   "source": [
    "configs = Config()\n",
    "setup_applet = setup_file.create_app(configs)\n",
    "setup_applet.run_server(mode='inline', port=8892)"
   ]
  },
  {
   "cell_type": "markdown",
   "metadata": {},
   "source": [
    "### View your sample population"
   ]
  },
  {
   "cell_type": "code",
   "execution_count": null,
   "metadata": {
    "pycharm": {
     "name": "#%%\n"
    }
   },
   "outputs": [],
   "source": [
    "sample_pop = configs.params['enc_type'].initialize()\n",
    "print(sample_pop)"
   ]
  },
  {
   "cell_type": "markdown",
   "metadata": {},
   "source": [
    "### Define a custom evaluation function\n",
    "\n",
    "Your evaluation function should update all fitness values of an individual. The evaluation functions for the predefined problems can be found in ```evaluate.py```\n",
    "\n"
   ]
  },
  {
   "cell_type": "code",
   "execution_count": 6,
   "metadata": {
    "collapsed": false,
    "jupyter": {
     "outputs_hidden": false
    },
    "pycharm": {
     "name": "#%%\n"
    }
   },
   "outputs": [],
   "source": [
    "def custom(self, pop):\n",
    "    return pop"
   ]
  },
  {
   "cell_type": "code",
   "execution_count": null,
   "metadata": {},
   "outputs": [],
   "source": [
    "configs.params['eval_type'] = custom\n",
    "sample_pop = configs.params['eval_type'](configs, sample_pop)\n",
    "print(sample_pop[0])"
   ]
  },
  {
   "cell_type": "markdown",
   "metadata": {},
   "source": [
    "### Define a custom visualization\n",
    "\n",
    "Your visualization should be a graphical phenotype representation of an individual. Visualization functions for the predefined problems can be found in ```visualize.py```\n"
   ]
  },
  {
   "cell_type": "code",
   "execution_count": 7,
   "metadata": {},
   "outputs": [],
   "source": [
    "def custom(ind):\n",
    "    return go.Figure()"
   ]
  },
  {
   "cell_type": "code",
   "execution_count": 8,
   "metadata": {},
   "outputs": [],
   "source": [
    "configs.params['cust_vis'] = custom"
   ]
  },
  {
   "cell_type": "markdown",
   "metadata": {},
   "source": [
    "### Run the application"
   ]
  },
  {
   "cell_type": "code",
   "execution_count": 5,
   "metadata": {
    "collapsed": false,
    "jupyter": {
     "outputs_hidden": false
    },
    "pycharm": {
     "name": "#%%\n"
    }
   },
   "outputs": [
    {
     "name": "stdout",
     "output_type": "stream",
     "text": [
      "Dash app running on http://127.0.0.1:8892/\n"
     ]
    }
   ],
   "source": [
    "stats = Statistics(configs.params)\n",
    "main_app = app_file.create_app(configs, stats)\n",
    "main_app.run_server(port=8892)"
   ]
  },
  {
   "cell_type": "code",
   "execution_count": 11,
   "metadata": {},
   "outputs": [
    {
     "data": {
      "application/vnd.plotly.v1+json": {
       "config": {
        "plotlyServerURL": "https://plot.ly"
       },
       "data": [
        {
         "mode": "lines",
         "name": "Min. Value",
         "stackgroup": "0",
         "type": "scatter",
         "y": [
          10663,
          11088,
          11088,
          14001,
          14146,
          14457,
          13552,
          13552,
          13448,
          11567,
          11567,
          11567,
          11567,
          11567,
          13319,
          13319,
          13319,
          13626,
          13626,
          13626,
          13626,
          14037,
          14037,
          13980,
          13980,
          13980,
          13980,
          13980,
          14148,
          14148,
          14148,
          14148,
          14148,
          15612,
          15612,
          15612,
          16548,
          16689,
          16689,
          16689,
          17166,
          16557,
          16557,
          16557,
          16557,
          16557,
          16557,
          16557,
          16557,
          16557,
          16557,
          16557,
          16557,
          16557,
          16557,
          16557,
          16557,
          16557,
          16557,
          16557,
          16557,
          16557,
          15967,
          16209,
          16557,
          16557,
          16557,
          16798,
          16798,
          17779,
          17779,
          17779,
          17612,
          17612,
          17779,
          17779,
          17779,
          17779,
          17779,
          17779,
          17779,
          18308,
          18308,
          18308,
          18308,
          18500,
          19224,
          19224,
          18960,
          19224,
          19377,
          19377,
          19377,
          19377,
          19224,
          19416,
          19416,
          18613,
          18613,
          18613,
          17977,
          17977,
          18741,
          18375,
          18741,
          18741,
          18741,
          18741,
          19224,
          19416,
          19708,
          19224,
          19224,
          19224,
          19224,
          18822,
          18822,
          18822,
          18822,
          17953,
          17953,
          17953,
          18058,
          18058,
          18058,
          18058,
          18058,
          18058,
          18058,
          17485,
          18070,
          18070,
          18070,
          18070,
          19072,
          18792,
          18792,
          18792,
          18792,
          18138,
          18792,
          18792,
          18792,
          18792,
          19072,
          18633,
          18633,
          18381,
          18381,
          18381,
          18381,
          18381,
          18381,
          18792,
          18792,
          18792,
          17909,
          18792,
          18792,
          18600,
          18600,
          18600,
          18600,
          18600,
          18600,
          18600,
          18600,
          18462,
          18462,
          18390,
          18462,
          18462,
          18462,
          18462,
          18462,
          18462,
          18660,
          18660,
          18203,
          18203,
          18203,
          18203,
          18203,
          18136,
          17969,
          17969,
          17837,
          17837,
          17837,
          18822,
          18822,
          18746,
          18746,
          18746,
          18746,
          19072,
          19072,
          19135,
          19072,
          19072,
          18413,
          19072,
          19072,
          19224,
          19224,
          19224,
          18774,
          19394,
          18579,
          18579,
          18579,
          19777,
          19777,
          19311,
          19188,
          19188,
          19188,
          19188,
          19708,
          19708,
          18199,
          18199,
          19577,
          19223,
          19223,
          19054,
          18728,
          18205,
          18205,
          18205,
          18205,
          18205,
          18205,
          18205,
          18205,
          18205,
          18205,
          18205,
          18205,
          18205,
          18205,
          17990,
          17990,
          17990,
          18205,
          18223,
          18223,
          18223,
          18270,
          18270,
          17447,
          17447,
          17447,
          17447,
          17447,
          17447,
          17447,
          17447,
          17447,
          17447,
          17447,
          17447,
          17552,
          17552,
          17552,
          17552,
          17552,
          17552,
          17552,
          17552,
          17459,
          17046,
          17046,
          17046,
          17046,
          17723,
          17723,
          17693,
          17506,
          17506,
          17506,
          17082,
          17506,
          17441,
          16741,
          17693,
          17693,
          17506,
          17693,
          17693,
          17693,
          17693,
          17459,
          17541,
          17541,
          17541,
          17693,
          17693,
          17693,
          18457,
          18246,
          18246,
          18246,
          17427,
          17427,
          17915,
          17693,
          17693,
          17771,
          18126,
          16786,
          16786,
          16786,
          16786,
          16786,
          16786,
          16786,
          16786,
          16786,
          17693,
          17561,
          17561,
          16870,
          16870,
          16870,
          16870,
          16870,
          17254,
          17254,
          17254,
          16759,
          16243,
          16243,
          15374,
          16140,
          16140,
          16140,
          16140,
          16140,
          16140,
          16140,
          16140,
          16140,
          16140,
          16140,
          16140,
          16140,
          16840,
          16290,
          16840,
          16840,
          16840,
          16840,
          16840,
          17693,
          17693,
          16840,
          17604,
          16777,
          16840,
          16840,
          16840,
          16840,
          16840,
          16840,
          16840,
          16840,
          17363,
          17693,
          17693,
          17693,
          17693,
          16870,
          16870,
          16840,
          16700,
          16700,
          16700,
          16700,
          16700,
          16755,
          16755,
          16755,
          16755,
          16755,
          16755,
          16755,
          16755,
          16755,
          16755,
          16755,
          16755,
          16755,
          16777,
          16777,
          16777,
          16777,
          16777,
          16777,
          16777,
          17029,
          17029,
          17029,
          17029,
          17029,
          17029,
          17029,
          17029,
          17029,
          17029,
          17029,
          17029,
          17074,
          16654,
          16654,
          16654,
          17523,
          17523,
          17523,
          17523,
          17689,
          17689,
          17689,
          17689,
          17689,
          17689,
          17689,
          17689,
          17689,
          17050,
          17050,
          17050,
          17050,
          17050,
          17050,
          17050,
          17050,
          17050,
          17050,
          17050,
          17050,
          16777,
          17050,
          17050,
          17050
         ]
        },
        {
         "mode": "lines",
         "name": "Min. Weight",
         "stackgroup": "1",
         "type": "scatter",
         "y": [
          1069,
          1069,
          1069,
          882,
          882,
          882,
          882,
          882,
          724,
          627,
          622,
          622,
          622,
          622,
          622,
          622,
          622,
          618,
          618,
          618,
          618,
          618,
          618,
          618,
          618,
          618,
          618,
          618,
          647,
          647,
          647,
          647,
          647,
          683,
          683,
          683,
          764,
          792,
          792,
          792,
          796,
          746,
          746,
          746,
          746,
          746,
          746,
          746,
          746,
          746,
          746,
          746,
          746,
          746,
          746,
          746,
          746,
          746,
          746,
          746,
          746,
          746,
          720,
          708,
          746,
          746,
          746,
          761,
          761,
          818,
          818,
          818,
          796,
          796,
          818,
          818,
          818,
          818,
          818,
          818,
          818,
          866,
          866,
          866,
          866,
          890,
          947,
          947,
          933,
          947,
          958,
          958,
          958,
          958,
          947,
          971,
          971,
          892,
          892,
          892,
          839,
          839,
          905,
          866,
          905,
          905,
          905,
          905,
          947,
          971,
          985,
          947,
          947,
          947,
          947,
          909,
          909,
          909,
          909,
          844,
          844,
          844,
          843,
          843,
          843,
          843,
          843,
          843,
          843,
          794,
          856,
          856,
          856,
          856,
          932,
          904,
          904,
          904,
          904,
          852,
          904,
          904,
          904,
          904,
          932,
          896,
          896,
          875,
          875,
          875,
          875,
          875,
          875,
          904,
          904,
          904,
          843,
          904,
          904,
          900,
          900,
          900,
          900,
          900,
          900,
          900,
          900,
          878,
          878,
          873,
          878,
          878,
          878,
          878,
          878,
          878,
          902,
          902,
          867,
          867,
          867,
          867,
          867,
          865,
          832,
          832,
          830,
          830,
          830,
          909,
          909,
          902,
          902,
          902,
          902,
          932,
          932,
          936,
          932,
          932,
          881,
          932,
          932,
          947,
          947,
          947,
          905,
          965,
          911,
          911,
          911,
          1003,
          1003,
          986,
          972,
          972,
          972,
          972,
          985,
          985,
          975,
          975,
          984,
          950,
          950,
          933,
          903,
          852,
          852,
          852,
          852,
          852,
          852,
          852,
          852,
          852,
          852,
          852,
          852,
          852,
          852,
          839,
          839,
          839,
          852,
          851,
          851,
          851,
          867,
          867,
          795,
          795,
          795,
          795,
          795,
          795,
          795,
          795,
          795,
          795,
          795,
          795,
          794,
          794,
          794,
          794,
          794,
          794,
          794,
          794,
          785,
          785,
          785,
          785,
          785,
          812,
          812,
          807,
          801,
          801,
          801,
          752,
          801,
          786,
          774,
          807,
          807,
          801,
          807,
          807,
          807,
          807,
          785,
          792,
          792,
          792,
          807,
          807,
          807,
          873,
          863,
          863,
          863,
          797,
          797,
          836,
          807,
          807,
          829,
          846,
          775,
          775,
          775,
          775,
          775,
          775,
          775,
          775,
          775,
          807,
          805,
          805,
          735,
          735,
          735,
          735,
          735,
          778,
          778,
          778,
          727,
          696,
          696,
          631,
          686,
          686,
          686,
          686,
          686,
          686,
          686,
          686,
          686,
          686,
          686,
          686,
          686,
          730,
          712,
          730,
          730,
          730,
          730,
          730,
          807,
          807,
          730,
          796,
          726,
          730,
          730,
          730,
          730,
          730,
          730,
          730,
          730,
          781,
          807,
          807,
          807,
          807,
          735,
          735,
          730,
          721,
          721,
          721,
          721,
          721,
          731,
          731,
          731,
          731,
          731,
          731,
          731,
          731,
          731,
          731,
          731,
          731,
          731,
          726,
          726,
          726,
          726,
          726,
          726,
          726,
          777,
          777,
          777,
          777,
          777,
          777,
          777,
          777,
          777,
          777,
          777,
          777,
          776,
          728,
          728,
          728,
          793,
          793,
          793,
          793,
          822,
          822,
          822,
          822,
          822,
          822,
          822,
          822,
          822,
          757,
          757,
          757,
          757,
          757,
          757,
          757,
          757,
          757,
          757,
          757,
          757,
          726,
          757,
          757,
          757
         ]
        }
       ],
       "layout": {
        "template": {
         "data": {
          "bar": [
           {
            "error_x": {
             "color": "#2a3f5f"
            },
            "error_y": {
             "color": "#2a3f5f"
            },
            "marker": {
             "line": {
              "color": "#E5ECF6",
              "width": 0.5
             }
            },
            "type": "bar"
           }
          ],
          "barpolar": [
           {
            "marker": {
             "line": {
              "color": "#E5ECF6",
              "width": 0.5
             }
            },
            "type": "barpolar"
           }
          ],
          "carpet": [
           {
            "aaxis": {
             "endlinecolor": "#2a3f5f",
             "gridcolor": "white",
             "linecolor": "white",
             "minorgridcolor": "white",
             "startlinecolor": "#2a3f5f"
            },
            "baxis": {
             "endlinecolor": "#2a3f5f",
             "gridcolor": "white",
             "linecolor": "white",
             "minorgridcolor": "white",
             "startlinecolor": "#2a3f5f"
            },
            "type": "carpet"
           }
          ],
          "choropleth": [
           {
            "colorbar": {
             "outlinewidth": 0,
             "ticks": ""
            },
            "type": "choropleth"
           }
          ],
          "contour": [
           {
            "colorbar": {
             "outlinewidth": 0,
             "ticks": ""
            },
            "colorscale": [
             [
              0,
              "#0d0887"
             ],
             [
              0.1111111111111111,
              "#46039f"
             ],
             [
              0.2222222222222222,
              "#7201a8"
             ],
             [
              0.3333333333333333,
              "#9c179e"
             ],
             [
              0.4444444444444444,
              "#bd3786"
             ],
             [
              0.5555555555555556,
              "#d8576b"
             ],
             [
              0.6666666666666666,
              "#ed7953"
             ],
             [
              0.7777777777777778,
              "#fb9f3a"
             ],
             [
              0.8888888888888888,
              "#fdca26"
             ],
             [
              1,
              "#f0f921"
             ]
            ],
            "type": "contour"
           }
          ],
          "contourcarpet": [
           {
            "colorbar": {
             "outlinewidth": 0,
             "ticks": ""
            },
            "type": "contourcarpet"
           }
          ],
          "heatmap": [
           {
            "colorbar": {
             "outlinewidth": 0,
             "ticks": ""
            },
            "colorscale": [
             [
              0,
              "#0d0887"
             ],
             [
              0.1111111111111111,
              "#46039f"
             ],
             [
              0.2222222222222222,
              "#7201a8"
             ],
             [
              0.3333333333333333,
              "#9c179e"
             ],
             [
              0.4444444444444444,
              "#bd3786"
             ],
             [
              0.5555555555555556,
              "#d8576b"
             ],
             [
              0.6666666666666666,
              "#ed7953"
             ],
             [
              0.7777777777777778,
              "#fb9f3a"
             ],
             [
              0.8888888888888888,
              "#fdca26"
             ],
             [
              1,
              "#f0f921"
             ]
            ],
            "type": "heatmap"
           }
          ],
          "heatmapgl": [
           {
            "colorbar": {
             "outlinewidth": 0,
             "ticks": ""
            },
            "colorscale": [
             [
              0,
              "#0d0887"
             ],
             [
              0.1111111111111111,
              "#46039f"
             ],
             [
              0.2222222222222222,
              "#7201a8"
             ],
             [
              0.3333333333333333,
              "#9c179e"
             ],
             [
              0.4444444444444444,
              "#bd3786"
             ],
             [
              0.5555555555555556,
              "#d8576b"
             ],
             [
              0.6666666666666666,
              "#ed7953"
             ],
             [
              0.7777777777777778,
              "#fb9f3a"
             ],
             [
              0.8888888888888888,
              "#fdca26"
             ],
             [
              1,
              "#f0f921"
             ]
            ],
            "type": "heatmapgl"
           }
          ],
          "histogram": [
           {
            "marker": {
             "colorbar": {
              "outlinewidth": 0,
              "ticks": ""
             }
            },
            "type": "histogram"
           }
          ],
          "histogram2d": [
           {
            "colorbar": {
             "outlinewidth": 0,
             "ticks": ""
            },
            "colorscale": [
             [
              0,
              "#0d0887"
             ],
             [
              0.1111111111111111,
              "#46039f"
             ],
             [
              0.2222222222222222,
              "#7201a8"
             ],
             [
              0.3333333333333333,
              "#9c179e"
             ],
             [
              0.4444444444444444,
              "#bd3786"
             ],
             [
              0.5555555555555556,
              "#d8576b"
             ],
             [
              0.6666666666666666,
              "#ed7953"
             ],
             [
              0.7777777777777778,
              "#fb9f3a"
             ],
             [
              0.8888888888888888,
              "#fdca26"
             ],
             [
              1,
              "#f0f921"
             ]
            ],
            "type": "histogram2d"
           }
          ],
          "histogram2dcontour": [
           {
            "colorbar": {
             "outlinewidth": 0,
             "ticks": ""
            },
            "colorscale": [
             [
              0,
              "#0d0887"
             ],
             [
              0.1111111111111111,
              "#46039f"
             ],
             [
              0.2222222222222222,
              "#7201a8"
             ],
             [
              0.3333333333333333,
              "#9c179e"
             ],
             [
              0.4444444444444444,
              "#bd3786"
             ],
             [
              0.5555555555555556,
              "#d8576b"
             ],
             [
              0.6666666666666666,
              "#ed7953"
             ],
             [
              0.7777777777777778,
              "#fb9f3a"
             ],
             [
              0.8888888888888888,
              "#fdca26"
             ],
             [
              1,
              "#f0f921"
             ]
            ],
            "type": "histogram2dcontour"
           }
          ],
          "mesh3d": [
           {
            "colorbar": {
             "outlinewidth": 0,
             "ticks": ""
            },
            "type": "mesh3d"
           }
          ],
          "parcoords": [
           {
            "line": {
             "colorbar": {
              "outlinewidth": 0,
              "ticks": ""
             }
            },
            "type": "parcoords"
           }
          ],
          "pie": [
           {
            "automargin": true,
            "type": "pie"
           }
          ],
          "scatter": [
           {
            "marker": {
             "colorbar": {
              "outlinewidth": 0,
              "ticks": ""
             }
            },
            "type": "scatter"
           }
          ],
          "scatter3d": [
           {
            "line": {
             "colorbar": {
              "outlinewidth": 0,
              "ticks": ""
             }
            },
            "marker": {
             "colorbar": {
              "outlinewidth": 0,
              "ticks": ""
             }
            },
            "type": "scatter3d"
           }
          ],
          "scattercarpet": [
           {
            "marker": {
             "colorbar": {
              "outlinewidth": 0,
              "ticks": ""
             }
            },
            "type": "scattercarpet"
           }
          ],
          "scattergeo": [
           {
            "marker": {
             "colorbar": {
              "outlinewidth": 0,
              "ticks": ""
             }
            },
            "type": "scattergeo"
           }
          ],
          "scattergl": [
           {
            "marker": {
             "colorbar": {
              "outlinewidth": 0,
              "ticks": ""
             }
            },
            "type": "scattergl"
           }
          ],
          "scattermapbox": [
           {
            "marker": {
             "colorbar": {
              "outlinewidth": 0,
              "ticks": ""
             }
            },
            "type": "scattermapbox"
           }
          ],
          "scatterpolar": [
           {
            "marker": {
             "colorbar": {
              "outlinewidth": 0,
              "ticks": ""
             }
            },
            "type": "scatterpolar"
           }
          ],
          "scatterpolargl": [
           {
            "marker": {
             "colorbar": {
              "outlinewidth": 0,
              "ticks": ""
             }
            },
            "type": "scatterpolargl"
           }
          ],
          "scatterternary": [
           {
            "marker": {
             "colorbar": {
              "outlinewidth": 0,
              "ticks": ""
             }
            },
            "type": "scatterternary"
           }
          ],
          "surface": [
           {
            "colorbar": {
             "outlinewidth": 0,
             "ticks": ""
            },
            "colorscale": [
             [
              0,
              "#0d0887"
             ],
             [
              0.1111111111111111,
              "#46039f"
             ],
             [
              0.2222222222222222,
              "#7201a8"
             ],
             [
              0.3333333333333333,
              "#9c179e"
             ],
             [
              0.4444444444444444,
              "#bd3786"
             ],
             [
              0.5555555555555556,
              "#d8576b"
             ],
             [
              0.6666666666666666,
              "#ed7953"
             ],
             [
              0.7777777777777778,
              "#fb9f3a"
             ],
             [
              0.8888888888888888,
              "#fdca26"
             ],
             [
              1,
              "#f0f921"
             ]
            ],
            "type": "surface"
           }
          ],
          "table": [
           {
            "cells": {
             "fill": {
              "color": "#EBF0F8"
             },
             "line": {
              "color": "white"
             }
            },
            "header": {
             "fill": {
              "color": "#C8D4E3"
             },
             "line": {
              "color": "white"
             }
            },
            "type": "table"
           }
          ]
         },
         "layout": {
          "annotationdefaults": {
           "arrowcolor": "#2a3f5f",
           "arrowhead": 0,
           "arrowwidth": 1
          },
          "autotypenumbers": "strict",
          "coloraxis": {
           "colorbar": {
            "outlinewidth": 0,
            "ticks": ""
           }
          },
          "colorscale": {
           "diverging": [
            [
             0,
             "#8e0152"
            ],
            [
             0.1,
             "#c51b7d"
            ],
            [
             0.2,
             "#de77ae"
            ],
            [
             0.3,
             "#f1b6da"
            ],
            [
             0.4,
             "#fde0ef"
            ],
            [
             0.5,
             "#f7f7f7"
            ],
            [
             0.6,
             "#e6f5d0"
            ],
            [
             0.7,
             "#b8e186"
            ],
            [
             0.8,
             "#7fbc41"
            ],
            [
             0.9,
             "#4d9221"
            ],
            [
             1,
             "#276419"
            ]
           ],
           "sequential": [
            [
             0,
             "#0d0887"
            ],
            [
             0.1111111111111111,
             "#46039f"
            ],
            [
             0.2222222222222222,
             "#7201a8"
            ],
            [
             0.3333333333333333,
             "#9c179e"
            ],
            [
             0.4444444444444444,
             "#bd3786"
            ],
            [
             0.5555555555555556,
             "#d8576b"
            ],
            [
             0.6666666666666666,
             "#ed7953"
            ],
            [
             0.7777777777777778,
             "#fb9f3a"
            ],
            [
             0.8888888888888888,
             "#fdca26"
            ],
            [
             1,
             "#f0f921"
            ]
           ],
           "sequentialminus": [
            [
             0,
             "#0d0887"
            ],
            [
             0.1111111111111111,
             "#46039f"
            ],
            [
             0.2222222222222222,
             "#7201a8"
            ],
            [
             0.3333333333333333,
             "#9c179e"
            ],
            [
             0.4444444444444444,
             "#bd3786"
            ],
            [
             0.5555555555555556,
             "#d8576b"
            ],
            [
             0.6666666666666666,
             "#ed7953"
            ],
            [
             0.7777777777777778,
             "#fb9f3a"
            ],
            [
             0.8888888888888888,
             "#fdca26"
            ],
            [
             1,
             "#f0f921"
            ]
           ]
          },
          "colorway": [
           "#636efa",
           "#EF553B",
           "#00cc96",
           "#ab63fa",
           "#FFA15A",
           "#19d3f3",
           "#FF6692",
           "#B6E880",
           "#FF97FF",
           "#FECB52"
          ],
          "font": {
           "color": "#2a3f5f"
          },
          "geo": {
           "bgcolor": "white",
           "lakecolor": "white",
           "landcolor": "#E5ECF6",
           "showlakes": true,
           "showland": true,
           "subunitcolor": "white"
          },
          "hoverlabel": {
           "align": "left"
          },
          "hovermode": "closest",
          "mapbox": {
           "style": "light"
          },
          "paper_bgcolor": "white",
          "plot_bgcolor": "#E5ECF6",
          "polar": {
           "angularaxis": {
            "gridcolor": "white",
            "linecolor": "white",
            "ticks": ""
           },
           "bgcolor": "#E5ECF6",
           "radialaxis": {
            "gridcolor": "white",
            "linecolor": "white",
            "ticks": ""
           }
          },
          "scene": {
           "xaxis": {
            "backgroundcolor": "#E5ECF6",
            "gridcolor": "white",
            "gridwidth": 2,
            "linecolor": "white",
            "showbackground": true,
            "ticks": "",
            "zerolinecolor": "white"
           },
           "yaxis": {
            "backgroundcolor": "#E5ECF6",
            "gridcolor": "white",
            "gridwidth": 2,
            "linecolor": "white",
            "showbackground": true,
            "ticks": "",
            "zerolinecolor": "white"
           },
           "zaxis": {
            "backgroundcolor": "#E5ECF6",
            "gridcolor": "white",
            "gridwidth": 2,
            "linecolor": "white",
            "showbackground": true,
            "ticks": "",
            "zerolinecolor": "white"
           }
          },
          "shapedefaults": {
           "line": {
            "color": "#2a3f5f"
           }
          },
          "ternary": {
           "aaxis": {
            "gridcolor": "white",
            "linecolor": "white",
            "ticks": ""
           },
           "baxis": {
            "gridcolor": "white",
            "linecolor": "white",
            "ticks": ""
           },
           "bgcolor": "#E5ECF6",
           "caxis": {
            "gridcolor": "white",
            "linecolor": "white",
            "ticks": ""
           }
          },
          "title": {
           "x": 0.05
          },
          "xaxis": {
           "automargin": true,
           "gridcolor": "white",
           "linecolor": "white",
           "ticks": "",
           "title": {
            "standoff": 15
           },
           "zerolinecolor": "white",
           "zerolinewidth": 2
          },
          "yaxis": {
           "automargin": true,
           "gridcolor": "white",
           "linecolor": "white",
           "ticks": "",
           "title": {
            "standoff": 15
           },
           "zerolinecolor": "white",
           "zerolinewidth": 2
          }
         }
        },
        "title": {
         "text": "Fitness Convergence"
        },
        "xaxis": {
         "title": {
          "text": "Generations"
         }
        },
        "yaxis": {
         "title": {
          "text": "Fitness"
         }
        }
       }
      },
      "text/html": [
       "<div>                            <div id=\"15455937-11bc-4185-9577-3e8a489c21eb\" class=\"plotly-graph-div\" style=\"height:525px; width:100%;\"></div>            <script type=\"text/javascript\">                require([\"plotly\"], function(Plotly) {                    window.PLOTLYENV=window.PLOTLYENV || {};                                    if (document.getElementById(\"15455937-11bc-4185-9577-3e8a489c21eb\")) {                    Plotly.newPlot(                        \"15455937-11bc-4185-9577-3e8a489c21eb\",                        [{\"mode\": \"lines\", \"name\": \"Min. Value\", \"stackgroup\": \"0\", \"type\": \"scatter\", \"y\": [10663, 11088, 11088, 14001, 14146, 14457, 13552, 13552, 13448, 11567, 11567, 11567, 11567, 11567, 13319, 13319, 13319, 13626, 13626, 13626, 13626, 14037, 14037, 13980, 13980, 13980, 13980, 13980, 14148, 14148, 14148, 14148, 14148, 15612, 15612, 15612, 16548, 16689, 16689, 16689, 17166, 16557, 16557, 16557, 16557, 16557, 16557, 16557, 16557, 16557, 16557, 16557, 16557, 16557, 16557, 16557, 16557, 16557, 16557, 16557, 16557, 16557, 15967, 16209, 16557, 16557, 16557, 16798, 16798, 17779, 17779, 17779, 17612, 17612, 17779, 17779, 17779, 17779, 17779, 17779, 17779, 18308, 18308, 18308, 18308, 18500, 19224, 19224, 18960, 19224, 19377, 19377, 19377, 19377, 19224, 19416, 19416, 18613, 18613, 18613, 17977, 17977, 18741, 18375, 18741, 18741, 18741, 18741, 19224, 19416, 19708, 19224, 19224, 19224, 19224, 18822, 18822, 18822, 18822, 17953, 17953, 17953, 18058, 18058, 18058, 18058, 18058, 18058, 18058, 17485, 18070, 18070, 18070, 18070, 19072, 18792, 18792, 18792, 18792, 18138, 18792, 18792, 18792, 18792, 19072, 18633, 18633, 18381, 18381, 18381, 18381, 18381, 18381, 18792, 18792, 18792, 17909, 18792, 18792, 18600, 18600, 18600, 18600, 18600, 18600, 18600, 18600, 18462, 18462, 18390, 18462, 18462, 18462, 18462, 18462, 18462, 18660, 18660, 18203, 18203, 18203, 18203, 18203, 18136, 17969, 17969, 17837, 17837, 17837, 18822, 18822, 18746, 18746, 18746, 18746, 19072, 19072, 19135, 19072, 19072, 18413, 19072, 19072, 19224, 19224, 19224, 18774, 19394, 18579, 18579, 18579, 19777, 19777, 19311, 19188, 19188, 19188, 19188, 19708, 19708, 18199, 18199, 19577, 19223, 19223, 19054, 18728, 18205, 18205, 18205, 18205, 18205, 18205, 18205, 18205, 18205, 18205, 18205, 18205, 18205, 18205, 17990, 17990, 17990, 18205, 18223, 18223, 18223, 18270, 18270, 17447, 17447, 17447, 17447, 17447, 17447, 17447, 17447, 17447, 17447, 17447, 17447, 17552, 17552, 17552, 17552, 17552, 17552, 17552, 17552, 17459, 17046, 17046, 17046, 17046, 17723, 17723, 17693, 17506, 17506, 17506, 17082, 17506, 17441, 16741, 17693, 17693, 17506, 17693, 17693, 17693, 17693, 17459, 17541, 17541, 17541, 17693, 17693, 17693, 18457, 18246, 18246, 18246, 17427, 17427, 17915, 17693, 17693, 17771, 18126, 16786, 16786, 16786, 16786, 16786, 16786, 16786, 16786, 16786, 17693, 17561, 17561, 16870, 16870, 16870, 16870, 16870, 17254, 17254, 17254, 16759, 16243, 16243, 15374, 16140, 16140, 16140, 16140, 16140, 16140, 16140, 16140, 16140, 16140, 16140, 16140, 16140, 16840, 16290, 16840, 16840, 16840, 16840, 16840, 17693, 17693, 16840, 17604, 16777, 16840, 16840, 16840, 16840, 16840, 16840, 16840, 16840, 17363, 17693, 17693, 17693, 17693, 16870, 16870, 16840, 16700, 16700, 16700, 16700, 16700, 16755, 16755, 16755, 16755, 16755, 16755, 16755, 16755, 16755, 16755, 16755, 16755, 16755, 16777, 16777, 16777, 16777, 16777, 16777, 16777, 17029, 17029, 17029, 17029, 17029, 17029, 17029, 17029, 17029, 17029, 17029, 17029, 17074, 16654, 16654, 16654, 17523, 17523, 17523, 17523, 17689, 17689, 17689, 17689, 17689, 17689, 17689, 17689, 17689, 17050, 17050, 17050, 17050, 17050, 17050, 17050, 17050, 17050, 17050, 17050, 17050, 16777, 17050, 17050, 17050]}, {\"mode\": \"lines\", \"name\": \"Min. Weight\", \"stackgroup\": \"1\", \"type\": \"scatter\", \"y\": [1069, 1069, 1069, 882, 882, 882, 882, 882, 724, 627, 622, 622, 622, 622, 622, 622, 622, 618, 618, 618, 618, 618, 618, 618, 618, 618, 618, 618, 647, 647, 647, 647, 647, 683, 683, 683, 764, 792, 792, 792, 796, 746, 746, 746, 746, 746, 746, 746, 746, 746, 746, 746, 746, 746, 746, 746, 746, 746, 746, 746, 746, 746, 720, 708, 746, 746, 746, 761, 761, 818, 818, 818, 796, 796, 818, 818, 818, 818, 818, 818, 818, 866, 866, 866, 866, 890, 947, 947, 933, 947, 958, 958, 958, 958, 947, 971, 971, 892, 892, 892, 839, 839, 905, 866, 905, 905, 905, 905, 947, 971, 985, 947, 947, 947, 947, 909, 909, 909, 909, 844, 844, 844, 843, 843, 843, 843, 843, 843, 843, 794, 856, 856, 856, 856, 932, 904, 904, 904, 904, 852, 904, 904, 904, 904, 932, 896, 896, 875, 875, 875, 875, 875, 875, 904, 904, 904, 843, 904, 904, 900, 900, 900, 900, 900, 900, 900, 900, 878, 878, 873, 878, 878, 878, 878, 878, 878, 902, 902, 867, 867, 867, 867, 867, 865, 832, 832, 830, 830, 830, 909, 909, 902, 902, 902, 902, 932, 932, 936, 932, 932, 881, 932, 932, 947, 947, 947, 905, 965, 911, 911, 911, 1003, 1003, 986, 972, 972, 972, 972, 985, 985, 975, 975, 984, 950, 950, 933, 903, 852, 852, 852, 852, 852, 852, 852, 852, 852, 852, 852, 852, 852, 852, 839, 839, 839, 852, 851, 851, 851, 867, 867, 795, 795, 795, 795, 795, 795, 795, 795, 795, 795, 795, 795, 794, 794, 794, 794, 794, 794, 794, 794, 785, 785, 785, 785, 785, 812, 812, 807, 801, 801, 801, 752, 801, 786, 774, 807, 807, 801, 807, 807, 807, 807, 785, 792, 792, 792, 807, 807, 807, 873, 863, 863, 863, 797, 797, 836, 807, 807, 829, 846, 775, 775, 775, 775, 775, 775, 775, 775, 775, 807, 805, 805, 735, 735, 735, 735, 735, 778, 778, 778, 727, 696, 696, 631, 686, 686, 686, 686, 686, 686, 686, 686, 686, 686, 686, 686, 686, 730, 712, 730, 730, 730, 730, 730, 807, 807, 730, 796, 726, 730, 730, 730, 730, 730, 730, 730, 730, 781, 807, 807, 807, 807, 735, 735, 730, 721, 721, 721, 721, 721, 731, 731, 731, 731, 731, 731, 731, 731, 731, 731, 731, 731, 731, 726, 726, 726, 726, 726, 726, 726, 777, 777, 777, 777, 777, 777, 777, 777, 777, 777, 777, 777, 776, 728, 728, 728, 793, 793, 793, 793, 822, 822, 822, 822, 822, 822, 822, 822, 822, 757, 757, 757, 757, 757, 757, 757, 757, 757, 757, 757, 757, 726, 757, 757, 757]}],                        {\"template\": {\"data\": {\"bar\": [{\"error_x\": {\"color\": \"#2a3f5f\"}, \"error_y\": {\"color\": \"#2a3f5f\"}, \"marker\": {\"line\": {\"color\": \"#E5ECF6\", \"width\": 0.5}}, \"type\": \"bar\"}], \"barpolar\": [{\"marker\": {\"line\": {\"color\": \"#E5ECF6\", \"width\": 0.5}}, \"type\": \"barpolar\"}], \"carpet\": [{\"aaxis\": {\"endlinecolor\": \"#2a3f5f\", \"gridcolor\": \"white\", \"linecolor\": \"white\", \"minorgridcolor\": \"white\", \"startlinecolor\": \"#2a3f5f\"}, \"baxis\": {\"endlinecolor\": \"#2a3f5f\", \"gridcolor\": \"white\", \"linecolor\": \"white\", \"minorgridcolor\": \"white\", \"startlinecolor\": \"#2a3f5f\"}, \"type\": \"carpet\"}], \"choropleth\": [{\"colorbar\": {\"outlinewidth\": 0, \"ticks\": \"\"}, \"type\": \"choropleth\"}], \"contour\": [{\"colorbar\": {\"outlinewidth\": 0, \"ticks\": \"\"}, \"colorscale\": [[0.0, \"#0d0887\"], [0.1111111111111111, \"#46039f\"], [0.2222222222222222, \"#7201a8\"], [0.3333333333333333, \"#9c179e\"], [0.4444444444444444, \"#bd3786\"], [0.5555555555555556, \"#d8576b\"], [0.6666666666666666, \"#ed7953\"], [0.7777777777777778, \"#fb9f3a\"], [0.8888888888888888, \"#fdca26\"], [1.0, \"#f0f921\"]], \"type\": \"contour\"}], \"contourcarpet\": [{\"colorbar\": {\"outlinewidth\": 0, \"ticks\": \"\"}, \"type\": \"contourcarpet\"}], \"heatmap\": [{\"colorbar\": {\"outlinewidth\": 0, \"ticks\": \"\"}, \"colorscale\": [[0.0, \"#0d0887\"], [0.1111111111111111, \"#46039f\"], [0.2222222222222222, \"#7201a8\"], [0.3333333333333333, \"#9c179e\"], [0.4444444444444444, \"#bd3786\"], [0.5555555555555556, \"#d8576b\"], [0.6666666666666666, \"#ed7953\"], [0.7777777777777778, \"#fb9f3a\"], [0.8888888888888888, \"#fdca26\"], [1.0, \"#f0f921\"]], \"type\": \"heatmap\"}], \"heatmapgl\": [{\"colorbar\": {\"outlinewidth\": 0, \"ticks\": \"\"}, \"colorscale\": [[0.0, \"#0d0887\"], [0.1111111111111111, \"#46039f\"], [0.2222222222222222, \"#7201a8\"], [0.3333333333333333, \"#9c179e\"], [0.4444444444444444, \"#bd3786\"], [0.5555555555555556, \"#d8576b\"], [0.6666666666666666, \"#ed7953\"], [0.7777777777777778, \"#fb9f3a\"], [0.8888888888888888, \"#fdca26\"], [1.0, \"#f0f921\"]], \"type\": \"heatmapgl\"}], \"histogram\": [{\"marker\": {\"colorbar\": {\"outlinewidth\": 0, \"ticks\": \"\"}}, \"type\": \"histogram\"}], \"histogram2d\": [{\"colorbar\": {\"outlinewidth\": 0, \"ticks\": \"\"}, \"colorscale\": [[0.0, \"#0d0887\"], [0.1111111111111111, \"#46039f\"], [0.2222222222222222, \"#7201a8\"], [0.3333333333333333, \"#9c179e\"], [0.4444444444444444, \"#bd3786\"], [0.5555555555555556, \"#d8576b\"], [0.6666666666666666, \"#ed7953\"], [0.7777777777777778, \"#fb9f3a\"], [0.8888888888888888, \"#fdca26\"], [1.0, \"#f0f921\"]], \"type\": \"histogram2d\"}], \"histogram2dcontour\": [{\"colorbar\": {\"outlinewidth\": 0, \"ticks\": \"\"}, \"colorscale\": [[0.0, \"#0d0887\"], [0.1111111111111111, \"#46039f\"], [0.2222222222222222, \"#7201a8\"], [0.3333333333333333, \"#9c179e\"], [0.4444444444444444, \"#bd3786\"], [0.5555555555555556, \"#d8576b\"], [0.6666666666666666, \"#ed7953\"], [0.7777777777777778, \"#fb9f3a\"], [0.8888888888888888, \"#fdca26\"], [1.0, \"#f0f921\"]], \"type\": \"histogram2dcontour\"}], \"mesh3d\": [{\"colorbar\": {\"outlinewidth\": 0, \"ticks\": \"\"}, \"type\": \"mesh3d\"}], \"parcoords\": [{\"line\": {\"colorbar\": {\"outlinewidth\": 0, \"ticks\": \"\"}}, \"type\": \"parcoords\"}], \"pie\": [{\"automargin\": true, \"type\": \"pie\"}], \"scatter\": [{\"marker\": {\"colorbar\": {\"outlinewidth\": 0, \"ticks\": \"\"}}, \"type\": \"scatter\"}], \"scatter3d\": [{\"line\": {\"colorbar\": {\"outlinewidth\": 0, \"ticks\": \"\"}}, \"marker\": {\"colorbar\": {\"outlinewidth\": 0, \"ticks\": \"\"}}, \"type\": \"scatter3d\"}], \"scattercarpet\": [{\"marker\": {\"colorbar\": {\"outlinewidth\": 0, \"ticks\": \"\"}}, \"type\": \"scattercarpet\"}], \"scattergeo\": [{\"marker\": {\"colorbar\": {\"outlinewidth\": 0, \"ticks\": \"\"}}, \"type\": \"scattergeo\"}], \"scattergl\": [{\"marker\": {\"colorbar\": {\"outlinewidth\": 0, \"ticks\": \"\"}}, \"type\": \"scattergl\"}], \"scattermapbox\": [{\"marker\": {\"colorbar\": {\"outlinewidth\": 0, \"ticks\": \"\"}}, \"type\": \"scattermapbox\"}], \"scatterpolar\": [{\"marker\": {\"colorbar\": {\"outlinewidth\": 0, \"ticks\": \"\"}}, \"type\": \"scatterpolar\"}], \"scatterpolargl\": [{\"marker\": {\"colorbar\": {\"outlinewidth\": 0, \"ticks\": \"\"}}, \"type\": \"scatterpolargl\"}], \"scatterternary\": [{\"marker\": {\"colorbar\": {\"outlinewidth\": 0, \"ticks\": \"\"}}, \"type\": \"scatterternary\"}], \"surface\": [{\"colorbar\": {\"outlinewidth\": 0, \"ticks\": \"\"}, \"colorscale\": [[0.0, \"#0d0887\"], [0.1111111111111111, \"#46039f\"], [0.2222222222222222, \"#7201a8\"], [0.3333333333333333, \"#9c179e\"], [0.4444444444444444, \"#bd3786\"], [0.5555555555555556, \"#d8576b\"], [0.6666666666666666, \"#ed7953\"], [0.7777777777777778, \"#fb9f3a\"], [0.8888888888888888, \"#fdca26\"], [1.0, \"#f0f921\"]], \"type\": \"surface\"}], \"table\": [{\"cells\": {\"fill\": {\"color\": \"#EBF0F8\"}, \"line\": {\"color\": \"white\"}}, \"header\": {\"fill\": {\"color\": \"#C8D4E3\"}, \"line\": {\"color\": \"white\"}}, \"type\": \"table\"}]}, \"layout\": {\"annotationdefaults\": {\"arrowcolor\": \"#2a3f5f\", \"arrowhead\": 0, \"arrowwidth\": 1}, \"autotypenumbers\": \"strict\", \"coloraxis\": {\"colorbar\": {\"outlinewidth\": 0, \"ticks\": \"\"}}, \"colorscale\": {\"diverging\": [[0, \"#8e0152\"], [0.1, \"#c51b7d\"], [0.2, \"#de77ae\"], [0.3, \"#f1b6da\"], [0.4, \"#fde0ef\"], [0.5, \"#f7f7f7\"], [0.6, \"#e6f5d0\"], [0.7, \"#b8e186\"], [0.8, \"#7fbc41\"], [0.9, \"#4d9221\"], [1, \"#276419\"]], \"sequential\": [[0.0, \"#0d0887\"], [0.1111111111111111, \"#46039f\"], [0.2222222222222222, \"#7201a8\"], [0.3333333333333333, \"#9c179e\"], [0.4444444444444444, \"#bd3786\"], [0.5555555555555556, \"#d8576b\"], [0.6666666666666666, \"#ed7953\"], [0.7777777777777778, \"#fb9f3a\"], [0.8888888888888888, \"#fdca26\"], [1.0, \"#f0f921\"]], \"sequentialminus\": [[0.0, \"#0d0887\"], [0.1111111111111111, \"#46039f\"], [0.2222222222222222, \"#7201a8\"], [0.3333333333333333, \"#9c179e\"], [0.4444444444444444, \"#bd3786\"], [0.5555555555555556, \"#d8576b\"], [0.6666666666666666, \"#ed7953\"], [0.7777777777777778, \"#fb9f3a\"], [0.8888888888888888, \"#fdca26\"], [1.0, \"#f0f921\"]]}, \"colorway\": [\"#636efa\", \"#EF553B\", \"#00cc96\", \"#ab63fa\", \"#FFA15A\", \"#19d3f3\", \"#FF6692\", \"#B6E880\", \"#FF97FF\", \"#FECB52\"], \"font\": {\"color\": \"#2a3f5f\"}, \"geo\": {\"bgcolor\": \"white\", \"lakecolor\": \"white\", \"landcolor\": \"#E5ECF6\", \"showlakes\": true, \"showland\": true, \"subunitcolor\": \"white\"}, \"hoverlabel\": {\"align\": \"left\"}, \"hovermode\": \"closest\", \"mapbox\": {\"style\": \"light\"}, \"paper_bgcolor\": \"white\", \"plot_bgcolor\": \"#E5ECF6\", \"polar\": {\"angularaxis\": {\"gridcolor\": \"white\", \"linecolor\": \"white\", \"ticks\": \"\"}, \"bgcolor\": \"#E5ECF6\", \"radialaxis\": {\"gridcolor\": \"white\", \"linecolor\": \"white\", \"ticks\": \"\"}}, \"scene\": {\"xaxis\": {\"backgroundcolor\": \"#E5ECF6\", \"gridcolor\": \"white\", \"gridwidth\": 2, \"linecolor\": \"white\", \"showbackground\": true, \"ticks\": \"\", \"zerolinecolor\": \"white\"}, \"yaxis\": {\"backgroundcolor\": \"#E5ECF6\", \"gridcolor\": \"white\", \"gridwidth\": 2, \"linecolor\": \"white\", \"showbackground\": true, \"ticks\": \"\", \"zerolinecolor\": \"white\"}, \"zaxis\": {\"backgroundcolor\": \"#E5ECF6\", \"gridcolor\": \"white\", \"gridwidth\": 2, \"linecolor\": \"white\", \"showbackground\": true, \"ticks\": \"\", \"zerolinecolor\": \"white\"}}, \"shapedefaults\": {\"line\": {\"color\": \"#2a3f5f\"}}, \"ternary\": {\"aaxis\": {\"gridcolor\": \"white\", \"linecolor\": \"white\", \"ticks\": \"\"}, \"baxis\": {\"gridcolor\": \"white\", \"linecolor\": \"white\", \"ticks\": \"\"}, \"bgcolor\": \"#E5ECF6\", \"caxis\": {\"gridcolor\": \"white\", \"linecolor\": \"white\", \"ticks\": \"\"}}, \"title\": {\"x\": 0.05}, \"xaxis\": {\"automargin\": true, \"gridcolor\": \"white\", \"linecolor\": \"white\", \"ticks\": \"\", \"title\": {\"standoff\": 15}, \"zerolinecolor\": \"white\", \"zerolinewidth\": 2}, \"yaxis\": {\"automargin\": true, \"gridcolor\": \"white\", \"linecolor\": \"white\", \"ticks\": \"\", \"title\": {\"standoff\": 15}, \"zerolinecolor\": \"white\", \"zerolinewidth\": 2}}}, \"title\": {\"text\": \"Fitness Convergence\"}, \"xaxis\": {\"title\": {\"text\": \"Generations\"}}, \"yaxis\": {\"title\": {\"text\": \"Fitness\"}}},                        {\"responsive\": true}                    ).then(function(){\n",
       "                            \n",
       "var gd = document.getElementById('15455937-11bc-4185-9577-3e8a489c21eb');\n",
       "var x = new MutationObserver(function (mutations, observer) {{\n",
       "        var display = window.getComputedStyle(gd).display;\n",
       "        if (!display || display === 'none') {{\n",
       "            console.log([gd, 'removed!']);\n",
       "            Plotly.purge(gd);\n",
       "            observer.disconnect();\n",
       "        }}\n",
       "}});\n",
       "\n",
       "// Listen for the removal of the full notebook cells\n",
       "var notebookContainer = gd.closest('#notebook-container');\n",
       "if (notebookContainer) {{\n",
       "    x.observe(notebookContainer, {childList: true});\n",
       "}}\n",
       "\n",
       "// Listen for the clearing of the current output cell\n",
       "var outputEl = gd.closest('.output');\n",
       "if (outputEl) {{\n",
       "    x.observe(outputEl, {childList: true});\n",
       "}}\n",
       "\n",
       "                        })                };                });            </script>        </div>"
      ]
     },
     "metadata": {},
     "output_type": "display_data"
    }
   ],
   "source": [
    "fig = go.Figure()\n",
    "        \n",
    "for i in range(configs.params['num_objs']):\n",
    "    fig.add_trace(go.Scatter(y=stats.adhoc['fitness']['mins'][i],\n",
    "                             mode='lines',\n",
    "                             name='Min. ' + configs.params['obj_names'][i],\n",
    "                             stackgroup=str(i)))\n",
    "    fig.add_trace(go.Scatter(y=stats.adhoc['fitness']['avgs'][i],\n",
    "                             name='Avg. ' + configs.params['obj_names'][i],\n",
    "                             stackgroup=str(i),\n",
    "                             fill='tonexty'))\n",
    "    fig.add_trace(go.Scatter(y=stats.adhoc['fitness']['maxs'][i],\n",
    "                             mode='lines',\n",
    "                             name='Max. ' + configs.params['obj_names'][i],\n",
    "                             stackgroup=str(i)))\n",
    "\n",
    "fig.update_layout(title='Fitness Convergence',\n",
    "                      xaxis_title='Generations',\n",
    "                      yaxis_title='Fitness')"
   ]
  },
  {
   "cell_type": "code",
   "execution_count": null,
   "metadata": {},
   "outputs": [],
   "source": []
  },
  {
   "cell_type": "code",
   "execution_count": null,
   "metadata": {},
   "outputs": [],
   "source": []
  }
 ],
 "metadata": {
  "jupytext": {
   "formats": "ipynb,py:percent"
  },
  "kernelspec": {
   "display_name": "Python 3",
   "language": "python",
   "name": "python3"
  },
  "language_info": {
   "codemirror_mode": {
    "name": "ipython",
    "version": 3
   },
   "file_extension": ".py",
   "mimetype": "text/x-python",
   "name": "python",
   "nbconvert_exporter": "python",
   "pygments_lexer": "ipython3",
   "version": "3.8.2"
  }
 },
 "nbformat": 4,
 "nbformat_minor": 4
}
