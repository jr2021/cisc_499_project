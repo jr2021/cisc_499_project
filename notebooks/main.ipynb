{
 "cells": [
  {
   "cell_type": "markdown",
   "metadata": {},
   "source": [
    "### Install dependencies"
   ]
  },
  {
   "cell_type": "code",
   "execution_count": 1,
   "metadata": {},
   "outputs": [],
   "source": [
    "from jupyter_dash import JupyterDash\n",
    "import pandas as pd\n",
    "import numpy as np\n",
    "from plotly import graph_objects as go\n",
    "import app as app_file\n",
    "import setup as setup_file\n",
    "import dash_core_components as dcc\n",
    "import pickle\n",
    "from Configuration import *"
   ]
  },
  {
   "cell_type": "markdown",
   "metadata": {},
   "source": [
    "### Serve Jupyter Dash"
   ]
  },
  {
   "cell_type": "code",
   "execution_count": null,
   "metadata": {
    "pycharm": {
     "is_executing": true
    }
   },
   "outputs": [],
   "source": [
    "JupyterDash.infer_jupyter_proxy_config()"
   ]
  },
  {
   "cell_type": "markdown",
   "metadata": {},
   "source": [
    "### Define your static parameters"
   ]
  },
  {
   "cell_type": "code",
   "execution_count": 4,
   "metadata": {
    "pycharm": {
     "is_executing": true
    }
   },
   "outputs": [
    {
     "data": {
      "text/html": [
       "\n",
       "        <iframe\n",
       "            width=\"100%\"\n",
       "            height=\"650\"\n",
       "            src=\"http://127.0.0.1:8050/\"\n",
       "            frameborder=\"0\"\n",
       "            allowfullscreen\n",
       "        ></iframe>\n",
       "        "
      ],
      "text/plain": [
       "<IPython.lib.display.IFrame at 0x7fb535b0fcd0>"
      ]
     },
     "metadata": {},
     "output_type": "display_data"
    }
   ],
   "source": [
    "configs = Config()\n",
    "setup_applet = setup_file.create_app(configs)\n",
    "setup_applet.run_server(mode='inline')"
   ]
  },
  {
   "cell_type": "markdown",
   "metadata": {},
   "source": [
    "### View your sample population"
   ]
  },
  {
   "cell_type": "code",
   "execution_count": 5,
   "metadata": {
    "pycharm": {
     "name": "#%%\n"
    }
   },
   "outputs": [
    {
     "name": "stdout",
     "output_type": "stream",
     "text": [
      "[{'gene': array([14, 17, 94, 78, 27, 55, 69,  9, 68, 46, 60, 39, 81, 59, 12, 24, 97,\n",
      "        73, 83, 92, 79, 64, 48, 72, 52, 26, 61, 29, 75, 93, 87, 31, 15, 47,\n",
      "        20, 56, 18, 30, 50, 33, 91, 19, 90, 66, 10, 44,  3, 58,  5, 88, 51,\n",
      "        42,  8, 13, 70, 62, 99, 77, 49, 32, 53, 76,  0, 23, 71, 86,  7,  4,\n",
      "        36, 35, 63, 45, 89, 85, 96, 40, 28, 95, 22,  2, 16, 34,  1, 21, 84,\n",
      "        11, 67, 54, 98, 65,  6, 74, 82, 57, 37, 25, 80, 43, 38, 41]), 'fitness': array([0])}\n",
      " {'gene': array([63, 84, 86, 48, 12, 96, 44, 71, 81, 67, 41, 10, 57, 31, 27, 37, 23,\n",
      "        90,  9, 28, 76, 42, 99, 40, 82, 75, 36, 13, 69, 65, 25, 55, 32, 49,\n",
      "        68, 56, 54, 17, 30, 19, 92, 39, 70, 78, 59,  5,  7, 50, 47, 46, 21,\n",
      "        60, 18, 85,  6, 20,  4, 58, 62, 16, 72, 73, 14, 91, 89, 51, 34, 97,\n",
      "        35, 33,  8, 22, 93, 11, 94, 26, 53,  3, 66,  0, 80, 98, 61, 77, 74,\n",
      "        88, 38, 24, 43, 29,  2, 95, 79, 52, 83, 15, 87, 45, 64,  1]), 'fitness': array([0])}\n",
      " {'gene': array([84, 47, 59, 58, 37, 88, 77, 16, 79, 45, 49, 74, 17, 69,  6, 67, 68,\n",
      "         3, 55, 23, 87, 10, 44,  4, 34, 13, 33, 29, 52, 61, 12, 40, 70, 82,\n",
      "         8, 73, 28,  7, 39, 99, 53, 66, 93, 76, 95, 36,  9, 19, 50, 81, 46,\n",
      "        42, 14, 86, 94, 43, 90, 72, 20, 60, 54, 31, 91, 89, 92, 30,  1, 64,\n",
      "        75,  2, 32, 56, 18, 83, 24, 25, 85, 71, 51, 62, 57, 48, 38, 41, 21,\n",
      "         0, 80,  5, 63, 78, 65, 98, 27, 35, 26, 15, 97, 96, 22, 11]), 'fitness': array([0])}\n",
      " {'gene': array([11, 30, 95, 17, 21,  1, 54, 33, 18, 84, 79, 88, 44, 77, 97,  3, 27,\n",
      "        71, 85, 87, 69, 68, 81, 76, 55, 89, 63, 36, 60, 98, 64, 58, 56, 23,\n",
      "         2, 32, 51, 41,  8, 62, 92,  4, 72, 28, 66, 57, 49, 70, 31, 67, 75,\n",
      "        74, 34, 59, 94, 42,  9, 19,  6, 46, 47, 73, 61, 35, 82, 20, 12, 43,\n",
      "         7, 80, 26, 65, 96, 10, 83, 50, 24,  0, 25, 48, 15, 39, 37, 53, 14,\n",
      "        16, 13, 91,  5, 22, 45, 52, 78, 86, 38, 40, 99, 93, 90, 29]), 'fitness': array([0])}\n",
      " {'gene': array([56, 19, 64, 11, 13, 54, 77, 29, 17, 24,  9, 28, 85, 74, 84, 46, 22,\n",
      "        55,  2, 10, 26, 12,  8, 80, 81, 99, 70, 34, 58, 91, 66, 15, 42, 82,\n",
      "        14, 16, 48, 43, 27, 73, 87, 39, 95,  7,  3, 62, 86, 23, 41, 18, 47,\n",
      "        50, 51, 71, 52, 35,  0, 20, 67, 32, 60, 65, 83, 53,  1,  5, 38, 37,\n",
      "        45, 33,  4,  6, 57, 69, 31, 78, 76, 44, 96, 88, 90, 25, 61, 98, 49,\n",
      "        63, 93, 97, 40, 36, 59, 75, 68, 30, 89, 72, 21, 79, 92, 94]), 'fitness': array([0])}]\n"
     ]
    }
   ],
   "source": [
    "sample_pop = configs.enc.initialize()\n",
    "print(sample_pop)"
   ]
  },
  {
   "cell_type": "markdown",
   "metadata": {},
   "source": [
    "### Define your evaluation function\n",
    "\n",
    "Your evaluation function should update all fitness values of an individual ```ind```. For example, the evaluation function for the single-objective Traveling Salesman Problem is defined below.\n",
    "\n",
    "```\n",
    "def TSP(ind):\n",
    "    dist = np.loadtxt('dist.txt')\n",
    "\n",
    "    ind['fitness'][0] = dist[0][ind['gene'][0]] \n",
    "    + np.array([dist[ind['gene'][i - 1]][ind['gene'][i]] for i in range(1, configs.gene_size)]).sum() \n",
    "    + dist[ind['gene'][-1]][0]\n",
    "\n",
    "    return ind\n",
    "```"
   ]
  },
  {
   "cell_type": "code",
   "execution_count": 6,
   "metadata": {
    "collapsed": false,
    "jupyter": {
     "outputs_hidden": false
    },
    "pycharm": {
     "name": "#%%\n"
    }
   },
   "outputs": [],
   "source": [
    "def eval(pop):\n",
    "    dist = np.loadtxt('dist.txt')\n",
    "\n",
    "    for ind in pop:\n",
    "        ind['fitness'][0] = dist[0][ind['gene'][0]] + np.array([dist[ind['gene'][i - 1]][ind['gene'][i]] for i in range(1, configs.gene_size)]).sum() + dist[ind['gene'][-1]][0]\n",
    "\n",
    "    return pop"
   ]
  },
  {
   "cell_type": "code",
   "execution_count": 13,
   "metadata": {},
   "outputs": [
    {
     "name": "stdout",
     "output_type": "stream",
     "text": [
      "{'gene': array([60, 93, 36,  7, 72,  1, 14, 37, 30, 15,  8, 19, 76, 88,  5, 41, 54,\n",
      "       84, 28, 43, 83, 61, 40, 64, 59,  3, 89, 18, 23, 87, 66, 48, 99, 77,\n",
      "       67, 13,  6, 32, 74, 75, 39, 68, 33, 10, 17, 80, 22, 51, 63, 46, 71,\n",
      "       91,  0, 50, 62, 92, 34,  2, 21, 96, 69, 52, 25, 79, 53, 49, 78, 70,\n",
      "       26, 57, 82,  9, 20, 85, 38, 95, 65, 12, 86, 81,  4, 11, 94, 47, 45,\n",
      "       16, 73, 27, 24, 56, 31, 35, 58, 44, 97, 42, 55, 29, 90, 98]), 'fitness': array([53927])}\n"
     ]
    }
   ],
   "source": [
    "sample_ind = eval(sample_pop)\n",
    "print(sample_ind[0])"
   ]
  },
  {
   "cell_type": "markdown",
   "metadata": {},
   "source": [
    "### Define a custom Plotly figure to display an individual's phenotypic (high-level) representation\n",
    "\n",
    "For example, the phenotypic representation for a solution Traveling Salesman Problem is defined below as a graph network\n",
    "\n",
    "```\n",
    "def network(ind):\n",
    "    locs = np.loadtxt('loc.txt')  \n",
    "    \n",
    "    fig = go.Figure(data=[go.Scatter(x=[locs[0][0]] + [locs[0][ind['gene'][i]] for i in range(configs.gene_size)] + [locs[0][0]],\n",
    "                                     y=[locs[1][0]] + [locs[1][ind['gene'][i]] for i in range(configs.gene_size)] + [locs[1][0]],\n",
    "                                     mode='lines+markers')])\n",
    "    return fig\n",
    "```"
   ]
  },
  {
   "cell_type": "code",
   "execution_count": 7,
   "metadata": {},
   "outputs": [],
   "source": [
    "def custom(ind):\n",
    "    locs = np.loadtxt('loc.txt')  \n",
    "    \n",
    "    fig = go.Figure(data=[go.Scatter(x=[locs[0][0]] + [locs[0][ind['gene'][i]] for i in range(configs.gene_size)] + [locs[0][0]],\n",
    "                                     y=[locs[1][0]] + [locs[1][ind['gene'][i]] for i in range(configs.gene_size)] + [locs[1][0]],\n",
    "                                     mode='lines+markers')])\n",
    "    fig.update_layout(xaxis_title='Latitude', yaxis_title='Longitude')\n",
    "    return fig"
   ]
  },
  {
   "cell_type": "markdown",
   "metadata": {},
   "source": [
    "### Save your static configurations\n",
    "\n",
    "If you are satisfied with your evaluation function and custom visualization, save it to your configurations"
   ]
  },
  {
   "cell_type": "code",
   "execution_count": 8,
   "metadata": {
    "pycharm": {
     "name": "#%%\n"
    }
   },
   "outputs": [],
   "source": [
    "configs.eval, configs.vis = eval, custom"
   ]
  },
  {
   "cell_type": "markdown",
   "metadata": {},
   "source": [
    "### Run the application"
   ]
  },
  {
   "cell_type": "code",
   "execution_count": 9,
   "metadata": {
    "collapsed": false,
    "jupyter": {
     "outputs_hidden": false
    },
    "pycharm": {
     "name": "#%%\n"
    }
   },
   "outputs": [
    {
     "name": "stdout",
     "output_type": "stream",
     "text": [
      "Dash app running on http://127.0.0.1:8050/\n"
     ]
    }
   ],
   "source": [
    "main_app = app_file.create_app(configs)\n",
    "main_app.run_server()"
   ]
  },
  {
   "cell_type": "code",
   "execution_count": null,
   "metadata": {},
   "outputs": [],
   "source": []
  }
 ],
 "metadata": {
  "jupytext": {
   "formats": "ipynb,py:percent"
  },
  "kernelspec": {
   "display_name": "Python 3",
   "language": "python",
   "name": "python3"
  },
  "language_info": {
   "codemirror_mode": {
    "name": "ipython",
    "version": 3
   },
   "file_extension": ".py",
   "mimetype": "text/x-python",
   "name": "python",
   "nbconvert_exporter": "python",
   "pygments_lexer": "ipython3",
   "version": "3.8.2"
  }
 },
 "nbformat": 4,
 "nbformat_minor": 4
}
