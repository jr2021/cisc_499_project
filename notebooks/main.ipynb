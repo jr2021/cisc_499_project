{
 "cells": [
  {
   "cell_type": "markdown",
   "metadata": {},
   "source": [
    "### Install dependencies"
   ]
  },
  {
   "cell_type": "code",
   "execution_count": 1,
   "metadata": {},
   "outputs": [],
   "source": [
    "from jupyter_dash import JupyterDash\n",
    "import pandas as pd\n",
    "import numpy as np\n",
    "from plotly import graph_objects as go\n",
    "import app as app_file\n",
    "import setup as setup_file\n",
    "import dash_core_components as dcc\n",
    "import pickle\n",
    "from configuration import Config\n",
    "from statistics import Statistics"
   ]
  },
  {
   "cell_type": "markdown",
   "metadata": {},
   "source": [
    "### Serve Jupyter Dash"
   ]
  },
  {
   "cell_type": "code",
   "execution_count": null,
   "metadata": {
    "pycharm": {
     "is_executing": true
    }
   },
   "outputs": [],
   "source": [
    "JupyterDash.infer_jupyter_proxy_config()"
   ]
  },
  {
   "cell_type": "markdown",
   "metadata": {},
   "source": [
    "### Define your static parameters"
   ]
  },
  {
   "cell_type": "code",
   "execution_count": 4,
   "metadata": {
    "pycharm": {
     "is_executing": true
    }
   },
   "outputs": [
    {
     "data": {
      "text/html": [
       "\n",
       "        <iframe\n",
       "            width=\"100%\"\n",
       "            height=\"650\"\n",
       "            src=\"http://127.0.0.1:8050/\"\n",
       "            frameborder=\"0\"\n",
       "            allowfullscreen\n",
       "        ></iframe>\n",
       "        "
      ],
      "text/plain": [
       "<IPython.lib.display.IFrame at 0x7f9e4052c340>"
      ]
     },
     "metadata": {},
     "output_type": "display_data"
    }
   ],
   "source": [
    "configs = Config()\n",
    "setup_applet = setup_file.create_app(configs)\n",
    "setup_applet.run_server(mode='inline')"
   ]
  },
  {
   "cell_type": "markdown",
   "metadata": {},
   "source": [
    "### View your sample population"
   ]
  },
  {
   "cell_type": "code",
   "execution_count": 5,
   "metadata": {
    "pycharm": {
     "name": "#%%\n"
    }
   },
   "outputs": [
    {
     "name": "stdout",
     "output_type": "stream",
     "text": [
      "[{'gene': array([50, 52, 47, 51, 28, 21, 36, 41, 58, 23, 16, 61, 55,  3, 54, 20, 26,\n",
      "        62, 12, 18, 40, 17,  0,  9, 15, 39, 45, 53, 37, 46, 32, 13, 31,  4,\n",
      "        57, 44, 10, 35, 48, 59, 56,  1, 38,  6, 27,  5, 14, 63,  2, 60, 30,\n",
      "         7, 22, 19, 33,  8, 43, 24, 34, 49, 11, 25, 42, 29]), 'fitness': array([0]), 'meta': {}}\n",
      " {'gene': array([55, 42, 45, 41, 62, 35, 22, 13, 43, 51,  2, 11, 31, 63, 56,  7, 30,\n",
      "        17,  8,  0, 48, 28,  4, 18, 47, 38, 58, 19,  3, 16, 14, 34, 52, 25,\n",
      "        15, 26, 36, 59, 53, 12, 33, 44, 32, 24, 57, 60, 39, 49, 50, 10,  1,\n",
      "        54, 21, 27,  6, 46,  5, 61, 40, 29,  9, 23, 37, 20]), 'fitness': array([0]), 'meta': {}}\n",
      " {'gene': array([55, 57,  7, 62, 51, 19, 48, 50, 14, 16,  8, 32,  6, 27, 12, 41, 11,\n",
      "        13, 10, 60,  2, 59, 25, 37, 54, 23, 44, 40, 17, 18,  0, 39, 43, 29,\n",
      "        63, 53, 21,  4, 45, 52, 26,  9, 42, 33, 22, 58,  1, 46, 20, 28, 56,\n",
      "        47, 36, 30, 61, 38, 31, 24,  3, 15, 49,  5, 34, 35]), 'fitness': array([0]), 'meta': {}}\n",
      " {'gene': array([30, 42, 38, 15, 31,  2, 40, 63, 50,  8, 27, 55, 13, 24,  4, 45, 10,\n",
      "        36, 17, 33, 54, 60,  6, 56, 11, 61, 35, 41, 22,  3, 62, 29, 12, 18,\n",
      "         0, 59,  5, 20, 47,  7, 39, 46, 14, 25,  9, 19, 26, 43, 28, 52, 51,\n",
      "        21, 53, 37, 34, 44, 48, 23, 58, 32, 49, 16, 57,  1]), 'fitness': array([0]), 'meta': {}}\n",
      " {'gene': array([ 8, 19, 11,  2, 33, 40, 53, 30, 51, 37, 34, 60, 58, 52, 59, 26, 54,\n",
      "        20, 38,  5, 56,  4,  0,  7,  1, 57, 61, 45, 47, 25, 39, 31, 29, 41,\n",
      "         6, 12, 21, 42, 23, 48, 49, 44, 35, 22, 14, 50, 62, 13, 46, 28, 32,\n",
      "        18,  3, 17, 15,  9, 24, 43, 27, 63, 55, 16, 10, 36]), 'fitness': array([0]), 'meta': {}}]\n"
     ]
    }
   ],
   "source": [
    "sample_pop = configs.params['enc_type'].initialize()\n",
    "print(sample_pop)"
   ]
  },
  {
   "cell_type": "markdown",
   "metadata": {},
   "source": [
    "### Define a custom evaluation function\n",
    "\n",
    "Your evaluation function should update all fitness values of an individual. The evaluation functions for the predefined problems can be found in ```evaluate.py```\n",
    "\n"
   ]
  },
  {
   "cell_type": "code",
   "execution_count": 6,
   "metadata": {
    "collapsed": false,
    "jupyter": {
     "outputs_hidden": false
    },
    "pycharm": {
     "name": "#%%\n"
    }
   },
   "outputs": [],
   "source": [
    "def custom(self, pop):\n",
    "    return pop"
   ]
  },
  {
   "cell_type": "code",
   "execution_count": null,
   "metadata": {},
   "outputs": [],
   "source": [
    "configs.params['eval_type'] = custom\n",
    "sample_pop = configs.params['eval_type'](configs, sample_pop)\n",
    "print(sample_pop[0])"
   ]
  },
  {
   "cell_type": "markdown",
   "metadata": {},
   "source": [
    "### Define a custom visualization\n",
    "\n",
    "Your visualization should be a graphical phenotype representation of an individual. Visualization functions for the predefined problems can be found in ```visualize.py```\n"
   ]
  },
  {
   "cell_type": "code",
   "execution_count": 7,
   "metadata": {},
   "outputs": [],
   "source": [
    "def custom(ind):\n",
    "    return go.Figure()"
   ]
  },
  {
   "cell_type": "code",
   "execution_count": 8,
   "metadata": {},
   "outputs": [],
   "source": [
    "configs.params['cust_vis'] = custom"
   ]
  },
  {
   "cell_type": "markdown",
   "metadata": {},
   "source": [
    "### Run the application"
   ]
  },
  {
   "cell_type": "code",
   "execution_count": 5,
   "metadata": {
    "collapsed": false,
    "jupyter": {
     "outputs_hidden": false
    },
    "pycharm": {
     "name": "#%%\n"
    }
   },
   "outputs": [
    {
     "data": {
      "text/html": [
       "\n",
       "        <iframe\n",
       "            width=\"100%\"\n",
       "            height=\"650\"\n",
       "            src=\"http://127.0.0.1:8050/\"\n",
       "            frameborder=\"0\"\n",
       "            allowfullscreen\n",
       "        ></iframe>\n",
       "        "
      ],
      "text/plain": [
       "<IPython.lib.display.IFrame at 0x7f9e406ab2e0>"
      ]
     },
     "metadata": {},
     "output_type": "display_data"
    }
   ],
   "source": [
    "stats = Statistics(configs.params)\n",
    "main_app = app_file.create_app(configs, stats)\n",
    "main_app.run_server(mode='inline')"
   ]
  },
  {
   "cell_type": "code",
   "execution_count": null,
   "metadata": {},
   "outputs": [],
   "source": [
    "stats.posthoc['population']['all']"
   ]
  }
 ],
 "metadata": {
  "jupytext": {
   "formats": "ipynb,py:percent"
  },
  "kernelspec": {
   "display_name": "Python 3",
   "language": "python",
   "name": "python3"
  },
  "language_info": {
   "codemirror_mode": {
    "name": "ipython",
    "version": 3
   },
   "file_extension": ".py",
   "mimetype": "text/x-python",
   "name": "python",
   "nbconvert_exporter": "python",
   "pygments_lexer": "ipython3",
   "version": "3.8.2"
  }
 },
 "nbformat": 4,
 "nbformat_minor": 4
}
