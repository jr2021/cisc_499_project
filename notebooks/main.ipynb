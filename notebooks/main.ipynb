{
 "cells": [
  {
   "cell_type": "markdown",
   "metadata": {},
   "source": [
    "### Install dependencies"
   ]
  },
  {
   "cell_type": "code",
   "execution_count": 2,
   "metadata": {},
   "outputs": [],
   "source": [
    "from jupyter_dash import JupyterDash\n",
    "import pandas as pd\n",
    "import numpy as np\n",
    "from plotly import graph_objects as go\n",
    "import app as app_file\n",
    "import setup as setup_file\n",
    "import dash_core_components as dcc\n",
    "import pickle\n",
    "from Configuration import *"
   ]
  },
  {
   "cell_type": "markdown",
   "metadata": {},
   "source": [
    "### Serve Jupyter Dash"
   ]
  },
  {
   "cell_type": "code",
   "execution_count": null,
   "metadata": {
    "pycharm": {
     "is_executing": true
    }
   },
   "outputs": [],
   "source": [
    "JupyterDash.infer_jupyter_proxy_config()"
   ]
  },
  {
   "cell_type": "markdown",
   "metadata": {},
   "source": [
    "### Define your static parameters"
   ]
  },
  {
   "cell_type": "code",
   "execution_count": null,
   "metadata": {
    "pycharm": {
     "is_executing": true
    }
   },
   "outputs": [],
   "source": [
    "setup_applet = setup_file.create_app()\n",
    "setup_applet.run_server(mode='inline', port=8925)"
   ]
  },
  {
   "cell_type": "markdown",
   "metadata": {},
   "source": [
    "### View your sample population"
   ]
  },
  {
   "cell_type": "code",
   "execution_count": 5,
   "metadata": {},
   "outputs": [],
   "source": [
    "with open('configs.pkl', 'rb') as f:\n",
    "    configs = pickle.load(f)"
   ]
  },
  {
   "cell_type": "code",
   "execution_count": 6,
   "metadata": {
    "pycharm": {
     "name": "#%%\n"
    }
   },
   "outputs": [],
   "source": [
    "sample_pop = configs.enc.initialize()"
   ]
  },
  {
   "cell_type": "code",
   "execution_count": 7,
   "metadata": {},
   "outputs": [
    {
     "name": "stdout",
     "output_type": "stream",
     "text": [
      "[{'gene': array([ 8,  9,  6,  5,  1,  3,  4, 10,  7,  2]), 'fitness': array([0])}\n",
      " {'gene': array([ 8,  7,  4,  5,  6,  3, 10,  9,  1,  2]), 'fitness': array([0])}\n",
      " {'gene': array([10,  7,  5,  9,  2,  1,  6,  3,  8,  4]), 'fitness': array([0])}\n",
      " {'gene': array([ 2,  5,  6,  9,  3,  8,  7,  1, 10,  4]), 'fitness': array([0])}\n",
      " {'gene': array([ 4,  2,  9,  6,  7, 10,  8,  5,  3,  1]), 'fitness': array([0])}\n",
      " {'gene': array([ 7,  5,  4,  8,  1,  2,  9,  6, 10,  3]), 'fitness': array([0])}\n",
      " {'gene': array([ 3,  8,  4, 10,  5,  9,  6,  7,  1,  2]), 'fitness': array([0])}\n",
      " {'gene': array([ 8, 10,  2,  4,  3,  1,  5,  7,  9,  6]), 'fitness': array([0])}\n",
      " {'gene': array([ 9, 10,  3,  4,  7,  5,  8,  1,  2,  6]), 'fitness': array([0])}\n",
      " {'gene': array([ 4,  8, 10,  9,  7,  2,  1,  3,  5,  6]), 'fitness': array([0])}\n",
      " {'gene': array([ 2,  7,  3, 10,  4,  6,  5,  1,  9,  8]), 'fitness': array([0])}\n",
      " {'gene': array([ 3,  1,  9,  4,  8,  2,  5, 10,  7,  6]), 'fitness': array([0])}\n",
      " {'gene': array([ 8,  4, 10,  2,  7,  6,  5,  9,  1,  3]), 'fitness': array([0])}\n",
      " {'gene': array([ 8,  6,  5,  1,  3, 10,  2,  4,  9,  7]), 'fitness': array([0])}\n",
      " {'gene': array([ 9,  3,  8,  5,  1,  6,  2, 10,  4,  7]), 'fitness': array([0])}\n",
      " {'gene': array([ 9,  4,  5,  8,  7,  2,  6,  1, 10,  3]), 'fitness': array([0])}\n",
      " {'gene': array([ 9,  1,  4, 10,  5,  2,  8,  6,  7,  3]), 'fitness': array([0])}\n",
      " {'gene': array([10,  7,  5,  9,  6,  8,  3,  2,  4,  1]), 'fitness': array([0])}\n",
      " {'gene': array([ 7,  4,  2, 10,  5,  6,  3,  9,  1,  8]), 'fitness': array([0])}\n",
      " {'gene': array([ 4,  1,  8,  3,  7, 10,  6,  5,  2,  9]), 'fitness': array([0])}\n",
      " {'gene': array([ 4, 10,  1,  7,  9,  8,  6,  5,  3,  2]), 'fitness': array([0])}\n",
      " {'gene': array([ 8, 10,  5,  3,  9,  4,  2,  6,  1,  7]), 'fitness': array([0])}\n",
      " {'gene': array([ 1,  3,  6,  5,  9,  4, 10,  7,  2,  8]), 'fitness': array([0])}\n",
      " {'gene': array([ 7,  8,  3,  1,  2,  4,  5,  9,  6, 10]), 'fitness': array([0])}\n",
      " {'gene': array([10,  4,  6,  5,  3,  8,  7,  9,  2,  1]), 'fitness': array([0])}\n",
      " {'gene': array([ 1,  7,  6,  4,  2,  8,  5, 10,  3,  9]), 'fitness': array([0])}\n",
      " {'gene': array([ 5,  8,  2,  4,  9,  1,  6,  3, 10,  7]), 'fitness': array([0])}\n",
      " {'gene': array([10,  7,  5,  4,  3,  6,  8,  9,  2,  1]), 'fitness': array([0])}\n",
      " {'gene': array([ 4, 10,  3,  7,  2,  9,  8,  6,  5,  1]), 'fitness': array([0])}\n",
      " {'gene': array([ 2,  9,  6,  3,  4,  1, 10,  5,  8,  7]), 'fitness': array([0])}\n",
      " {'gene': array([ 4,  5,  1,  3,  7, 10,  2,  6,  8,  9]), 'fitness': array([0])}\n",
      " {'gene': array([ 3,  5, 10,  1,  2,  8,  7,  6,  9,  4]), 'fitness': array([0])}]\n"
     ]
    }
   ],
   "source": [
    "print(sample_pop)"
   ]
  },
  {
   "cell_type": "markdown",
   "metadata": {},
   "source": [
    "### Define your evaluation function\n",
    "\n",
    "Below is an example fitness evaluation function for the single-objective Traveling Salesman Problem (TSP)\n",
    "\n",
    "```\n",
    "def TSP(pop):\n",
    "    data = np.loadtxt('data.txt')\n",
    "\n",
    "    for ind in pop:\n",
    "        ind['fitness'][0] += data[0][ind['gene'][0]]\n",
    "        ind['fitness'][0] += np.array([data[ind['gene'][i - 1]][ind['gene'][i]] for i in range(1, config.len_gene)]).sum()\n",
    "        data[ind['gene'][-1]][0]\n",
    "\n",
    "    return pop\n",
    "```"
   ]
  },
  {
   "cell_type": "code",
   "execution_count": 8,
   "metadata": {
    "collapsed": false,
    "jupyter": {
     "outputs_hidden": false
    },
    "pycharm": {
     "name": "#%%\n"
    }
   },
   "outputs": [
    {
     "name": "stdout",
     "output_type": "stream",
     "text": [
      "[{'gene': array([ 8,  9,  6,  5,  1,  3,  4, 10,  7,  2]), 'fitness': array([5152])}\n",
      " {'gene': array([ 8,  7,  4,  5,  6,  3, 10,  9,  1,  2]), 'fitness': array([5437])}\n",
      " {'gene': array([10,  7,  5,  9,  2,  1,  6,  3,  8,  4]), 'fitness': array([4648])}\n",
      " {'gene': array([ 2,  5,  6,  9,  3,  8,  7,  1, 10,  4]), 'fitness': array([6002])}\n",
      " {'gene': array([ 4,  2,  9,  6,  7, 10,  8,  5,  3,  1]), 'fitness': array([4410])}\n",
      " {'gene': array([ 7,  5,  4,  8,  1,  2,  9,  6, 10,  3]), 'fitness': array([4644])}\n",
      " {'gene': array([ 3,  8,  4, 10,  5,  9,  6,  7,  1,  2]), 'fitness': array([5444])}\n",
      " {'gene': array([ 8, 10,  2,  4,  3,  1,  5,  7,  9,  6]), 'fitness': array([5283])}\n",
      " {'gene': array([ 9, 10,  3,  4,  7,  5,  8,  1,  2,  6]), 'fitness': array([4509])}\n",
      " {'gene': array([ 4,  8, 10,  9,  7,  2,  1,  3,  5,  6]), 'fitness': array([5288])}\n",
      " {'gene': array([ 2,  7,  3, 10,  4,  6,  5,  1,  9,  8]), 'fitness': array([4997])}\n",
      " {'gene': array([ 3,  1,  9,  4,  8,  2,  5, 10,  7,  6]), 'fitness': array([5013])}\n",
      " {'gene': array([ 8,  4, 10,  2,  7,  6,  5,  9,  1,  3]), 'fitness': array([5626])}\n",
      " {'gene': array([ 8,  6,  5,  1,  3, 10,  2,  4,  9,  7]), 'fitness': array([6605])}\n",
      " {'gene': array([ 9,  3,  8,  5,  1,  6,  2, 10,  4,  7]), 'fitness': array([5596])}\n",
      " {'gene': array([ 9,  4,  5,  8,  7,  2,  6,  1, 10,  3]), 'fitness': array([5342])}\n",
      " {'gene': array([ 9,  1,  4, 10,  5,  2,  8,  6,  7,  3]), 'fitness': array([7361])}\n",
      " {'gene': array([10,  7,  5,  9,  6,  8,  3,  2,  4,  1]), 'fitness': array([6375])}\n",
      " {'gene': array([ 7,  4,  2, 10,  5,  6,  3,  9,  1,  8]), 'fitness': array([5200])}\n",
      " {'gene': array([ 4,  1,  8,  3,  7, 10,  6,  5,  2,  9]), 'fitness': array([5538])}\n",
      " {'gene': array([ 4, 10,  1,  7,  9,  8,  6,  5,  3,  2]), 'fitness': array([6051])}\n",
      " {'gene': array([ 8, 10,  5,  3,  9,  4,  2,  6,  1,  7]), 'fitness': array([4950])}\n",
      " {'gene': array([ 1,  3,  6,  5,  9,  4, 10,  7,  2,  8]), 'fitness': array([5206])}\n",
      " {'gene': array([ 7,  8,  3,  1,  2,  4,  5,  9,  6, 10]), 'fitness': array([5655])}\n",
      " {'gene': array([10,  4,  6,  5,  3,  8,  7,  9,  2,  1]), 'fitness': array([5940])}\n",
      " {'gene': array([ 1,  7,  6,  4,  2,  8,  5, 10,  3,  9]), 'fitness': array([4932])}\n",
      " {'gene': array([ 5,  8,  2,  4,  9,  1,  6,  3, 10,  7]), 'fitness': array([5804])}\n",
      " {'gene': array([10,  7,  5,  4,  3,  6,  8,  9,  2,  1]), 'fitness': array([5859])}\n",
      " {'gene': array([ 4, 10,  3,  7,  2,  9,  8,  6,  5,  1]), 'fitness': array([5714])}\n",
      " {'gene': array([ 2,  9,  6,  3,  4,  1, 10,  5,  8,  7]), 'fitness': array([7377])}\n",
      " {'gene': array([ 4,  5,  1,  3,  7, 10,  2,  6,  8,  9]), 'fitness': array([3821])}\n",
      " {'gene': array([ 3,  5, 10,  1,  2,  8,  7,  6,  9,  4]), 'fitness': array([5228])}]\n"
     ]
    }
   ],
   "source": [
    "def TSP(pop):\n",
    "    dist = np.loadtxt('dist.txt')\n",
    "\n",
    "    for ind in pop:\n",
    "        ind['fitness'][0] += dist[0][ind['gene'][0]]\n",
    "        ind['fitness'][0] += np.array([dist[ind['gene'][i - 1]][ind['gene'][i]] for i in range(1, configs.gene_size)]).sum()\n",
    "        ind['fitness'][0] += dist[ind['gene'][-1]][0]\n",
    "\n",
    "    return pop\n",
    "\n",
    "sample_pop = TSP(sample_pop)\n",
    "print(sample_pop)"
   ]
  },
  {
   "cell_type": "markdown",
   "metadata": {},
   "source": [
    "### Define a custom phenotypic representation"
   ]
  },
  {
   "cell_type": "code",
   "execution_count": null,
   "metadata": {},
   "outputs": [],
   "source": [
    "def network(ind):\n",
    "    locs = np.loadtxt('loc.txt')  \n",
    "    \n",
    "    fig = go.Figure(data=[go.Scatter(x=[locs[0][ind['gene'][i]] for i in range(configs.gene_size)],\n",
    "                                     y=[locs[1][ind['gene'][i]] for i in range(configs.gene_size)],\n",
    "                                     mode='lines')])\n",
    "    return fig\n",
    "\n",
    "print(network(sample_pop[0]))"
   ]
  },
  {
   "cell_type": "markdown",
   "metadata": {},
   "source": [
    "### Save your static configurations\n",
    "\n",
    "If you are satisfied with your evaluation function and custom visualization, save it to your configurations"
   ]
  },
  {
   "cell_type": "code",
   "execution_count": 21,
   "metadata": {
    "pycharm": {
     "name": "#%%\n"
    }
   },
   "outputs": [],
   "source": [
    "configs.eval, configs.vis = TSP, network"
   ]
  },
  {
   "cell_type": "markdown",
   "metadata": {},
   "source": [
    "### Run the application"
   ]
  },
  {
   "cell_type": "code",
   "execution_count": 5,
   "metadata": {
    "collapsed": false,
    "jupyter": {
     "outputs_hidden": false
    },
    "pycharm": {
     "name": "#%%\n"
    }
   },
   "outputs": [
    {
     "name": "stdout",
     "output_type": "stream",
     "text": [
      "Dash app running on http://127.0.0.1:8050/\n"
     ]
    }
   ],
   "source": [
    "main_app = app_file.create_app()\n",
    "main_app.run_server()"
   ]
  },
  {
   "cell_type": "code",
   "execution_count": null,
   "metadata": {},
   "outputs": [],
   "source": []
  }
 ],
 "metadata": {
  "jupytext": {
   "formats": "ipynb,py:percent"
  },
  "kernelspec": {
   "display_name": "Python 3",
   "language": "python",
   "name": "python3"
  },
  "language_info": {
   "codemirror_mode": {
    "name": "ipython",
    "version": 3
   },
   "file_extension": ".py",
   "mimetype": "text/x-python",
   "name": "python",
   "nbconvert_exporter": "python",
   "pygments_lexer": "ipython3",
   "version": "3.8.2"
  }
 },
 "nbformat": 4,
 "nbformat_minor": 4
}
