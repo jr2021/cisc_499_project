{
 "cells": [
  {
   "cell_type": "markdown",
   "metadata": {},
   "source": [
    "### Install dependencies"
   ]
  },
  {
   "cell_type": "code",
   "execution_count": 1,
   "metadata": {},
   "outputs": [],
   "source": [
    "from jupyter_dash import JupyterDash\n",
    "import pandas as pd\n",
    "import numpy as np\n",
    "from plotly import graph_objects as go\n",
    "import app as app_file\n",
    "import setup as setup_file\n",
    "import dash_core_components as dcc\n",
    "import pickle\n",
    "from Configuration import *"
   ]
  },
  {
   "cell_type": "markdown",
   "metadata": {},
   "source": [
    "### Serve Jupyter Dash"
   ]
  },
  {
   "cell_type": "code",
   "execution_count": null,
   "metadata": {
    "pycharm": {
     "is_executing": true
    }
   },
   "outputs": [],
   "source": [
    "JupyterDash.infer_jupyter_proxy_config()"
   ]
  },
  {
   "cell_type": "markdown",
   "metadata": {},
   "source": [
    "### Define your static parameters"
   ]
  },
  {
   "cell_type": "code",
   "execution_count": null,
   "metadata": {
    "pycharm": {
     "is_executing": true
    }
   },
   "outputs": [],
   "source": [
    "setup_applet = setup_file.create_app()\n",
    "setup_applet.run_server(mode='inline', port=8925)"
   ]
  },
  {
   "cell_type": "markdown",
   "metadata": {},
   "source": [
    "### View your sample population"
   ]
  },
  {
   "cell_type": "code",
   "execution_count": 5,
   "metadata": {},
   "outputs": [],
   "source": [
    "with open('configs.pkl', 'rb') as f:\n",
    "    configs = pickle.load(f)"
   ]
  },
  {
   "cell_type": "code",
   "execution_count": 6,
   "metadata": {
    "pycharm": {
     "name": "#%%\n"
    }
   },
   "outputs": [],
   "source": [
    "sample_pop = configs.enc.initialize()"
   ]
  },
  {
   "cell_type": "code",
   "execution_count": 7,
   "metadata": {},
   "outputs": [
    {
     "name": "stdout",
     "output_type": "stream",
     "text": [
      "[{'gene': array([ 8,  9,  6,  5,  1,  3,  4, 10,  7,  2]), 'fitness': array([0])}\n",
      " {'gene': array([ 8,  7,  4,  5,  6,  3, 10,  9,  1,  2]), 'fitness': array([0])}\n",
      " {'gene': array([10,  7,  5,  9,  2,  1,  6,  3,  8,  4]), 'fitness': array([0])}\n",
      " {'gene': array([ 2,  5,  6,  9,  3,  8,  7,  1, 10,  4]), 'fitness': array([0])}\n",
      " {'gene': array([ 4,  2,  9,  6,  7, 10,  8,  5,  3,  1]), 'fitness': array([0])}\n",
      " {'gene': array([ 7,  5,  4,  8,  1,  2,  9,  6, 10,  3]), 'fitness': array([0])}\n",
      " {'gene': array([ 3,  8,  4, 10,  5,  9,  6,  7,  1,  2]), 'fitness': array([0])}\n",
      " {'gene': array([ 8, 10,  2,  4,  3,  1,  5,  7,  9,  6]), 'fitness': array([0])}\n",
      " {'gene': array([ 9, 10,  3,  4,  7,  5,  8,  1,  2,  6]), 'fitness': array([0])}\n",
      " {'gene': array([ 4,  8, 10,  9,  7,  2,  1,  3,  5,  6]), 'fitness': array([0])}\n",
      " {'gene': array([ 2,  7,  3, 10,  4,  6,  5,  1,  9,  8]), 'fitness': array([0])}\n",
      " {'gene': array([ 3,  1,  9,  4,  8,  2,  5, 10,  7,  6]), 'fitness': array([0])}\n",
      " {'gene': array([ 8,  4, 10,  2,  7,  6,  5,  9,  1,  3]), 'fitness': array([0])}\n",
      " {'gene': array([ 8,  6,  5,  1,  3, 10,  2,  4,  9,  7]), 'fitness': array([0])}\n",
      " {'gene': array([ 9,  3,  8,  5,  1,  6,  2, 10,  4,  7]), 'fitness': array([0])}\n",
      " {'gene': array([ 9,  4,  5,  8,  7,  2,  6,  1, 10,  3]), 'fitness': array([0])}\n",
      " {'gene': array([ 9,  1,  4, 10,  5,  2,  8,  6,  7,  3]), 'fitness': array([0])}\n",
      " {'gene': array([10,  7,  5,  9,  6,  8,  3,  2,  4,  1]), 'fitness': array([0])}\n",
      " {'gene': array([ 7,  4,  2, 10,  5,  6,  3,  9,  1,  8]), 'fitness': array([0])}\n",
      " {'gene': array([ 4,  1,  8,  3,  7, 10,  6,  5,  2,  9]), 'fitness': array([0])}\n",
      " {'gene': array([ 4, 10,  1,  7,  9,  8,  6,  5,  3,  2]), 'fitness': array([0])}\n",
      " {'gene': array([ 8, 10,  5,  3,  9,  4,  2,  6,  1,  7]), 'fitness': array([0])}\n",
      " {'gene': array([ 1,  3,  6,  5,  9,  4, 10,  7,  2,  8]), 'fitness': array([0])}\n",
      " {'gene': array([ 7,  8,  3,  1,  2,  4,  5,  9,  6, 10]), 'fitness': array([0])}\n",
      " {'gene': array([10,  4,  6,  5,  3,  8,  7,  9,  2,  1]), 'fitness': array([0])}\n",
      " {'gene': array([ 1,  7,  6,  4,  2,  8,  5, 10,  3,  9]), 'fitness': array([0])}\n",
      " {'gene': array([ 5,  8,  2,  4,  9,  1,  6,  3, 10,  7]), 'fitness': array([0])}\n",
      " {'gene': array([10,  7,  5,  4,  3,  6,  8,  9,  2,  1]), 'fitness': array([0])}\n",
      " {'gene': array([ 4, 10,  3,  7,  2,  9,  8,  6,  5,  1]), 'fitness': array([0])}\n",
      " {'gene': array([ 2,  9,  6,  3,  4,  1, 10,  5,  8,  7]), 'fitness': array([0])}\n",
      " {'gene': array([ 4,  5,  1,  3,  7, 10,  2,  6,  8,  9]), 'fitness': array([0])}\n",
      " {'gene': array([ 3,  5, 10,  1,  2,  8,  7,  6,  9,  4]), 'fitness': array([0])}]\n"
     ]
    }
   ],
   "source": [
    "print(sample_pop)"
   ]
  },
  {
   "cell_type": "markdown",
   "metadata": {},
   "source": [
    "### Define your evaluation function\n",
    "\n",
    "Below is an example fitness evaluation function for the single-objective Traveling Salesman Problem (TSP)\n",
    "\n",
    "```\n",
    "def TSP(pop):\n",
    "    data = np.loadtxt('data.txt')\n",
    "\n",
    "    for ind in pop:\n",
    "        ind['fitness'][0] += data[0][ind['gene'][0]]\n",
    "        ind['fitness'][0] += np.array([data[ind['gene'][i - 1]][ind['gene'][i]] for i in range(1, config.len_gene)]).sum()\n",
    "        data[ind['gene'][-1]][0]\n",
    "\n",
    "    return pop\n",
    "```"
   ]
  },
  {
   "cell_type": "code",
   "execution_count": 8,
   "metadata": {
    "collapsed": false,
    "jupyter": {
     "outputs_hidden": false
    },
    "pycharm": {
     "name": "#%%\n"
    }
   },
   "outputs": [
    {
     "name": "stdout",
     "output_type": "stream",
     "text": [
      "[{'gene': array([ 8,  9,  6,  5,  1,  3,  4, 10,  7,  2]), 'fitness': array([5152])}\n",
      " {'gene': array([ 8,  7,  4,  5,  6,  3, 10,  9,  1,  2]), 'fitness': array([5437])}\n",
      " {'gene': array([10,  7,  5,  9,  2,  1,  6,  3,  8,  4]), 'fitness': array([4648])}\n",
      " {'gene': array([ 2,  5,  6,  9,  3,  8,  7,  1, 10,  4]), 'fitness': array([6002])}\n",
      " {'gene': array([ 4,  2,  9,  6,  7, 10,  8,  5,  3,  1]), 'fitness': array([4410])}\n",
      " {'gene': array([ 7,  5,  4,  8,  1,  2,  9,  6, 10,  3]), 'fitness': array([4644])}\n",
      " {'gene': array([ 3,  8,  4, 10,  5,  9,  6,  7,  1,  2]), 'fitness': array([5444])}\n",
      " {'gene': array([ 8, 10,  2,  4,  3,  1,  5,  7,  9,  6]), 'fitness': array([5283])}\n",
      " {'gene': array([ 9, 10,  3,  4,  7,  5,  8,  1,  2,  6]), 'fitness': array([4509])}\n",
      " {'gene': array([ 4,  8, 10,  9,  7,  2,  1,  3,  5,  6]), 'fitness': array([5288])}\n",
      " {'gene': array([ 2,  7,  3, 10,  4,  6,  5,  1,  9,  8]), 'fitness': array([4997])}\n",
      " {'gene': array([ 3,  1,  9,  4,  8,  2,  5, 10,  7,  6]), 'fitness': array([5013])}\n",
      " {'gene': array([ 8,  4, 10,  2,  7,  6,  5,  9,  1,  3]), 'fitness': array([5626])}\n",
      " {'gene': array([ 8,  6,  5,  1,  3, 10,  2,  4,  9,  7]), 'fitness': array([6605])}\n",
      " {'gene': array([ 9,  3,  8,  5,  1,  6,  2, 10,  4,  7]), 'fitness': array([5596])}\n",
      " {'gene': array([ 9,  4,  5,  8,  7,  2,  6,  1, 10,  3]), 'fitness': array([5342])}\n",
      " {'gene': array([ 9,  1,  4, 10,  5,  2,  8,  6,  7,  3]), 'fitness': array([7361])}\n",
      " {'gene': array([10,  7,  5,  9,  6,  8,  3,  2,  4,  1]), 'fitness': array([6375])}\n",
      " {'gene': array([ 7,  4,  2, 10,  5,  6,  3,  9,  1,  8]), 'fitness': array([5200])}\n",
      " {'gene': array([ 4,  1,  8,  3,  7, 10,  6,  5,  2,  9]), 'fitness': array([5538])}\n",
      " {'gene': array([ 4, 10,  1,  7,  9,  8,  6,  5,  3,  2]), 'fitness': array([6051])}\n",
      " {'gene': array([ 8, 10,  5,  3,  9,  4,  2,  6,  1,  7]), 'fitness': array([4950])}\n",
      " {'gene': array([ 1,  3,  6,  5,  9,  4, 10,  7,  2,  8]), 'fitness': array([5206])}\n",
      " {'gene': array([ 7,  8,  3,  1,  2,  4,  5,  9,  6, 10]), 'fitness': array([5655])}\n",
      " {'gene': array([10,  4,  6,  5,  3,  8,  7,  9,  2,  1]), 'fitness': array([5940])}\n",
      " {'gene': array([ 1,  7,  6,  4,  2,  8,  5, 10,  3,  9]), 'fitness': array([4932])}\n",
      " {'gene': array([ 5,  8,  2,  4,  9,  1,  6,  3, 10,  7]), 'fitness': array([5804])}\n",
      " {'gene': array([10,  7,  5,  4,  3,  6,  8,  9,  2,  1]), 'fitness': array([5859])}\n",
      " {'gene': array([ 4, 10,  3,  7,  2,  9,  8,  6,  5,  1]), 'fitness': array([5714])}\n",
      " {'gene': array([ 2,  9,  6,  3,  4,  1, 10,  5,  8,  7]), 'fitness': array([7377])}\n",
      " {'gene': array([ 4,  5,  1,  3,  7, 10,  2,  6,  8,  9]), 'fitness': array([3821])}\n",
      " {'gene': array([ 3,  5, 10,  1,  2,  8,  7,  6,  9,  4]), 'fitness': array([5228])}]\n"
     ]
    }
   ],
   "source": [
    "def TSP(pop):\n",
    "    dist = np.loadtxt('dist.txt')\n",
    "\n",
    "    for ind in pop:\n",
    "        ind['fitness'][0] += dist[0][ind['gene'][0]]\n",
    "        ind['fitness'][0] += np.array([dist[ind['gene'][i - 1]][ind['gene'][i]] for i in range(1, configs.gene_size)]).sum()\n",
    "        ind['fitness'][0] += dist[ind['gene'][-1]][0]\n",
    "\n",
    "    return pop\n",
    "\n",
    "sample_pop = TSP(sample_pop)\n",
    "print(sample_pop)"
   ]
  },
  {
   "cell_type": "markdown",
   "metadata": {},
   "source": [
    "### Define a custom phenotypic representation"
   ]
  },
  {
   "cell_type": "code",
   "execution_count": null,
   "metadata": {},
   "outputs": [],
   "source": [
    "def network(ind):\n",
    "    locs = np.loadtxt('loc.txt')  \n",
    "    \n",
    "    fig = go.Figure(data=[go.Scatter(x=[locs[0][ind['gene'][i]] for i in range(configs.gene_size)],\n",
    "                                     y=[locs[1][ind['gene'][i]] for i in range(configs.gene_size)],\n",
    "                                     mode='lines')])\n",
    "    return fig\n",
    "\n",
    "print(network(sample_pop[0]))"
   ]
  },
  {
   "cell_type": "markdown",
   "metadata": {},
   "source": [
    "### Save your static configurations\n",
    "\n",
    "If you are satisfied with your evaluation function and custom visualization, save it to your configurations"
   ]
  },
  {
   "cell_type": "code",
   "execution_count": 21,
   "metadata": {
    "pycharm": {
     "name": "#%%\n"
    }
   },
   "outputs": [],
   "source": [
    "configs.eval, configs.vis = TSP, network"
   ]
  },
  {
   "cell_type": "markdown",
   "metadata": {},
   "source": [
    "### Run the application"
   ]
  },
  {
   "cell_type": "code",
   "execution_count": 4,
   "metadata": {
    "collapsed": false,
    "jupyter": {
     "outputs_hidden": false
    },
    "pycharm": {
     "name": "#%%\n"
    }
   },
   "outputs": [
    {
     "ename": "OSError",
     "evalue": "Address 'http://127.0.0.1:8050' already in use.\n    Try passing a different port to run_server.",
     "output_type": "error",
     "traceback": [
      "\u001b[0;31m---------------------------------------------------------------------------\u001b[0m",
      "\u001b[0;31mOSError\u001b[0m                                   Traceback (most recent call last)",
      "\u001b[0;32m<ipython-input-4-4cdfc7b865f0>\u001b[0m in \u001b[0;36m<module>\u001b[0;34m\u001b[0m\n\u001b[1;32m      1\u001b[0m \u001b[0mmain_app\u001b[0m \u001b[0;34m=\u001b[0m \u001b[0mapp_file\u001b[0m\u001b[0;34m.\u001b[0m\u001b[0mcreate_app\u001b[0m\u001b[0;34m(\u001b[0m\u001b[0;34m)\u001b[0m\u001b[0;34m\u001b[0m\u001b[0;34m\u001b[0m\u001b[0m\n\u001b[0;32m----> 2\u001b[0;31m \u001b[0mmain_app\u001b[0m\u001b[0;34m.\u001b[0m\u001b[0mrun_server\u001b[0m\u001b[0;34m(\u001b[0m\u001b[0;34m)\u001b[0m\u001b[0;34m\u001b[0m\u001b[0;34m\u001b[0m\u001b[0m\n\u001b[0m",
      "\u001b[0;32m/Library/Frameworks/Python.framework/Versions/3.8/lib/python3.8/site-packages/jupyter_dash/jupyter_app.py\u001b[0m in \u001b[0;36mrun_server\u001b[0;34m(self, mode, width, height, inline_exceptions, **kwargs)\u001b[0m\n\u001b[1;32m    317\u001b[0m                 )\n\u001b[1;32m    318\u001b[0m \u001b[0;34m\u001b[0m\u001b[0m\n\u001b[0;32m--> 319\u001b[0;31m         \u001b[0mwait_for_app\u001b[0m\u001b[0;34m(\u001b[0m\u001b[0;34m)\u001b[0m\u001b[0;34m\u001b[0m\u001b[0;34m\u001b[0m\u001b[0m\n\u001b[0m\u001b[1;32m    320\u001b[0m \u001b[0;34m\u001b[0m\u001b[0m\n\u001b[1;32m    321\u001b[0m         \u001b[0;32mif\u001b[0m \u001b[0mJupyterDash\u001b[0m\u001b[0;34m.\u001b[0m\u001b[0m_in_colab\u001b[0m\u001b[0;34m:\u001b[0m\u001b[0;34m\u001b[0m\u001b[0;34m\u001b[0m\u001b[0m\n",
      "\u001b[0;32m/Library/Frameworks/Python.framework/Versions/3.8/lib/python3.8/site-packages/retrying.py\u001b[0m in \u001b[0;36mwrapped_f\u001b[0;34m(*args, **kw)\u001b[0m\n\u001b[1;32m     47\u001b[0m             \u001b[0;34m@\u001b[0m\u001b[0msix\u001b[0m\u001b[0;34m.\u001b[0m\u001b[0mwraps\u001b[0m\u001b[0;34m(\u001b[0m\u001b[0mf\u001b[0m\u001b[0;34m)\u001b[0m\u001b[0;34m\u001b[0m\u001b[0;34m\u001b[0m\u001b[0m\n\u001b[1;32m     48\u001b[0m             \u001b[0;32mdef\u001b[0m \u001b[0mwrapped_f\u001b[0m\u001b[0;34m(\u001b[0m\u001b[0;34m*\u001b[0m\u001b[0margs\u001b[0m\u001b[0;34m,\u001b[0m \u001b[0;34m**\u001b[0m\u001b[0mkw\u001b[0m\u001b[0;34m)\u001b[0m\u001b[0;34m:\u001b[0m\u001b[0;34m\u001b[0m\u001b[0;34m\u001b[0m\u001b[0m\n\u001b[0;32m---> 49\u001b[0;31m                 \u001b[0;32mreturn\u001b[0m \u001b[0mRetrying\u001b[0m\u001b[0;34m(\u001b[0m\u001b[0;34m*\u001b[0m\u001b[0mdargs\u001b[0m\u001b[0;34m,\u001b[0m \u001b[0;34m**\u001b[0m\u001b[0mdkw\u001b[0m\u001b[0;34m)\u001b[0m\u001b[0;34m.\u001b[0m\u001b[0mcall\u001b[0m\u001b[0;34m(\u001b[0m\u001b[0mf\u001b[0m\u001b[0;34m,\u001b[0m \u001b[0;34m*\u001b[0m\u001b[0margs\u001b[0m\u001b[0;34m,\u001b[0m \u001b[0;34m**\u001b[0m\u001b[0mkw\u001b[0m\u001b[0;34m)\u001b[0m\u001b[0;34m\u001b[0m\u001b[0;34m\u001b[0m\u001b[0m\n\u001b[0m\u001b[1;32m     50\u001b[0m \u001b[0;34m\u001b[0m\u001b[0m\n\u001b[1;32m     51\u001b[0m             \u001b[0;32mreturn\u001b[0m \u001b[0mwrapped_f\u001b[0m\u001b[0;34m\u001b[0m\u001b[0;34m\u001b[0m\u001b[0m\n",
      "\u001b[0;32m/Library/Frameworks/Python.framework/Versions/3.8/lib/python3.8/site-packages/retrying.py\u001b[0m in \u001b[0;36mcall\u001b[0;34m(self, fn, *args, **kwargs)\u001b[0m\n\u001b[1;32m    210\u001b[0m                 \u001b[0;32mif\u001b[0m \u001b[0;32mnot\u001b[0m \u001b[0mself\u001b[0m\u001b[0;34m.\u001b[0m\u001b[0m_wrap_exception\u001b[0m \u001b[0;32mand\u001b[0m \u001b[0mattempt\u001b[0m\u001b[0;34m.\u001b[0m\u001b[0mhas_exception\u001b[0m\u001b[0;34m:\u001b[0m\u001b[0;34m\u001b[0m\u001b[0;34m\u001b[0m\u001b[0m\n\u001b[1;32m    211\u001b[0m                     \u001b[0;31m# get() on an attempt with an exception should cause it to be raised, but raise just in case\u001b[0m\u001b[0;34m\u001b[0m\u001b[0;34m\u001b[0m\u001b[0;34m\u001b[0m\u001b[0m\n\u001b[0;32m--> 212\u001b[0;31m                     \u001b[0;32mraise\u001b[0m \u001b[0mattempt\u001b[0m\u001b[0;34m.\u001b[0m\u001b[0mget\u001b[0m\u001b[0;34m(\u001b[0m\u001b[0;34m)\u001b[0m\u001b[0;34m\u001b[0m\u001b[0;34m\u001b[0m\u001b[0m\n\u001b[0m\u001b[1;32m    213\u001b[0m                 \u001b[0;32melse\u001b[0m\u001b[0;34m:\u001b[0m\u001b[0;34m\u001b[0m\u001b[0;34m\u001b[0m\u001b[0m\n\u001b[1;32m    214\u001b[0m                     \u001b[0;32mraise\u001b[0m \u001b[0mRetryError\u001b[0m\u001b[0;34m(\u001b[0m\u001b[0mattempt\u001b[0m\u001b[0;34m)\u001b[0m\u001b[0;34m\u001b[0m\u001b[0;34m\u001b[0m\u001b[0m\n",
      "\u001b[0;32m/Library/Frameworks/Python.framework/Versions/3.8/lib/python3.8/site-packages/retrying.py\u001b[0m in \u001b[0;36mget\u001b[0;34m(self, wrap_exception)\u001b[0m\n\u001b[1;32m    245\u001b[0m                 \u001b[0;32mraise\u001b[0m \u001b[0mRetryError\u001b[0m\u001b[0;34m(\u001b[0m\u001b[0mself\u001b[0m\u001b[0;34m)\u001b[0m\u001b[0;34m\u001b[0m\u001b[0;34m\u001b[0m\u001b[0m\n\u001b[1;32m    246\u001b[0m             \u001b[0;32melse\u001b[0m\u001b[0;34m:\u001b[0m\u001b[0;34m\u001b[0m\u001b[0;34m\u001b[0m\u001b[0m\n\u001b[0;32m--> 247\u001b[0;31m                 \u001b[0msix\u001b[0m\u001b[0;34m.\u001b[0m\u001b[0mreraise\u001b[0m\u001b[0;34m(\u001b[0m\u001b[0mself\u001b[0m\u001b[0;34m.\u001b[0m\u001b[0mvalue\u001b[0m\u001b[0;34m[\u001b[0m\u001b[0;36m0\u001b[0m\u001b[0;34m]\u001b[0m\u001b[0;34m,\u001b[0m \u001b[0mself\u001b[0m\u001b[0;34m.\u001b[0m\u001b[0mvalue\u001b[0m\u001b[0;34m[\u001b[0m\u001b[0;36m1\u001b[0m\u001b[0;34m]\u001b[0m\u001b[0;34m,\u001b[0m \u001b[0mself\u001b[0m\u001b[0;34m.\u001b[0m\u001b[0mvalue\u001b[0m\u001b[0;34m[\u001b[0m\u001b[0;36m2\u001b[0m\u001b[0;34m]\u001b[0m\u001b[0;34m)\u001b[0m\u001b[0;34m\u001b[0m\u001b[0;34m\u001b[0m\u001b[0m\n\u001b[0m\u001b[1;32m    248\u001b[0m         \u001b[0;32melse\u001b[0m\u001b[0;34m:\u001b[0m\u001b[0;34m\u001b[0m\u001b[0;34m\u001b[0m\u001b[0m\n\u001b[1;32m    249\u001b[0m             \u001b[0;32mreturn\u001b[0m \u001b[0mself\u001b[0m\u001b[0;34m.\u001b[0m\u001b[0mvalue\u001b[0m\u001b[0;34m\u001b[0m\u001b[0;34m\u001b[0m\u001b[0m\n",
      "\u001b[0;32m/Library/Frameworks/Python.framework/Versions/3.8/lib/python3.8/site-packages/six.py\u001b[0m in \u001b[0;36mreraise\u001b[0;34m(tp, value, tb)\u001b[0m\n\u001b[1;32m    701\u001b[0m             \u001b[0;32mif\u001b[0m \u001b[0mvalue\u001b[0m\u001b[0;34m.\u001b[0m\u001b[0m__traceback__\u001b[0m \u001b[0;32mis\u001b[0m \u001b[0;32mnot\u001b[0m \u001b[0mtb\u001b[0m\u001b[0;34m:\u001b[0m\u001b[0;34m\u001b[0m\u001b[0;34m\u001b[0m\u001b[0m\n\u001b[1;32m    702\u001b[0m                 \u001b[0;32mraise\u001b[0m \u001b[0mvalue\u001b[0m\u001b[0;34m.\u001b[0m\u001b[0mwith_traceback\u001b[0m\u001b[0;34m(\u001b[0m\u001b[0mtb\u001b[0m\u001b[0;34m)\u001b[0m\u001b[0;34m\u001b[0m\u001b[0;34m\u001b[0m\u001b[0m\n\u001b[0;32m--> 703\u001b[0;31m             \u001b[0;32mraise\u001b[0m \u001b[0mvalue\u001b[0m\u001b[0;34m\u001b[0m\u001b[0;34m\u001b[0m\u001b[0m\n\u001b[0m\u001b[1;32m    704\u001b[0m         \u001b[0;32mfinally\u001b[0m\u001b[0;34m:\u001b[0m\u001b[0;34m\u001b[0m\u001b[0;34m\u001b[0m\u001b[0m\n\u001b[1;32m    705\u001b[0m             \u001b[0mvalue\u001b[0m \u001b[0;34m=\u001b[0m \u001b[0;32mNone\u001b[0m\u001b[0;34m\u001b[0m\u001b[0;34m\u001b[0m\u001b[0m\n",
      "\u001b[0;32m/Library/Frameworks/Python.framework/Versions/3.8/lib/python3.8/site-packages/retrying.py\u001b[0m in \u001b[0;36mcall\u001b[0;34m(self, fn, *args, **kwargs)\u001b[0m\n\u001b[1;32m    198\u001b[0m         \u001b[0;32mwhile\u001b[0m \u001b[0;32mTrue\u001b[0m\u001b[0;34m:\u001b[0m\u001b[0;34m\u001b[0m\u001b[0;34m\u001b[0m\u001b[0m\n\u001b[1;32m    199\u001b[0m             \u001b[0;32mtry\u001b[0m\u001b[0;34m:\u001b[0m\u001b[0;34m\u001b[0m\u001b[0;34m\u001b[0m\u001b[0m\n\u001b[0;32m--> 200\u001b[0;31m                 \u001b[0mattempt\u001b[0m \u001b[0;34m=\u001b[0m \u001b[0mAttempt\u001b[0m\u001b[0;34m(\u001b[0m\u001b[0mfn\u001b[0m\u001b[0;34m(\u001b[0m\u001b[0;34m*\u001b[0m\u001b[0margs\u001b[0m\u001b[0;34m,\u001b[0m \u001b[0;34m**\u001b[0m\u001b[0mkwargs\u001b[0m\u001b[0;34m)\u001b[0m\u001b[0;34m,\u001b[0m \u001b[0mattempt_number\u001b[0m\u001b[0;34m,\u001b[0m \u001b[0;32mFalse\u001b[0m\u001b[0;34m)\u001b[0m\u001b[0;34m\u001b[0m\u001b[0;34m\u001b[0m\u001b[0m\n\u001b[0m\u001b[1;32m    201\u001b[0m             \u001b[0;32mexcept\u001b[0m\u001b[0;34m:\u001b[0m\u001b[0;34m\u001b[0m\u001b[0;34m\u001b[0m\u001b[0m\n\u001b[1;32m    202\u001b[0m                 \u001b[0mtb\u001b[0m \u001b[0;34m=\u001b[0m \u001b[0msys\u001b[0m\u001b[0;34m.\u001b[0m\u001b[0mexc_info\u001b[0m\u001b[0;34m(\u001b[0m\u001b[0;34m)\u001b[0m\u001b[0;34m\u001b[0m\u001b[0;34m\u001b[0m\u001b[0m\n",
      "\u001b[0;32m/Library/Frameworks/Python.framework/Versions/3.8/lib/python3.8/site-packages/jupyter_dash/jupyter_app.py\u001b[0m in \u001b[0;36mwait_for_app\u001b[0;34m()\u001b[0m\n\u001b[1;32m    310\u001b[0m                     \u001b[0mhost\u001b[0m\u001b[0;34m=\u001b[0m\u001b[0mhost\u001b[0m\u001b[0;34m,\u001b[0m \u001b[0mport\u001b[0m\u001b[0;34m=\u001b[0m\u001b[0mport\u001b[0m\u001b[0;34m,\u001b[0m \u001b[0mtoken\u001b[0m\u001b[0;34m=\u001b[0m\u001b[0mJupyterDash\u001b[0m\u001b[0;34m.\u001b[0m\u001b[0m_token\u001b[0m\u001b[0;34m\u001b[0m\u001b[0;34m\u001b[0m\u001b[0m\n\u001b[1;32m    311\u001b[0m                 )\n\u001b[0;32m--> 312\u001b[0;31m                 raise OSError(\n\u001b[0m\u001b[1;32m    313\u001b[0m                     \u001b[0;34m\"Address '{url}' already in use.\\n\"\u001b[0m\u001b[0;34m\u001b[0m\u001b[0;34m\u001b[0m\u001b[0m\n\u001b[1;32m    314\u001b[0m                     \"    Try passing a different port to run_server.\".format(\n",
      "\u001b[0;31mOSError\u001b[0m: Address 'http://127.0.0.1:8050' already in use.\n    Try passing a different port to run_server."
     ]
    },
    {
     "name": "stderr",
     "output_type": "stream",
     "text": [
      "Exception in thread Thread-4:\n",
      "Traceback (most recent call last):\n",
      "  File \"/Library/Frameworks/Python.framework/Versions/3.8/lib/python3.8/threading.py\", line 932, in _bootstrap_inner\n",
      "    self.run()\n",
      "  File \"/Library/Frameworks/Python.framework/Versions/3.8/lib/python3.8/threading.py\", line 870, in run\n",
      "    self._target(*self._args, **self._kwargs)\n",
      "  File \"/Library/Frameworks/Python.framework/Versions/3.8/lib/python3.8/site-packages/retrying.py\", line 49, in wrapped_f\n",
      "    return Retrying(*dargs, **dkw).call(f, *args, **kw)\n",
      "  File \"/Library/Frameworks/Python.framework/Versions/3.8/lib/python3.8/site-packages/retrying.py\", line 212, in call\n",
      "    raise attempt.get()\n",
      "  File \"/Library/Frameworks/Python.framework/Versions/3.8/lib/python3.8/site-packages/retrying.py\", line 247, in get\n",
      "    six.reraise(self.value[0], self.value[1], self.value[2])\n",
      "  File \"/Library/Frameworks/Python.framework/Versions/3.8/lib/python3.8/site-packages/six.py\", line 703, in reraise\n",
      "    raise value\n",
      "  File \"/Library/Frameworks/Python.framework/Versions/3.8/lib/python3.8/site-packages/retrying.py\", line 200, in call\n",
      "    attempt = Attempt(fn(*args, **kwargs), attempt_number, False)\n",
      "  File \"/Library/Frameworks/Python.framework/Versions/3.8/lib/python3.8/site-packages/jupyter_dash/jupyter_app.py\", line 289, in run\n",
      "    super_run_server(**kwargs)\n",
      "  File \"/Library/Frameworks/Python.framework/Versions/3.8/lib/python3.8/site-packages/dash/dash.py\", line 1716, in run_server\n",
      "    self.server.run(host=host, port=port, debug=debug, **flask_run_options)\n",
      "  File \"/Library/Frameworks/Python.framework/Versions/3.8/lib/python3.8/site-packages/flask/app.py\", line 990, in run\n",
      "    run_simple(host, port, self, **options)\n",
      "  File \"/Library/Frameworks/Python.framework/Versions/3.8/lib/python3.8/site-packages/werkzeug/serving.py\", line 1052, in run_simple\n",
      "    inner()\n",
      "  File \"/Library/Frameworks/Python.framework/Versions/3.8/lib/python3.8/site-packages/werkzeug/serving.py\", line 996, in inner\n",
      "    srv = make_server(\n",
      "  File \"/Library/Frameworks/Python.framework/Versions/3.8/lib/python3.8/site-packages/werkzeug/serving.py\", line 847, in make_server\n",
      "    return ThreadedWSGIServer(\n",
      "  File \"/Library/Frameworks/Python.framework/Versions/3.8/lib/python3.8/site-packages/werkzeug/serving.py\", line 740, in __init__\n",
      "    HTTPServer.__init__(self, server_address, handler)\n",
      "  File \"/Library/Frameworks/Python.framework/Versions/3.8/lib/python3.8/socketserver.py\", line 452, in __init__\n",
      "    self.server_bind()\n",
      "  File \"/Library/Frameworks/Python.framework/Versions/3.8/lib/python3.8/http/server.py\", line 138, in server_bind\n",
      "    socketserver.TCPServer.server_bind(self)\n",
      "  File \"/Library/Frameworks/Python.framework/Versions/3.8/lib/python3.8/socketserver.py\", line 466, in server_bind\n",
      "    self.socket.bind(self.server_address)\n",
      "OSError: [Errno 48] Address already in use\n"
     ]
    }
   ],
   "source": [
    "main_app = app_file.create_app()\n",
    "main_app.run_server()"
   ]
  },
  {
   "cell_type": "code",
   "execution_count": null,
   "metadata": {},
   "outputs": [],
   "source": []
  }
 ],
 "metadata": {
  "jupytext": {
   "formats": "ipynb,py:percent"
  },
  "kernelspec": {
   "display_name": "Python 3",
   "language": "python",
   "name": "python3"
  },
  "language_info": {
   "codemirror_mode": {
    "name": "ipython",
    "version": 3
   },
   "file_extension": ".py",
   "mimetype": "text/x-python",
   "name": "python",
   "nbconvert_exporter": "python",
   "pygments_lexer": "ipython3",
   "version": "3.8.2"
  }
 },
 "nbformat": 4,
 "nbformat_minor": 4
}
