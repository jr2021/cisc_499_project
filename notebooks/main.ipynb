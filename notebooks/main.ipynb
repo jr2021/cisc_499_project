{
 "cells": [
  {
   "cell_type": "markdown",
   "metadata": {},
   "source": [
    "### Install dependencies"
   ]
  },
  {
   "cell_type": "code",
   "execution_count": 1,
   "metadata": {},
   "outputs": [],
   "source": [
    "from jupyter_dash import JupyterDash\n",
    "import pandas as pd\n",
    "import numpy as np\n",
    "from plotly import graph_objects as go\n",
    "import app as app_file\n",
    "import setup as setup_file\n",
    "import dash_core_components as dcc\n",
    "import pickle\n",
    "from Configuration import *"
   ]
  },
  {
   "cell_type": "markdown",
   "metadata": {},
   "source": [
    "### Serve Jupyter Dash"
   ]
  },
  {
   "cell_type": "code",
   "execution_count": null,
   "metadata": {
    "pycharm": {
     "is_executing": true
    }
   },
   "outputs": [],
   "source": [
    "JupyterDash.infer_jupyter_proxy_config()"
   ]
  },
  {
   "cell_type": "markdown",
   "metadata": {},
   "source": [
    "### Define your static parameters"
   ]
  },
  {
   "cell_type": "code",
   "execution_count": 4,
   "metadata": {
    "pycharm": {
     "is_executing": true
    }
   },
   "outputs": [
    {
     "data": {
      "text/html": [
       "\n",
       "        <iframe\n",
       "            width=\"100%\"\n",
       "            height=\"650\"\n",
       "            src=\"http://127.0.0.1:8050/\"\n",
       "            frameborder=\"0\"\n",
       "            allowfullscreen\n",
       "        ></iframe>\n",
       "        "
      ],
      "text/plain": [
       "<IPython.lib.display.IFrame at 0x7fed29ac8970>"
      ]
     },
     "metadata": {},
     "output_type": "display_data"
    }
   ],
   "source": [
    "configs = Config()\n",
    "setup_applet = setup_file.create_app(configs)\n",
    "setup_applet.run_server(mode='inline')"
   ]
  },
  {
   "cell_type": "markdown",
   "metadata": {},
   "source": [
    "### View your sample population"
   ]
  },
  {
   "cell_type": "code",
   "execution_count": 5,
   "metadata": {
    "pycharm": {
     "name": "#%%\n"
    }
   },
   "outputs": [
    {
     "name": "stdout",
     "output_type": "stream",
     "text": [
      "[{'gene': array([75, 58, 35, 48, 43, 96, 86, 33,  0,  5, 52, 26, 61, 94, 23, 18, 88,\n",
      "        14, 13, 85, 93, 80, 71, 20, 66,  6,  1, 53, 79,  2, 95, 16, 73, 74,\n",
      "        34, 51, 29, 90, 17, 91, 21, 89, 10, 77, 55, 83, 38, 49, 28, 39, 67,\n",
      "        46, 81, 42, 32, 50, 41, 15, 87, 62, 64, 82,  4, 19, 59, 25,  7, 84,\n",
      "        44, 30, 24, 99, 97, 70,  8, 40, 65, 63, 27, 45, 57, 37, 12, 54, 47,\n",
      "        22,  3, 78, 92, 69, 31,  9, 98, 68, 11, 76, 36, 56, 60, 72]), 'fitness': array([0])}\n",
      " {'gene': array([25, 18, 94, 30, 26, 51, 88, 20, 11,  5, 50, 59, 81, 35, 92, 60, 28,\n",
      "        58, 66, 53, 40, 23, 47, 49, 89, 15, 72, 44, 62, 90, 24, 68, 32, 22,\n",
      "        21, 14, 12, 42, 97, 98,  2, 34, 96, 78, 63,  4, 70, 95, 55,  8, 74,\n",
      "        61, 75, 46, 84, 56, 57, 45, 17, 39, 54,  0, 16,  3, 85, 91, 99, 86,\n",
      "        48, 77, 76, 27, 69, 64, 43, 19,  7, 83, 10, 33, 67,  1, 29, 37, 31,\n",
      "        65, 41, 13,  9, 93, 87, 52,  6, 38, 36, 80, 71, 79, 73, 82]), 'fitness': array([0])}\n",
      " {'gene': array([67, 41, 11, 79, 71, 26, 64, 53, 73, 21, 24, 99, 87, 43, 33, 17, 77,\n",
      "         5, 81, 56, 74, 15, 80, 78, 30, 38, 62, 42, 47, 83, 28, 39, 66, 93,\n",
      "        60, 76, 85, 86, 70, 29, 27, 68, 13, 91, 55, 50,  7, 23, 82, 14, 32,\n",
      "        75, 18,  6, 65, 37, 25, 54, 20, 88, 52, 84, 36, 22,  1, 46,  4, 45,\n",
      "        92, 35, 12, 95, 57, 59, 51,  0, 58,  3, 63, 96, 61, 94, 48,  9, 90,\n",
      "        49, 31, 89, 98, 10, 97, 69, 40, 72, 16, 44, 34,  2, 19,  8]), 'fitness': array([0])}\n",
      " {'gene': array([48, 97, 88, 45, 52, 24,  9, 13, 71, 61, 91, 62, 14, 68, 21, 95, 46,\n",
      "        80, 20, 27, 65, 22, 35, 89, 73, 26, 10, 96, 56, 57, 94, 54, 69,  3,\n",
      "         5, 50, 16, 66,  1,  7,  0, 92, 38,  6, 49, 70, 32, 39, 67, 72, 87,\n",
      "        28,  4, 33, 29, 53, 81, 98, 43, 42, 47, 55, 36,  2, 51, 86, 41, 19,\n",
      "        83, 84,  8, 79, 11, 78, 12, 74, 18, 99, 85, 60, 58, 82, 44, 30, 37,\n",
      "        17, 63, 34, 25, 64, 90, 15, 93, 23, 76, 59, 75, 31, 77, 40]), 'fitness': array([0])}\n",
      " {'gene': array([86, 62, 53, 20,  6, 55, 52, 21, 88, 34, 77, 95, 75,  5, 22, 78, 13,\n",
      "        73, 57, 11, 27, 79, 74, 28, 96, 36, 41, 24, 69, 70, 10, 23,  3, 37,\n",
      "        90, 14, 17, 29, 51, 45, 98, 25, 30,  4, 87, 15, 38, 49, 85, 80, 71,\n",
      "        60,  9, 68, 50, 44, 97, 46, 42, 91, 64, 33, 93, 72, 76, 31, 94, 47,\n",
      "        99, 66,  1, 16, 48, 83, 12, 92, 56, 54, 61,  8, 19, 40, 35, 84, 89,\n",
      "        63, 67, 18, 32, 81, 65, 26,  7, 43, 58,  2, 59, 82, 39,  0]), 'fitness': array([0])}]\n"
     ]
    }
   ],
   "source": [
    "sample_pop = configs.enc.initialize()\n",
    "print(sample_pop)"
   ]
  },
  {
   "cell_type": "markdown",
   "metadata": {},
   "source": [
    "### Define your evaluation function\n",
    "\n",
    "Your evaluation function should update all fitness values of an individual ```ind```. For example, the evaluation function for the single-objective Traveling Salesman Problem is defined below.\n",
    "\n",
    "```\n",
    "def eval(pop):\n",
    "    dist = np.loadtxt('dist.txt')\n",
    "\n",
    "    for ind in pop:\n",
    "        ind['fitness'][0] = dist[0][ind['gene'][0]] + np.array([dist[ind['gene'][i - 1]][ind['gene'][i]] for i in range(1, configs.gene_size)]).sum() + dist[ind['gene'][-1]][0]\n",
    "\n",
    "    return pop\n",
    "```"
   ]
  },
  {
   "cell_type": "code",
   "execution_count": 6,
   "metadata": {
    "collapsed": false,
    "jupyter": {
     "outputs_hidden": false
    },
    "pycharm": {
     "name": "#%%\n"
    }
   },
   "outputs": [],
   "source": [
    "def eval(pop):\n",
    "    dist = np.loadtxt('dist.txt')\n",
    "\n",
    "    for ind in pop:\n",
    "        ind['fitness'][0] = dist[0][ind['gene'][0]] + np.array([dist[ind['gene'][i - 1]][ind['gene'][i]] for i in range(1, configs.gene_size)]).sum() + dist[ind['gene'][-1]][0]\n",
    "\n",
    "    return pop"
   ]
  },
  {
   "cell_type": "code",
   "execution_count": 7,
   "metadata": {},
   "outputs": [
    {
     "name": "stdout",
     "output_type": "stream",
     "text": [
      "{'gene': array([75, 58, 35, 48, 43, 96, 86, 33,  0,  5, 52, 26, 61, 94, 23, 18, 88,\n",
      "       14, 13, 85, 93, 80, 71, 20, 66,  6,  1, 53, 79,  2, 95, 16, 73, 74,\n",
      "       34, 51, 29, 90, 17, 91, 21, 89, 10, 77, 55, 83, 38, 49, 28, 39, 67,\n",
      "       46, 81, 42, 32, 50, 41, 15, 87, 62, 64, 82,  4, 19, 59, 25,  7, 84,\n",
      "       44, 30, 24, 99, 97, 70,  8, 40, 65, 63, 27, 45, 57, 37, 12, 54, 47,\n",
      "       22,  3, 78, 92, 69, 31,  9, 98, 68, 11, 76, 36, 56, 60, 72]), 'fitness': array([46263])}\n"
     ]
    }
   ],
   "source": [
    "sample_ind = eval(sample_pop)\n",
    "print(sample_ind[0])"
   ]
  },
  {
   "cell_type": "markdown",
   "metadata": {},
   "source": [
    "### Define a custom Plotly figure to display an individual's phenotypic (high-level) representation\n",
    "\n",
    "For example, the phenotypic representation for a solution Traveling Salesman Problem is defined below as a graph network\n",
    "\n",
    "```\n",
    "def custom(ind):\n",
    "    locs = np.loadtxt('loc.txt')  \n",
    "    \n",
    "    fig = go.Figure(data=[go.Scatter(x=[locs[0][0]] + [locs[0][ind['gene'][i]] for i in range(configs.gene_size)] + [locs[0][0]],\n",
    "                                     y=[locs[1][0]] + [locs[1][ind['gene'][i]] for i in range(configs.gene_size)] + [locs[1][0]],\n",
    "                                     mode='lines+markers')])\n",
    "    fig.update_layout(xaxis_title='Latitude', yaxis_title='Longitude')\n",
    "    return fig\n",
    "```"
   ]
  },
  {
   "cell_type": "code",
   "execution_count": 8,
   "metadata": {},
   "outputs": [],
   "source": [
    "def custom(ind):\n",
    "    locs = np.loadtxt('loc.txt')  \n",
    "    \n",
    "    fig = go.Figure(data=[go.Scatter(x=[locs[0][0]] + [locs[0][ind['gene'][i]] for i in range(configs.gene_size)] + [locs[0][0]],\n",
    "                                     y=[locs[1][0]] + [locs[1][ind['gene'][i]] for i in range(configs.gene_size)] + [locs[1][0]],\n",
    "                                     mode='lines+markers')])\n",
    "    fig.update_layout(xaxis_title='Latitude', yaxis_title='Longitude')\n",
    "    return fig"
   ]
  },
  {
   "cell_type": "markdown",
   "metadata": {},
   "source": [
    "### Save your static configurations\n",
    "\n",
    "If you are satisfied with your evaluation function and custom visualization, save it to your configurations"
   ]
  },
  {
   "cell_type": "code",
   "execution_count": 9,
   "metadata": {
    "pycharm": {
     "name": "#%%\n"
    }
   },
   "outputs": [],
   "source": [
    "configs.eval, configs.vis = eval, custom"
   ]
  },
  {
   "cell_type": "markdown",
   "metadata": {},
   "source": [
    "### Run the application"
   ]
  },
  {
   "cell_type": "code",
   "execution_count": 10,
   "metadata": {
    "collapsed": false,
    "jupyter": {
     "outputs_hidden": false
    },
    "pycharm": {
     "name": "#%%\n"
    }
   },
   "outputs": [
    {
     "name": "stdout",
     "output_type": "stream",
     "text": [
      "Dash app running on http://127.0.0.1:8050/\n"
     ]
    }
   ],
   "source": [
    "main_app = app_file.create_app(configs)\n",
    "main_app.run_server()"
   ]
  },
  {
   "cell_type": "code",
   "execution_count": null,
   "metadata": {},
   "outputs": [],
   "source": []
  }
 ],
 "metadata": {
  "jupytext": {
   "formats": "ipynb,py:percent"
  },
  "kernelspec": {
   "display_name": "Python 3",
   "language": "python",
   "name": "python3"
  },
  "language_info": {
   "codemirror_mode": {
    "name": "ipython",
    "version": 3
   },
   "file_extension": ".py",
   "mimetype": "text/x-python",
   "name": "python",
   "nbconvert_exporter": "python",
   "pygments_lexer": "ipython3",
   "version": "3.8.2"
  }
 },
 "nbformat": 4,
 "nbformat_minor": 4
}
