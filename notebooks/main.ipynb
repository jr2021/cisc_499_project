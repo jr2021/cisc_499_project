{
 "cells": [
  {
   "cell_type": "markdown",
   "metadata": {},
   "source": [
    "### Install dependencies"
   ]
  },
  {
   "cell_type": "code",
   "execution_count": 1,
   "metadata": {},
   "outputs": [],
   "source": [
    "from jupyter_dash import JupyterDash\n",
    "import pandas as pd\n",
    "import numpy as np\n",
    "from plotly import graph_objects as go\n",
    "import app as app_file\n",
    "import setup as setup_file\n",
    "import dash_core_components as dcc\n",
    "import pickle\n",
    "from Configuration import *"
   ]
  },
  {
   "cell_type": "markdown",
   "metadata": {},
   "source": [
    "### Serve Jupyter Dash"
   ]
  },
  {
   "cell_type": "code",
   "execution_count": null,
   "metadata": {
    "pycharm": {
     "is_executing": true
    }
   },
   "outputs": [],
   "source": [
    "JupyterDash.infer_jupyter_proxy_config()"
   ]
  },
  {
   "cell_type": "markdown",
   "metadata": {},
   "source": [
    "### Define your static parameters"
   ]
  },
  {
   "cell_type": "code",
   "execution_count": 11,
   "metadata": {},
   "outputs": [],
   "source": [
    "configs = Config()"
   ]
  },
  {
   "cell_type": "code",
   "execution_count": 12,
   "metadata": {
    "pycharm": {
     "is_executing": true
    }
   },
   "outputs": [
    {
     "data": {
      "text/html": [
       "\n",
       "        <iframe\n",
       "            width=\"100%\"\n",
       "            height=\"650\"\n",
       "            src=\"http://127.0.0.1:8893/\"\n",
       "            frameborder=\"0\"\n",
       "            allowfullscreen\n",
       "        ></iframe>\n",
       "        "
      ],
      "text/plain": [
       "<IPython.lib.display.IFrame at 0x7feb045e76d0>"
      ]
     },
     "metadata": {},
     "output_type": "display_data"
    }
   ],
   "source": [
    "setup_applet = setup_file.create_app(configs)\n",
    "setup_applet.run_server(mode='inline', port=8893)"
   ]
  },
  {
   "cell_type": "markdown",
   "metadata": {},
   "source": [
    "### View your sample population"
   ]
  },
  {
   "cell_type": "code",
   "execution_count": 13,
   "metadata": {
    "pycharm": {
     "name": "#%%\n"
    }
   },
   "outputs": [
    {
     "name": "stdout",
     "output_type": "stream",
     "text": [
      "[{'gene': array([1, 6, 7, 2, 3, 5, 8, 4, 9, 0]), 'fitness': array([0])}\n",
      " {'gene': array([0, 5, 7, 4, 2, 6, 8, 9, 3, 1]), 'fitness': array([0])}\n",
      " {'gene': array([4, 0, 2, 3, 1, 8, 5, 9, 7, 6]), 'fitness': array([0])}\n",
      " {'gene': array([6, 9, 4, 1, 3, 0, 2, 5, 7, 8]), 'fitness': array([0])}\n",
      " {'gene': array([1, 2, 8, 3, 0, 5, 7, 6, 9, 4]), 'fitness': array([0])}]\n"
     ]
    }
   ],
   "source": [
    "sample_pop = configs.enc.initialize()\n",
    "print(sample_pop)"
   ]
  },
  {
   "cell_type": "markdown",
   "metadata": {},
   "source": [
    "### Define your evaluation function\n",
    "\n",
    "Below is an example fitness evaluation function for the single-objective Traveling Salesman Problem (TSP)\n",
    "\n",
    "```\n",
    "def TSP(ind):\n",
    "    dist = np.loadtxt('dist.txt')\n",
    "\n",
    "    ind['fitness'][0] += dist[0][ind['gene'][0]]\n",
    "    ind['fitness'][0] += np.array([dist[ind['gene'][i - 1]][ind['gene'][i]] for i in range(1, configs.gene_size)]).sum()\n",
    "    ind['fitness'][0] += dist[ind['gene'][-1]][0]\n",
    "\n",
    "    return ind\n",
    "```"
   ]
  },
  {
   "cell_type": "code",
   "execution_count": 14,
   "metadata": {
    "collapsed": false,
    "jupyter": {
     "outputs_hidden": false
    },
    "pycharm": {
     "name": "#%%\n"
    }
   },
   "outputs": [
    {
     "name": "stdout",
     "output_type": "stream",
     "text": [
      "{'gene': array([1, 6, 7, 2, 3, 5, 8, 4, 9, 0]), 'fitness': array([4242])}\n"
     ]
    }
   ],
   "source": [
    "def TSP(pop):\n",
    "    dist = np.loadtxt('dist.txt')\n",
    "\n",
    "    for ind in pop:\n",
    "        ind['fitness'][0] += dist[0][ind['gene'][0]]\n",
    "        ind['fitness'][0] += np.array([dist[ind['gene'][i - 1]][ind['gene'][i]] for i in range(1, configs.gene_size)]).sum()\n",
    "        ind['fitness'][0] += dist[ind['gene'][-1]][0]\n",
    "\n",
    "    return pop\n",
    "\n",
    "sample_pop = TSP(sample_pop)\n",
    "print(sample_pop[0])"
   ]
  },
  {
   "cell_type": "markdown",
   "metadata": {},
   "source": [
    "### Define a custom phenotypic representation"
   ]
  },
  {
   "cell_type": "code",
   "execution_count": 15,
   "metadata": {},
   "outputs": [
    {
     "name": "stdout",
     "output_type": "stream",
     "text": [
      "Figure({\n",
      "    'data': [{'mode': 'lines',\n",
      "              'type': 'scatter',\n",
      "              'x': [48.0, 28.0, 84.0, 97.0, 55.0, 58.0, 72.0, 59.0, 15.0, 3.0,\n",
      "                    48.0, 1.0],\n",
      "              'y': [84.0, 36.0, 8.0, 44.0, 30.0, 80.0, 29.0, 89.0, 88.0, 87.0,\n",
      "                    84.0, 16.0]}],\n",
      "    'layout': {'template': '...'}\n",
      "})\n"
     ]
    }
   ],
   "source": [
    "def network(ind):\n",
    "    locs = np.loadtxt('loc.txt')  \n",
    "    \n",
    "    fig = go.Figure(data=[go.Scatter(x=[locs[0][0]] + [locs[0][ind['gene'][i]] for i in range(configs.gene_size)] + [locs[0][0]],\n",
    "                                     y=[locs[1][0]] + [locs[1][ind['gene'][i]] for i in range(configs.gene_size)] + [locs[1][0]],\n",
    "                                     mode='lines')])\n",
    "    return fig\n",
    "\n",
    "print(network(sample_pop[0]))"
   ]
  },
  {
   "cell_type": "markdown",
   "metadata": {},
   "source": [
    "### Save your static configurations\n",
    "\n",
    "If you are satisfied with your evaluation function and custom visualization, save it to your configurations"
   ]
  },
  {
   "cell_type": "code",
   "execution_count": 16,
   "metadata": {
    "pycharm": {
     "name": "#%%\n"
    }
   },
   "outputs": [],
   "source": [
    "configs.eval, configs.vis = TSP, network"
   ]
  },
  {
   "cell_type": "markdown",
   "metadata": {},
   "source": [
    "### Run the application"
   ]
  },
  {
   "cell_type": "code",
   "execution_count": 17,
   "metadata": {
    "collapsed": false,
    "jupyter": {
     "outputs_hidden": false
    },
    "pycharm": {
     "name": "#%%\n"
    }
   },
   "outputs": [
    {
     "name": "stdout",
     "output_type": "stream",
     "text": [
      "Dash app running on http://127.0.0.1:8893/\n"
     ]
    }
   ],
   "source": [
    "main_app = app_file.create_app(configs)\n",
    "main_app.run_server(port=8893)"
   ]
  },
  {
   "cell_type": "code",
   "execution_count": 11,
   "metadata": {},
   "outputs": [
    {
     "data": {
      "text/plain": [
       "<bound method Single.rank_based of <Configuration.Single object at 0x7fc9532cbc10>>"
      ]
     },
     "execution_count": 11,
     "metadata": {},
     "output_type": "execute_result"
    }
   ],
   "source": [
    "configs.sel"
   ]
  },
  {
   "cell_type": "code",
   "execution_count": null,
   "metadata": {},
   "outputs": [],
   "source": []
  }
 ],
 "metadata": {
  "jupytext": {
   "formats": "ipynb,py:percent"
  },
  "kernelspec": {
   "display_name": "Python 3",
   "language": "python",
   "name": "python3"
  },
  "language_info": {
   "codemirror_mode": {
    "name": "ipython",
    "version": 3
   },
   "file_extension": ".py",
   "mimetype": "text/x-python",
   "name": "python",
   "nbconvert_exporter": "python",
   "pygments_lexer": "ipython3",
   "version": "3.8.2"
  }
 },
 "nbformat": 4,
 "nbformat_minor": 4
}
