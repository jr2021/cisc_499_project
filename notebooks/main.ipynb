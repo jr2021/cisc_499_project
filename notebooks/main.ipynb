{
 "cells": [
  {
   "cell_type": "markdown",
   "metadata": {},
   "source": [
    "# Welcome to [FIXME]\n",
    "\n",
    "This notebook provides an interactive interface that aids in the development of genetic algorithms, through enabling the user to select a predefined configuration for 1 of 4 common problem instances, as well as define a custom configuration, fitness evaluation function, and phenotype visualizion for their own problem. "
   ]
  },
  {
   "cell_type": "markdown",
   "metadata": {},
   "source": [
    "### Import dependencies"
   ]
  },
  {
   "cell_type": "code",
   "execution_count": 1,
   "metadata": {},
   "outputs": [],
   "source": [
    "from jupyter_dash import JupyterDash\n",
    "import numpy as np\n",
    "from plotly import graph_objects as go\n",
    "import app as app_file\n",
    "import setup as setup_file\n",
    "import dash_core_components as dcc\n",
    "import dash_bootstrap_components as dbc\n",
    "from configuration import Config\n",
    "from statistics import Statistics"
   ]
  },
  {
   "cell_type": "markdown",
   "metadata": {},
   "source": [
    "### Setup the Dash environment"
   ]
  },
  {
   "cell_type": "code",
   "execution_count": null,
   "metadata": {
    "pycharm": {
     "is_executing": true
    }
   },
   "outputs": [],
   "source": [
    "JupyterDash.infer_jupyter_proxy_config()"
   ]
  },
  {
   "cell_type": "markdown",
   "metadata": {},
   "source": [
    "### Configure and save a genetic algorithm"
   ]
  },
  {
   "cell_type": "code",
   "execution_count": 4,
   "metadata": {
    "pycharm": {
     "is_executing": true
    }
   },
   "outputs": [
    {
     "data": {
      "text/html": [
       "\n",
       "        <iframe\n",
       "            width=\"100%\"\n",
       "            height=\"650\"\n",
       "            src=\"http://127.0.0.1:8050/\"\n",
       "            frameborder=\"0\"\n",
       "            allowfullscreen\n",
       "        ></iframe>\n",
       "        "
      ],
      "text/plain": [
       "<IPython.lib.display.IFrame at 0x7fdcfdbaad30>"
      ]
     },
     "metadata": {},
     "output_type": "display_data"
    }
   ],
   "source": [
    "configs = Config()\n",
    "setup_applet = setup_file.create_app(configs)\n",
    "setup_applet.run_server(mode='inline')"
   ]
  },
  {
   "cell_type": "markdown",
   "metadata": {},
   "source": [
    "### Create a sample individual"
   ]
  },
  {
   "cell_type": "code",
   "execution_count": 6,
   "metadata": {
    "pycharm": {
     "name": "#%%\n"
    }
   },
   "outputs": [
    {
     "data": {
      "text/plain": [
       "{'gene': array([10, 13, 27,  8, 21,  7,  3,  9, 12,  1, 20, 18, 15, 23, 16, 11, 24,\n",
       "         2,  6,  4, 19, 25, 26, 14,  0,  5, 22, 28, 17]),\n",
       " 'fitness': array([0])}"
      ]
     },
     "execution_count": 6,
     "metadata": {},
     "output_type": "execute_result"
    }
   ],
   "source": [
    "sample_pop = configs.params['enc_type'].initialize()\n",
    "sample_pop[0]"
   ]
  },
  {
   "cell_type": "markdown",
   "metadata": {},
   "source": [
    "### Define a custom evaluation function\n",
    "\n",
    "If you are defining your own algorithm configuration, your evaluation function should update all fitness values of an individual. Sample evaluation functions for both single and mult-objective problem instances can be found in ```evaluate.py```. If you are using a predefined configuration for a default problem instance, don't run this cell.\n",
    "\n"
   ]
  },
  {
   "cell_type": "code",
   "execution_count": null,
   "metadata": {
    "collapsed": false,
    "jupyter": {
     "outputs_hidden": false
    },
    "pycharm": {
     "name": "#%%\n"
    }
   },
   "outputs": [],
   "source": [
    "def custom_eval(self, pop):\n",
    "    pass\n",
    "\n",
    "configs.params['eval_type'] = cust_eval"
   ]
  },
  {
   "cell_type": "markdown",
   "metadata": {},
   "source": [
    "### Test the evaluation function"
   ]
  },
  {
   "cell_type": "code",
   "execution_count": 7,
   "metadata": {},
   "outputs": [
    {
     "data": {
      "text/plain": [
       "{'gene': array([10, 13, 27,  8, 21,  7,  3,  9, 12,  1, 20, 18, 15, 23, 16, 11, 24,\n",
       "         2,  6,  4, 19, 25, 26, 14,  0,  5, 22, 28, 17]),\n",
       " 'fitness': array([101620])}"
      ]
     },
     "execution_count": 7,
     "metadata": {},
     "output_type": "execute_result"
    }
   ],
   "source": [
    "sample_pop = configs.params['eval_type'](configs, sample_pop)\n",
    "sample_pop[0]"
   ]
  },
  {
   "cell_type": "markdown",
   "metadata": {},
   "source": [
    "### Define a custom phenotype visualization\n",
    "\n",
    "If you are defining a custom algorithm configuration, your visualization function should define a phenotypic representation of an individual using the ```dash_core_components``` or ```dash_bootstrap_components``` libraries (see ```README.md```). Sample visualization functions for the predefined problems can be found in ```visualize.py```. If you are using a predefined configuration for a default problem instance, don't run this cell.\n"
   ]
  },
  {
   "cell_type": "code",
   "execution_count": 7,
   "metadata": {},
   "outputs": [],
   "source": [
    "def cust_vis(ind):\n",
    "    pass\n",
    "\n",
    "configs.params['cust_vis'] = cust_vis"
   ]
  },
  {
   "cell_type": "markdown",
   "metadata": {},
   "source": [
    "### Run the genetic algorithm"
   ]
  },
  {
   "cell_type": "code",
   "execution_count": 8,
   "metadata": {
    "collapsed": false,
    "jupyter": {
     "outputs_hidden": false
    },
    "pycharm": {
     "name": "#%%\n"
    }
   },
   "outputs": [
    {
     "name": "stdout",
     "output_type": "stream",
     "text": [
      "Dash app running on http://127.0.0.1:8050/\n"
     ]
    }
   ],
   "source": [
    "stats = Statistics(configs.params)\n",
    "main_app = app_file.create_app(configs, stats)\n",
    "main_app.run_server()"
   ]
  },
  {
   "cell_type": "markdown",
   "metadata": {},
   "source": [
    "### Analyze the resulting population"
   ]
  },
  {
   "cell_type": "code",
   "execution_count": null,
   "metadata": {},
   "outputs": [],
   "source": [
    "population = stats.posthoc['population']\n",
    "population"
   ]
  }
 ],
 "metadata": {
  "jupytext": {
   "formats": "ipynb,py:percent"
  },
  "kernelspec": {
   "display_name": "Python 3",
   "language": "python",
   "name": "python3"
  },
  "language_info": {
   "codemirror_mode": {
    "name": "ipython",
    "version": 3
   },
   "file_extension": ".py",
   "mimetype": "text/x-python",
   "name": "python",
   "nbconvert_exporter": "python",
   "pygments_lexer": "ipython3",
   "version": "3.8.2"
  }
 },
 "nbformat": 4,
 "nbformat_minor": 4
}
