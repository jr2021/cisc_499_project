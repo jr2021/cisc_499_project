{
 "cells": [
  {
   "cell_type": "markdown",
   "metadata": {},
   "source": [
    "### Install dependencies"
   ]
  },
  {
   "cell_type": "code",
   "execution_count": 1,
   "metadata": {},
   "outputs": [],
   "source": [
    "from jupyter_dash import JupyterDash\n",
    "import pandas as pd\n",
    "import numpy as np\n",
    "from plotly import graph_objects as go\n",
    "import app as app_file\n",
    "import setup as setup_file\n",
    "import dash_core_components as dcc\n",
    "import pickle\n",
    "from configuration import Config"
   ]
  },
  {
   "cell_type": "markdown",
   "metadata": {},
   "source": [
    "### Serve Jupyter Dash"
   ]
  },
  {
   "cell_type": "code",
   "execution_count": null,
   "metadata": {
    "pycharm": {
     "is_executing": true
    }
   },
   "outputs": [],
   "source": [
    "JupyterDash.infer_jupyter_proxy_config()"
   ]
  },
  {
   "cell_type": "markdown",
   "metadata": {},
   "source": [
    "### Define your static parameters"
   ]
  },
  {
   "cell_type": "code",
   "execution_count": 4,
   "metadata": {
    "pycharm": {
     "is_executing": true
    }
   },
   "outputs": [
    {
     "data": {
      "text/html": [
       "\n",
       "        <iframe\n",
       "            width=\"100%\"\n",
       "            height=\"650\"\n",
       "            src=\"http://127.0.0.1:8050/\"\n",
       "            frameborder=\"0\"\n",
       "            allowfullscreen\n",
       "        ></iframe>\n",
       "        "
      ],
      "text/plain": [
       "<IPython.lib.display.IFrame at 0x7fa686ad89d0>"
      ]
     },
     "metadata": {},
     "output_type": "display_data"
    }
   ],
   "source": [
    "configs = Config()\n",
    "setup_applet = setup_file.create_app(configs)\n",
    "setup_applet.run_server(mode='inline')"
   ]
  },
  {
   "cell_type": "markdown",
   "metadata": {},
   "source": [
    "### View your sample population"
   ]
  },
  {
   "cell_type": "code",
   "execution_count": 5,
   "metadata": {
    "pycharm": {
     "name": "#%%\n"
    }
   },
   "outputs": [
    {
     "name": "stdout",
     "output_type": "stream",
     "text": [
      "[{'gene': array([14, 18, 68, 60, 51, 56, 11, 41, 33, 82, 58, 19, 84, 96, 27, 50, 97,\n",
      "        54, 25, 73, 45,  0, 88, 42, 38, 77, 23, 26, 61,  1, 72, 37, 80, 94,\n",
      "         6, 86, 28, 70, 83, 49, 62, 89, 78, 20, 47, 74,  3,  2, 17, 36, 46,\n",
      "        15,  5, 48, 22, 21, 40, 95, 66, 55, 31,  7, 32, 79, 12, 57, 81, 13,\n",
      "        69, 53, 34, 75, 24, 35, 29, 67,  4, 92, 39, 10, 16, 76, 87, 64, 90,\n",
      "        91,  8, 30, 63, 43, 99, 44, 59, 65, 98, 71, 93,  9, 52, 85]), 'fitness': array([0]), 'meta': None}\n",
      " {'gene': array([50, 79, 18, 20, 17, 14, 43, 37, 57, 94, 21, 44, 93, 22, 91,  0, 69,\n",
      "        23, 51, 74, 13, 48, 66, 49, 33, 81, 15, 68, 87, 11,  8, 32, 90, 45,\n",
      "        72, 38, 78, 19, 67, 99, 39, 63, 85, 35, 62, 84, 58, 34, 70, 60, 96,\n",
      "        41, 59,  1, 76,  6,  2, 42, 64, 65, 36,  5,  4, 54, 86, 89, 97, 88,\n",
      "        29, 31, 95, 77, 25, 46, 12, 10, 28, 73, 82, 98, 16, 26, 75,  7,  9,\n",
      "        61, 80, 53, 83, 55, 24, 56, 27,  3, 71, 47, 30, 52, 92, 40]), 'fitness': array([0]), 'meta': None}\n",
      " {'gene': array([95, 76, 82, 50,  9, 79, 40, 10, 15,  1, 19, 32,  4, 48, 53, 36,  7,\n",
      "        69, 88,  0, 28, 47, 33,  6,  5, 61, 94, 97, 52, 72, 93, 85, 65, 81,\n",
      "        20, 11,  2, 26, 58, 51, 44, 57, 21, 18, 68, 99, 56, 49, 86, 96, 34,\n",
      "        39, 41, 73, 35, 42, 80, 45, 24, 70, 46, 54, 30, 74, 31, 22, 77, 75,\n",
      "        98, 38, 64, 87, 84, 60,  8, 16, 17, 66, 12, 55, 13, 71, 62, 89, 63,\n",
      "        91,  3, 37, 83, 78, 25, 67, 59, 92, 43, 29, 27, 14, 23, 90]), 'fitness': array([0]), 'meta': None}\n",
      " {'gene': array([89, 33, 80, 46, 56,  7, 41, 22, 32, 43, 25, 90, 64, 12, 51, 79, 18,\n",
      "         4, 88, 48, 38, 86, 67, 91, 40, 53, 52, 73, 93, 68, 30,  6, 57, 74,\n",
      "        14, 77,  0, 11, 99, 34, 29, 98, 62, 27, 17, 19, 26, 78, 24, 97, 72,\n",
      "        75, 83, 81,  8, 47, 16, 21, 60, 94, 66,  1, 65, 36, 71, 15, 10, 85,\n",
      "        28, 59, 31, 44, 37, 61, 92, 58, 69,  2, 95, 87, 82, 84, 42, 54,  9,\n",
      "        39, 45, 13, 76,  5, 50, 49, 55,  3, 63, 23, 20, 96, 70, 35]), 'fitness': array([0]), 'meta': None}\n",
      " {'gene': array([48, 70, 82, 87, 85,  9, 18, 28, 24, 44, 95, 79, 42, 23, 97,  0, 43,\n",
      "        54, 33, 25, 50, 27, 60,  2, 56, 53, 71,  4, 98,  8, 38, 37, 96, 91,\n",
      "         5, 15, 73, 69, 21, 83,  6, 64, 80, 55, 14, 45, 99, 12, 88, 63, 72,\n",
      "        36, 75, 26, 78, 51, 58, 68, 90, 93, 19, 22, 65, 16, 20, 76, 11, 92,\n",
      "        52, 62, 46,  7, 61, 41,  3, 94, 47, 67, 40, 30, 57, 89, 81, 59, 34,\n",
      "         1, 49, 17, 86, 10, 74, 77, 66, 35, 32, 29, 39, 84, 13, 31]), 'fitness': array([0]), 'meta': None}]\n"
     ]
    }
   ],
   "source": [
    "sample_pop = configs.params['enc_type'].initialize()\n",
    "print(sample_pop)"
   ]
  },
  {
   "cell_type": "markdown",
   "metadata": {},
   "source": [
    "### Define your evaluation function\n",
    "\n",
    "Your evaluation function should update all fitness values of an individual ```ind```. For example, the evaluation function for the single-objective Traveling Salesman Problem is defined below.\n",
    "\n",
    "```\n",
    "def eval(pop):\n",
    "    dist = np.loadtxt('dist.txt')\n",
    "\n",
    "    for ind in pop:\n",
    "        ind['fitness'][0] = dist[0][ind['gene'][0]] + np.array([dist[ind['gene'][i - 1]][ind['gene'][i]] for i in range(1, configs.gene_size)]).sum() + dist[ind['gene'][-1]][0]\n",
    "\n",
    "    return pop\n",
    "```"
   ]
  },
  {
   "cell_type": "code",
   "execution_count": 6,
   "metadata": {
    "collapsed": false,
    "jupyter": {
     "outputs_hidden": false
    },
    "pycharm": {
     "name": "#%%\n"
    }
   },
   "outputs": [],
   "source": [
    "def TSP(pop):\n",
    "    dist = np.loadtxt('dist.txt')\n",
    "\n",
    "    for ind in pop:\n",
    "        ind['fitness'][0] = dist[0][ind['gene'][0]] + np.array([dist[ind['gene'][i - 1]][ind['gene'][i]] for i in range(1, configs.params['gene_size'])]).sum() + dist[ind['gene'][-1]][0]\n",
    "\n",
    "    return pop"
   ]
  },
  {
   "cell_type": "code",
   "execution_count": 7,
   "metadata": {},
   "outputs": [
    {
     "name": "stdout",
     "output_type": "stream",
     "text": [
      "{'gene': array([14, 18, 68, 60, 51, 56, 11, 41, 33, 82, 58, 19, 84, 96, 27, 50, 97,\n",
      "       54, 25, 73, 45,  0, 88, 42, 38, 77, 23, 26, 61,  1, 72, 37, 80, 94,\n",
      "        6, 86, 28, 70, 83, 49, 62, 89, 78, 20, 47, 74,  3,  2, 17, 36, 46,\n",
      "       15,  5, 48, 22, 21, 40, 95, 66, 55, 31,  7, 32, 79, 12, 57, 81, 13,\n",
      "       69, 53, 34, 75, 24, 35, 29, 67,  4, 92, 39, 10, 16, 76, 87, 64, 90,\n",
      "       91,  8, 30, 63, 43, 99, 44, 59, 65, 98, 71, 93,  9, 52, 85]), 'fitness': array([53087]), 'meta': None}\n"
     ]
    }
   ],
   "source": [
    "sample_ind = TSP(sample_pop)\n",
    "print(sample_ind[0])"
   ]
  },
  {
   "cell_type": "markdown",
   "metadata": {},
   "source": [
    "### Define a custom Plotly figure to display an individual's phenotypic (high-level) representation\n",
    "\n",
    "For example, the phenotypic representation for a solution Traveling Salesman Problem is defined below as a graph network\n",
    "\n",
    "```\n",
    "def custom(ind):\n",
    "    locs = np.loadtxt('loc.txt')  \n",
    "    \n",
    "    fig = go.Figure(data=[go.Scatter(x=[locs[0][0]] + [locs[0][ind['gene'][i]] for i in range(configs.gene_size)] + [locs[0][0]],\n",
    "                                     y=[locs[1][0]] + [locs[1][ind['gene'][i]] for i in range(configs.gene_size)] + [locs[1][0]],\n",
    "                                     mode='lines+markers')])\n",
    "    fig.update_layout(xaxis_title='Latitude', yaxis_title='Longitude')\n",
    "    return fig\n",
    "```"
   ]
  },
  {
   "cell_type": "code",
   "execution_count": 8,
   "metadata": {},
   "outputs": [],
   "source": [
    "def network(ind):\n",
    "    locs = np.loadtxt('loc.txt')  \n",
    "    \n",
    "    fig = go.Figure(data=[go.Scatter(x=[locs[0][0]] + [locs[0][ind['gene'][i]] for i in range(configs.params['gene_size'])] + [locs[0][0]],\n",
    "                                     y=[locs[1][0]] + [locs[1][ind['gene'][i]] for i in range(configs.params['gene_size'])] + [locs[1][0]],\n",
    "                                     mode='lines+markers')])\n",
    "    fig.update_layout(xaxis_title='Latitude', yaxis_title='Longitude')\n",
    "    return fig"
   ]
  },
  {
   "cell_type": "markdown",
   "metadata": {},
   "source": [
    "### Save your static configurations\n",
    "\n",
    "If you are satisfied with your evaluation function and custom visualization, save it to your configurations"
   ]
  },
  {
   "cell_type": "code",
   "execution_count": 9,
   "metadata": {
    "pycharm": {
     "name": "#%%\n"
    }
   },
   "outputs": [],
   "source": [
    "configs.params['cust_eval'], configs.params['cust_vis'] = TSP, network"
   ]
  },
  {
   "cell_type": "markdown",
   "metadata": {},
   "source": [
    "### Run the application"
   ]
  },
  {
   "cell_type": "code",
   "execution_count": 10,
   "metadata": {
    "collapsed": false,
    "jupyter": {
     "outputs_hidden": false
    },
    "pycharm": {
     "name": "#%%\n"
    }
   },
   "outputs": [
    {
     "name": "stdout",
     "output_type": "stream",
     "text": [
      "Dash app running on http://127.0.0.1:8050/\n"
     ]
    }
   ],
   "source": [
    "main_app = app_file.create_app(configs)\n",
    "main_app.run_server()"
   ]
  },
  {
   "cell_type": "markdown",
   "metadata": {},
   "source": [
    "### Testing new Techniques"
   ]
  },
  {
   "cell_type": "code",
   "execution_count": 11,
   "metadata": {},
   "outputs": [],
   "source": [
    "from single import Single\n",
    "from permutation import Perm\n",
    "configs.params['sel_type'] = Single(configs.params).tournament\n",
    "configs.params['rep_type'] = Single(configs.params).tournament\n",
    "configs.params['tourn_size'] = 16\n",
    "configs.params['enc_type'].params['rec_type'] = configs.params['enc_type'].Cross(configs.params).PMX"
   ]
  },
  {
   "cell_type": "code",
   "execution_count": null,
   "metadata": {},
   "outputs": [],
   "source": []
  }
 ],
 "metadata": {
  "jupytext": {
   "formats": "ipynb,py:percent"
  },
  "kernelspec": {
   "display_name": "Python 3",
   "language": "python",
   "name": "python3"
  },
  "language_info": {
   "codemirror_mode": {
    "name": "ipython",
    "version": 3
   },
   "file_extension": ".py",
   "mimetype": "text/x-python",
   "name": "python",
   "nbconvert_exporter": "python",
   "pygments_lexer": "ipython3",
   "version": "3.8.2"
  }
 },
 "nbformat": 4,
 "nbformat_minor": 4
}
