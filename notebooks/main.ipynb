{
 "cells": [
  {
   "cell_type": "markdown",
   "metadata": {},
   "source": [
    "### Install dependencies"
   ]
  },
  {
   "cell_type": "code",
   "execution_count": 1,
   "metadata": {},
   "outputs": [],
   "source": [
    "from jupyter_dash import JupyterDash\n",
    "import pandas as pd\n",
    "import numpy as np\n",
    "from plotly import graph_objects as go\n",
    "import app as app_file\n",
    "import setup as setup_file\n",
    "import dash_core_components as dcc\n",
    "import pickle\n",
    "from configuration import Config"
   ]
  },
  {
   "cell_type": "markdown",
   "metadata": {},
   "source": [
    "### Serve Jupyter Dash"
   ]
  },
  {
   "cell_type": "code",
   "execution_count": null,
   "metadata": {
    "pycharm": {
     "is_executing": true
    }
   },
   "outputs": [],
   "source": [
    "JupyterDash.infer_jupyter_proxy_config()"
   ]
  },
  {
   "cell_type": "markdown",
   "metadata": {},
   "source": [
    "### Define your static parameters"
   ]
  },
  {
   "cell_type": "code",
   "execution_count": 13,
   "metadata": {
    "pycharm": {
     "is_executing": true
    }
   },
   "outputs": [
    {
     "data": {
      "text/html": [
       "\n",
       "        <iframe\n",
       "            width=\"100%\"\n",
       "            height=\"650\"\n",
       "            src=\"http://127.0.0.1:8050/\"\n",
       "            frameborder=\"0\"\n",
       "            allowfullscreen\n",
       "        ></iframe>\n",
       "        "
      ],
      "text/plain": [
       "<IPython.lib.display.IFrame at 0x7fc167d4d610>"
      ]
     },
     "metadata": {},
     "output_type": "display_data"
    }
   ],
   "source": [
    "configs = Config()\n",
    "setup_applet = setup_file.create_app(configs)\n",
    "setup_applet.run_server(mode='inline')"
   ]
  },
  {
   "cell_type": "markdown",
   "metadata": {},
   "source": [
    "### View your sample population"
   ]
  },
  {
   "cell_type": "code",
   "execution_count": 14,
   "metadata": {
    "pycharm": {
     "name": "#%%\n"
    }
   },
   "outputs": [
    {
     "name": "stdout",
     "output_type": "stream",
     "text": [
      "[{'gene': array([29,  4, 11,  2,  5,  1, 24, 18, 19, 14, 10, 31,  7, 28,  8, 23, 25,\n",
      "        21, 12, 26, 30,  0,  6, 22, 16,  9, 17, 15, 27,  3, 20, 13]), 'fitness': array([0]), 'meta': None}\n",
      " {'gene': array([ 6, 10, 24, 23, 17, 26, 18, 12, 15, 31,  7, 16,  5,  9, 22, 27,  1,\n",
      "        28,  8, 30, 19, 13,  2,  4, 21, 20,  3, 14,  0, 11, 29, 25]), 'fitness': array([0]), 'meta': None}\n",
      " {'gene': array([ 0, 19, 27,  3,  8, 20, 15, 11, 16, 10, 24,  2, 22, 17, 26, 12,  1,\n",
      "         6, 31,  4, 25, 30, 14, 23,  9,  7,  5, 18, 28, 29, 21, 13]), 'fitness': array([0]), 'meta': None}\n",
      " {'gene': array([24,  6, 18, 11,  7,  9, 25,  4, 22,  3, 27, 13, 16, 19,  8, 23, 20,\n",
      "        21, 10, 12, 31, 26, 17, 28,  1,  5, 30,  2,  0, 29, 15, 14]), 'fitness': array([0]), 'meta': None}\n",
      " {'gene': array([ 1,  3, 21, 12, 11, 18, 25, 13, 22,  4, 28, 19, 27, 15, 16, 30, 20,\n",
      "         0, 17, 24, 14,  7,  6,  9,  8, 10, 26, 31, 23,  2,  5, 29]), 'fitness': array([0]), 'meta': None}]\n"
     ]
    }
   ],
   "source": [
    "sample_pop = configs.params['enc_type'].initialize()\n",
    "print(sample_pop)"
   ]
  },
  {
   "cell_type": "markdown",
   "metadata": {},
   "source": [
    "### Define your evaluation function\n",
    "\n",
    "Your evaluation function should update all fitness values of an individual ```ind```. For example, the evaluation function for the single-objective Traveling Salesman Problem is defined below.\n",
    "\n",
    "```\n",
    "def eval(pop):\n",
    "    dist = np.loadtxt('dist.txt')\n",
    "\n",
    "    for ind in pop:\n",
    "        ind['fitness'][0] = dist[0][ind['gene'][0]] + np.array([dist[ind['gene'][i - 1]][ind['gene'][i]] for i in range(1, configs.gene_size)]).sum() + dist[ind['gene'][-1]][0]\n",
    "\n",
    "    return pop\n",
    "```"
   ]
  },
  {
   "cell_type": "code",
   "execution_count": 15,
   "metadata": {
    "collapsed": false,
    "jupyter": {
     "outputs_hidden": false
    },
    "pycharm": {
     "name": "#%%\n"
    }
   },
   "outputs": [],
   "source": [
    "def TSP(pop):\n",
    "    dist = np.loadtxt('dist.txt')\n",
    "\n",
    "    for ind in pop:\n",
    "        ind['fitness'][0] = dist[0][ind['gene'][0]] + np.array([dist[ind['gene'][i - 1]][ind['gene'][i]] for i in range(1, configs.params['gene_size'])]).sum() + dist[ind['gene'][-1]][0]\n",
    "\n",
    "    return pop"
   ]
  },
  {
   "cell_type": "code",
   "execution_count": 16,
   "metadata": {},
   "outputs": [
    {
     "name": "stdout",
     "output_type": "stream",
     "text": [
      "{'gene': array([29,  4, 11,  2,  5,  1, 24, 18, 19, 14, 10, 31,  7, 28,  8, 23, 25,\n",
      "       21, 12, 26, 30,  0,  6, 22, 16,  9, 17, 15, 27,  3, 20, 13]), 'fitness': array([14753]), 'meta': None}\n"
     ]
    }
   ],
   "source": [
    "sample_ind = TSP(sample_pop)\n",
    "print(sample_ind[0])"
   ]
  },
  {
   "cell_type": "markdown",
   "metadata": {},
   "source": [
    "### Define a custom Plotly figure to display an individual's phenotypic (high-level) representation\n",
    "\n",
    "For example, the phenotypic representation for a solution Traveling Salesman Problem is defined below as a graph network\n",
    "\n",
    "```\n",
    "def custom(ind):\n",
    "    locs = np.loadtxt('loc.txt')  \n",
    "    \n",
    "    fig = go.Figure(data=[go.Scatter(x=[locs[0][0]] + [locs[0][ind['gene'][i]] for i in range(configs.gene_size)] + [locs[0][0]],\n",
    "                                     y=[locs[1][0]] + [locs[1][ind['gene'][i]] for i in range(configs.gene_size)] + [locs[1][0]],\n",
    "                                     mode='lines+markers')])\n",
    "    fig.update_layout(xaxis_title='Latitude', yaxis_title='Longitude')\n",
    "    return fig\n",
    "```"
   ]
  },
  {
   "cell_type": "code",
   "execution_count": 17,
   "metadata": {},
   "outputs": [],
   "source": [
    "def network(ind):\n",
    "    locs = np.loadtxt('loc.txt')  \n",
    "    \n",
    "    fig = go.Figure(data=[go.Scatter(x=[locs[0][0]] + [locs[0][ind['gene'][i]] for i in range(configs.params['gene_size'])] + [locs[0][0]],\n",
    "                                     y=[locs[1][0]] + [locs[1][ind['gene'][i]] for i in range(configs.params['gene_size'])] + [locs[1][0]],\n",
    "                                     mode='lines+markers')])\n",
    "    fig.update_layout(xaxis_title='Latitude', yaxis_title='Longitude')\n",
    "    return fig"
   ]
  },
  {
   "cell_type": "markdown",
   "metadata": {},
   "source": [
    "### Save your static configurations\n",
    "\n",
    "If you are satisfied with your evaluation function and custom visualization, save it to your configurations"
   ]
  },
  {
   "cell_type": "code",
   "execution_count": 18,
   "metadata": {
    "pycharm": {
     "name": "#%%\n"
    }
   },
   "outputs": [],
   "source": [
    "configs.params['cust_eval'], configs.params['cust_vis'] = TSP, network"
   ]
  },
  {
   "cell_type": "markdown",
   "metadata": {},
   "source": [
    "### Run the application"
   ]
  },
  {
   "cell_type": "code",
   "execution_count": 19,
   "metadata": {
    "collapsed": false,
    "jupyter": {
     "outputs_hidden": false
    },
    "pycharm": {
     "name": "#%%\n"
    }
   },
   "outputs": [
    {
     "name": "stdout",
     "output_type": "stream",
     "text": [
      "Dash app running on http://127.0.0.1:8050/\n"
     ]
    }
   ],
   "source": [
    "main_app = app_file.create_app(configs)\n",
    "main_app.run_server()"
   ]
  },
  {
   "cell_type": "code",
   "execution_count": 20,
   "metadata": {},
   "outputs": [],
   "source": [
    "from single import Single\n",
    "configs.params['sel_type'] = Single(configs.params).tournament\n",
    "configs.params['rep_type'] = Single(configs.params).tournament\n",
    "configs.params['tourn_size'] = 8"
   ]
  },
  {
   "cell_type": "code",
   "execution_count": null,
   "metadata": {},
   "outputs": [],
   "source": []
  }
 ],
 "metadata": {
  "jupytext": {
   "formats": "ipynb,py:percent"
  },
  "kernelspec": {
   "display_name": "Python 3",
   "language": "python",
   "name": "python3"
  },
  "language_info": {
   "codemirror_mode": {
    "name": "ipython",
    "version": 3
   },
   "file_extension": ".py",
   "mimetype": "text/x-python",
   "name": "python",
   "nbconvert_exporter": "python",
   "pygments_lexer": "ipython3",
   "version": "3.8.2"
  }
 },
 "nbformat": 4,
 "nbformat_minor": 4
}
