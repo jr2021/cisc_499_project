{
 "cells": [
  {
   "cell_type": "markdown",
   "metadata": {},
   "source": [
    "### Install dependencies"
   ]
  },
  {
   "cell_type": "code",
   "execution_count": 1,
   "metadata": {},
   "outputs": [],
   "source": [
    "from jupyter_dash import JupyterDash\n",
    "import pandas as pd\n",
    "import numpy as np\n",
    "import plotly.graph_objects as go\n",
    "import app as app_file\n",
    "import setup as setup_file\n",
    "import pickle\n",
    "from Configuration import *"
   ]
  },
  {
   "cell_type": "markdown",
   "metadata": {},
   "source": [
    "### Serve Jupyter Dash"
   ]
  },
  {
   "cell_type": "code",
   "execution_count": null,
   "metadata": {
    "pycharm": {
     "is_executing": true
    }
   },
   "outputs": [],
   "source": [
    "JupyterDash.infer_jupyter_proxy_config()"
   ]
  },
  {
   "cell_type": "markdown",
   "metadata": {},
   "source": [
    "### Define your static parameters"
   ]
  },
  {
   "cell_type": "code",
   "execution_count": null,
   "metadata": {
    "pycharm": {
     "is_executing": true
    }
   },
   "outputs": [],
   "source": [
    "setup_applet = setup_file.create_app()\n",
    "setup_applet.run_server(mode='inline', port=8925)"
   ]
  },
  {
   "cell_type": "markdown",
   "metadata": {},
   "source": [
    "### View your sample population"
   ]
  },
  {
   "cell_type": "code",
   "execution_count": 16,
   "metadata": {},
   "outputs": [],
   "source": [
    "with open('configs.pkl', 'rb') as f:\n",
    "    configs = pickle.load(f)"
   ]
  },
  {
   "cell_type": "code",
   "execution_count": 17,
   "metadata": {
    "pycharm": {
     "name": "#%%\n"
    }
   },
   "outputs": [],
   "source": [
    "sample_pop = configs.rep.initialize()"
   ]
  },
  {
   "cell_type": "code",
   "execution_count": 18,
   "metadata": {},
   "outputs": [
    {
     "name": "stdout",
     "output_type": "stream",
     "text": [
      "[{'gene': array([ 3,  9,  1,  4,  5, 10,  8,  7,  2,  6]), 'fitness': array([0])}\n",
      " {'gene': array([ 5,  3,  7, 10,  9,  1,  8,  6,  2,  4]), 'fitness': array([0])}\n",
      " {'gene': array([ 4,  6,  2,  7,  1,  9, 10,  5,  8,  3]), 'fitness': array([0])}\n",
      " {'gene': array([ 8,  7,  6,  2,  3, 10,  5,  1,  4,  9]), 'fitness': array([0])}\n",
      " {'gene': array([ 5,  1,  7, 10,  2,  9,  8,  3,  4,  6]), 'fitness': array([0])}\n",
      " {'gene': array([ 6,  7, 10,  4,  3,  2,  8,  1,  9,  5]), 'fitness': array([0])}\n",
      " {'gene': array([ 5,  7,  6,  8,  9,  2,  3, 10,  4,  1]), 'fitness': array([0])}\n",
      " {'gene': array([ 8,  5,  1,  2, 10,  6,  9,  4,  7,  3]), 'fitness': array([0])}]\n"
     ]
    }
   ],
   "source": [
    "print(sample_pop)"
   ]
  },
  {
   "cell_type": "markdown",
   "metadata": {},
   "source": [
    "### Define your evaluation function\n",
    "\n",
    "Below is an example fitness evaluation function for the single-objective Traveling Salesman Problem (TSP)\n",
    "\n",
    "```\n",
    "def TSP(pop):\n",
    "    data = np.loadtxt('data.txt')\n",
    "\n",
    "    for ind in pop:\n",
    "        ind['fitness'][0] += data[0][ind['gene'][0]]\n",
    "        ind['fitness'][0] += np.array([data[ind['gene'][i - 1]][ind['gene'][i]] for i in range(1, config.len_gene)]).sum()\n",
    "        data[ind['gene'][-1]][0]\n",
    "\n",
    "    return pop\n",
    "```"
   ]
  },
  {
   "cell_type": "code",
   "execution_count": 19,
   "metadata": {
    "collapsed": false,
    "jupyter": {
     "outputs_hidden": false
    },
    "pycharm": {
     "name": "#%%\n"
    }
   },
   "outputs": [
    {
     "name": "stdout",
     "output_type": "stream",
     "text": [
      "[{'gene': array([ 3,  9,  1,  4,  5, 10,  8,  7,  2,  6]), 'fitness': array([5015])}\n",
      " {'gene': array([ 5,  3,  7, 10,  9,  1,  8,  6,  2,  4]), 'fitness': array([5030])}\n",
      " {'gene': array([ 4,  6,  2,  7,  1,  9, 10,  5,  8,  3]), 'fitness': array([6681])}\n",
      " {'gene': array([ 8,  7,  6,  2,  3, 10,  5,  1,  4,  9]), 'fitness': array([6888])}\n",
      " {'gene': array([ 5,  1,  7, 10,  2,  9,  8,  3,  4,  6]), 'fitness': array([5320])}\n",
      " {'gene': array([ 6,  7, 10,  4,  3,  2,  8,  1,  9,  5]), 'fitness': array([5525])}\n",
      " {'gene': array([ 5,  7,  6,  8,  9,  2,  3, 10,  4,  1]), 'fitness': array([5282])}\n",
      " {'gene': array([ 8,  5,  1,  2, 10,  6,  9,  4,  7,  3]), 'fitness': array([5236])}]\n"
     ]
    }
   ],
   "source": [
    "def eval(pop):\n",
    "    dist = np.loadtxt('dist.txt')\n",
    "\n",
    "    for ind in pop:\n",
    "        ind['fitness'][0] += dist[0][ind['gene'][0]]\n",
    "        ind['fitness'][0] += np.array([dist[ind['gene'][i - 1]][ind['gene'][i]] for i in range(1, configs.gene_size)]).sum()\n",
    "        ind['fitness'][0] += dist[ind['gene'][-1]][0]\n",
    "\n",
    "    return pop\n",
    "\n",
    "sample_pop = eval(sample_pop)\n",
    "print(sample_pop)"
   ]
  },
  {
   "cell_type": "markdown",
   "metadata": {},
   "source": [
    "### Define a custom phenotypic representation"
   ]
  },
  {
   "cell_type": "code",
   "execution_count": null,
   "metadata": {},
   "outputs": [],
   "source": [
    "def vis(ind):\n",
    "    locs = np.loadtxt('loc.txt')  \n",
    "    \n",
    "    fig = go.Figure(go.Scatter(x=[] + [locs[0][ind['gene'][i]] for i in range(configs.gene_size)] + [], y=[] + [locs[1][ind['gene'][i]] for i in range(configs.gene_size)] + [], mode='lines'))\n",
    "    return fig\n",
    "\n",
    "fig = vis(sample_pop[0])\n",
    "fig.show()"
   ]
  },
  {
   "cell_type": "markdown",
   "metadata": {},
   "source": [
    "### Save your static configurations\n",
    "\n",
    "If you are satisfied with your evaluation function, save it to your configurations"
   ]
  },
  {
   "cell_type": "code",
   "execution_count": 21,
   "metadata": {
    "pycharm": {
     "name": "#%%\n"
    }
   },
   "outputs": [],
   "source": [
    "configs.fit_eval = eval"
   ]
  },
  {
   "cell_type": "markdown",
   "metadata": {},
   "source": [
    "### Run the application"
   ]
  },
  {
   "cell_type": "code",
   "execution_count": 4,
   "metadata": {
    "collapsed": false,
    "jupyter": {
     "outputs_hidden": false
    },
    "pycharm": {
     "name": "#%%\n"
    }
   },
   "outputs": [
    {
     "name": "stdout",
     "output_type": "stream",
     "text": [
      "Dash app running on http://127.0.0.1:8889/\n"
     ]
    }
   ],
   "source": [
    "main_app = app_file.create_app()\n",
    "main_app.run_server(port=8889)"
   ]
  },
  {
   "cell_type": "code",
   "execution_count": null,
   "metadata": {},
   "outputs": [],
   "source": []
  }
 ],
 "metadata": {
  "jupytext": {
   "formats": "ipynb,py:percent"
  },
  "kernelspec": {
   "display_name": "Python 3",
   "language": "python",
   "name": "python3"
  },
  "language_info": {
   "codemirror_mode": {
    "name": "ipython",
    "version": 3
   },
   "file_extension": ".py",
   "mimetype": "text/x-python",
   "name": "python",
   "nbconvert_exporter": "python",
   "pygments_lexer": "ipython3",
   "version": "3.8.2"
  }
 },
 "nbformat": 4,
 "nbformat_minor": 4
}
